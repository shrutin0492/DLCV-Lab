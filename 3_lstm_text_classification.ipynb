{
  "nbformat": 4,
  "nbformat_minor": 0,
  "metadata": {
    "colab": {
      "provenance": [],
      "authorship_tag": "ABX9TyOcgu+TUpMNsnGL7tjkXPJv",
      "include_colab_link": true
    },
    "kernelspec": {
      "name": "python3",
      "display_name": "Python 3"
    },
    "language_info": {
      "name": "python"
    }
  },
  "cells": [
    {
      "cell_type": "markdown",
      "metadata": {
        "id": "view-in-github",
        "colab_type": "text"
      },
      "source": [
        "<a href=\"https://colab.research.google.com/github/shrutin11/Deep-Learning-and-Computer-Vision-Lab/blob/main/3_lstm_text_classification.ipynb\" target=\"_parent\"><img src=\"https://colab.research.google.com/assets/colab-badge.svg\" alt=\"Open In Colab\"/></a>"
      ]
    },
    {
      "cell_type": "code",
      "execution_count": 4,
      "metadata": {
        "colab": {
          "base_uri": "https://localhost:8080/",
          "height": 1000
        },
        "id": "-UrBX-rlye78",
        "outputId": "d9826211-a3ae-4c3e-929a-70ca43b60826"
      },
      "outputs": [
        {
          "output_type": "stream",
          "name": "stdout",
          "text": [
            "Model: \"model\"\n",
            "_________________________________________________________________\n",
            " Layer (type)                Output Shape              Param #   \n",
            "=================================================================\n",
            " inputs (InputLayer)         [(None, 150)]             0         \n",
            "                                                                 \n",
            " embedding (Embedding)       (None, 150, 50)           50000     \n",
            "                                                                 \n",
            " lstm (LSTM)                 (None, 64)                29440     \n",
            "                                                                 \n",
            " FC1 (Dense)                 (None, 256)               16640     \n",
            "                                                                 \n",
            " activation (Activation)     (None, 256)               0         \n",
            "                                                                 \n",
            " dropout (Dropout)           (None, 256)               0         \n",
            "                                                                 \n",
            " out_layer (Dense)           (None, 1)                 257       \n",
            "                                                                 \n",
            " activation_1 (Activation)   (None, 1)                 0         \n",
            "                                                                 \n",
            "=================================================================\n",
            "Total params: 96337 (376.32 KB)\n",
            "Trainable params: 96337 (376.32 KB)\n",
            "Non-trainable params: 0 (0.00 Byte)\n",
            "_________________________________________________________________\n",
            "Epoch 1/10\n",
            "30/30 [==============================] - 13s 307ms/step - loss: 0.3862 - accuracy: 0.8646 - val_loss: 0.2733 - val_accuracy: 0.9525\n",
            "Epoch 2/10\n",
            "30/30 [==============================] - 7s 223ms/step - loss: 0.1646 - accuracy: 0.9543 - val_loss: 0.1042 - val_accuracy: 0.9800\n",
            "Epoch 3/10\n",
            "30/30 [==============================] - 9s 294ms/step - loss: 0.0697 - accuracy: 0.9823 - val_loss: 0.0732 - val_accuracy: 0.9747\n",
            "Epoch 4/10\n",
            "30/30 [==============================] - 8s 267ms/step - loss: 0.0460 - accuracy: 0.9868 - val_loss: 0.0656 - val_accuracy: 0.9810\n",
            "Epoch 5/10\n",
            "30/30 [==============================] - 7s 231ms/step - loss: 0.0380 - accuracy: 0.9894 - val_loss: 0.0535 - val_accuracy: 0.9842\n",
            "Epoch 6/10\n",
            "30/30 [==============================] - 9s 288ms/step - loss: 0.0264 - accuracy: 0.9931 - val_loss: 0.0558 - val_accuracy: 0.9831\n",
            "27/27 [==============================] - 1s 35ms/step - loss: 0.0593 - accuracy: 0.9856\n",
            "Test set\n",
            " Loss: 0.059\n",
            " Accuracy: 0.986\n"
          ]
        },
        {
          "output_type": "display_data",
          "data": {
            "text/plain": [
              "<Figure size 640x480 with 1 Axes>"
            ],
            "image/png": "[encoded data removed]"
          },
          "metadata": {}
        }
      ],
      "source": [
        "import pandas as pd\n",
        "import numpy as np\n",
        "import matplotlib.pyplot as plt\n",
        "import seaborn as sns\n",
        "from sklearn.model_selection import train_test_split\n",
        "from sklearn.preprocessing import LabelEncoder\n",
        "from keras.models import Model\n",
        "from keras.layers import LSTM, Activation, Dense, Dropout, Input, Embedding\n",
        "from keras.optimizers import RMSprop\n",
        "from keras.preprocessing.text import Tokenizer\n",
        "from keras.preprocessing import sequence\n",
        "from keras.utils import to_categorical\n",
        "from keras.callbacks import EarlyStopping\n",
        "\n",
        "# Ensure matplotlib inline mode works in Jupyter notebooks\n",
        "%matplotlib inline\n",
        "\n",
        "# Load dataset\n",
        "df = pd.read_csv('/content/spam.csv', delimiter=',', encoding='latin-1')\n",
        "\n",
        "# Display first few rows of the dataset\n",
        "df.head()\n",
        "\n",
        "# Plot distribution of labels\n",
        "sns.countplot(df.v1)\n",
        "plt.xlabel('Label')\n",
        "plt.title('Number of ham and spam messages')\n",
        "\n",
        "# Prepare input and output data\n",
        "X = df.v2\n",
        "Y = df.v1\n",
        "le = LabelEncoder()\n",
        "Y = le.fit_transform(Y)\n",
        "Y = Y.reshape(-1, 1)\n",
        "\n",
        "# Split data into training and testing sets\n",
        "X_train, X_test, Y_train, Y_test = train_test_split(X, Y, test_size=0.15)\n",
        "\n",
        "# Tokenize and pad sequences\n",
        "max_words = 1000\n",
        "max_len = 150\n",
        "tok = Tokenizer(num_words=max_words)\n",
        "tok.fit_on_texts(X_train)\n",
        "sequences = tok.texts_to_sequences(X_train)\n",
        "sequences_matrix = sequence.pad_sequences(sequences, maxlen=max_len)\n",
        "\n",
        "# Define RNN model\n",
        "def RNN():\n",
        "    inputs = Input(name='inputs', shape=[max_len])\n",
        "    layer = Embedding(max_words, 50, input_length=max_len)(inputs)\n",
        "    layer = LSTM(64)(layer)\n",
        "    layer = Dense(256, name='FC1')(layer)\n",
        "    layer = Activation('relu')(layer)\n",
        "    layer = Dropout(0.5)(layer)\n",
        "    layer = Dense(1, name='out_layer')(layer)\n",
        "    layer = Activation('sigmoid')(layer)\n",
        "    model = Model(inputs=inputs, outputs=layer)\n",
        "    return model\n",
        "\n",
        "# Instantiate and compile the model\n",
        "model = RNN()\n",
        "model.summary()\n",
        "model.compile(loss='binary_crossentropy', optimizer=RMSprop(), metrics=['accuracy'])\n",
        "\n",
        "# Train the model\n",
        "model.fit(sequences_matrix, Y_train, batch_size=128, epochs=10,\n",
        "          validation_split=0.2, callbacks=[EarlyStopping(monitor='val_loss', min_delta=0.0001)])\n",
        "\n",
        "# Prepare test data and evaluate the model\n",
        "test_sequences = tok.texts_to_sequences(X_test)\n",
        "test_sequences_matrix = sequence.pad_sequences(test_sequences, maxlen=max_len)\n",
        "accr = model.evaluate(test_sequences_matrix, Y_test)\n",
        "print('Test set\\n Loss: {:0.3f}\\n Accuracy: {:0.3f}'.format(accr[0], accr[1]))\n"
      ]
    }
  ]
}