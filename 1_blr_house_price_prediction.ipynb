{
  "cells": [
    {
      "cell_type": "markdown",
      "metadata": {
        "id": "view-in-github",
        "colab_type": "text"
      },
      "source": [
        "<a href=\"https://colab.research.google.com/github/shrutin0492/Deep-Learning-and-Computer-Vision-Lab/blob/main/1_blr_house_price_prediction.ipynb\" target=\"_parent\"><img src=\"https://colab.research.google.com/assets/colab-badge.svg\" alt=\"Open In Colab\"/></a>"
      ]
    },
    {
      "cell_type": "code",
      "execution_count": 1,
      "id": "3d152d25",
      "metadata": {
        "id": "3d152d25"
      },
      "outputs": [],
      "source": [
        "import numpy as np\n",
        "import pandas as pd"
      ]
    },
    {
      "cell_type": "code",
      "source": [
        "from google.colab import drive\n",
        "drive.mount('/content/drive')"
      ],
      "metadata": {
        "colab": {
          "base_uri": "https://localhost:8080/"
        },
        "id": "a20ILN3aAXAx",
        "outputId": "acad5992-9b3b-442d-d844-aea2280b1861"
      },
      "id": "a20ILN3aAXAx",
      "execution_count": 2,
      "outputs": [
        {
          "output_type": "stream",
          "name": "stdout",
          "text": [
            "Mounted at /content/drive\n"
          ]
        }
      ]
    },
    {
      "cell_type": "code",
      "execution_count": 3,
      "id": "7b8d61a5",
      "metadata": {
        "id": "7b8d61a5"
      },
      "outputs": [],
      "source": [
        "path = \"/content/drive/MyDrive/dlcv_lab/Exp1/bengaluru_house_prices.csv\"\n",
        "data = pd.read_csv(path)"
      ]
    },
    {
      "cell_type": "code",
      "execution_count": null,
      "id": "9703af0f",
      "metadata": {
        "id": "9703af0f",
        "outputId": "41f8d499-a149-47a4-c7ae-d9d08cd83678"
      },
      "outputs": [
        {
          "data": {
            "text/html": [
              "<div>\n",
              "<style scoped>\n",
              "    .dataframe tbody tr th:only-of-type {\n",
              "        vertical-align: middle;\n",
              "    }\n",
              "\n",
              "    .dataframe tbody tr th {\n",
              "        vertical-align: top;\n",
              "    }\n",
              "\n",
              "    .dataframe thead th {\n",
              "        text-align: right;\n",
              "    }\n",
              "</style>\n",
              "<table border=\"1\" class=\"dataframe\">\n",
              "  <thead>\n",
              "    <tr style=\"text-align: right;\">\n",
              "      <th></th>\n",
              "      <th>area_type</th>\n",
              "      <th>availability</th>\n",
              "      <th>location</th>\n",
              "      <th>size</th>\n",
              "      <th>society</th>\n",
              "      <th>total_sqft</th>\n",
              "      <th>bath</th>\n",
              "      <th>balcony</th>\n",
              "      <th>price</th>\n",
              "    </tr>\n",
              "  </thead>\n",
              "  <tbody>\n",
              "    <tr>\n",
              "      <th>0</th>\n",
              "      <td>Super built-up  Area</td>\n",
              "      <td>19-Dec</td>\n",
              "      <td>Electronic City Phase II</td>\n",
              "      <td>2 BHK</td>\n",
              "      <td>Coomee</td>\n",
              "      <td>1056</td>\n",
              "      <td>2.0</td>\n",
              "      <td>1.0</td>\n",
              "      <td>39.07</td>\n",
              "    </tr>\n",
              "    <tr>\n",
              "      <th>1</th>\n",
              "      <td>Plot  Area</td>\n",
              "      <td>Ready To Move</td>\n",
              "      <td>Chikka Tirupathi</td>\n",
              "      <td>4 Bedroom</td>\n",
              "      <td>Theanmp</td>\n",
              "      <td>2600</td>\n",
              "      <td>5.0</td>\n",
              "      <td>3.0</td>\n",
              "      <td>120.00</td>\n",
              "    </tr>\n",
              "    <tr>\n",
              "      <th>2</th>\n",
              "      <td>Built-up  Area</td>\n",
              "      <td>Ready To Move</td>\n",
              "      <td>Uttarahalli</td>\n",
              "      <td>3 BHK</td>\n",
              "      <td>NaN</td>\n",
              "      <td>1440</td>\n",
              "      <td>2.0</td>\n",
              "      <td>3.0</td>\n",
              "      <td>62.00</td>\n",
              "    </tr>\n",
              "    <tr>\n",
              "      <th>3</th>\n",
              "      <td>Super built-up  Area</td>\n",
              "      <td>Ready To Move</td>\n",
              "      <td>Lingadheeranahalli</td>\n",
              "      <td>3 BHK</td>\n",
              "      <td>Soiewre</td>\n",
              "      <td>1521</td>\n",
              "      <td>3.0</td>\n",
              "      <td>1.0</td>\n",
              "      <td>95.00</td>\n",
              "    </tr>\n",
              "    <tr>\n",
              "      <th>4</th>\n",
              "      <td>Super built-up  Area</td>\n",
              "      <td>Ready To Move</td>\n",
              "      <td>Kothanur</td>\n",
              "      <td>2 BHK</td>\n",
              "      <td>NaN</td>\n",
              "      <td>1200</td>\n",
              "      <td>2.0</td>\n",
              "      <td>1.0</td>\n",
              "      <td>51.00</td>\n",
              "    </tr>\n",
              "  </tbody>\n",
              "</table>\n",
              "</div>"
            ],
            "text/plain": [
              "              area_type   availability                  location       size  \\\n",
              "0  Super built-up  Area         19-Dec  Electronic City Phase II      2 BHK   \n",
              "1            Plot  Area  Ready To Move          Chikka Tirupathi  4 Bedroom   \n",
              "2        Built-up  Area  Ready To Move               Uttarahalli      3 BHK   \n",
              "3  Super built-up  Area  Ready To Move        Lingadheeranahalli      3 BHK   \n",
              "4  Super built-up  Area  Ready To Move                  Kothanur      2 BHK   \n",
              "\n",
              "   society total_sqft  bath  balcony   price  \n",
              "0  Coomee        1056   2.0      1.0   39.07  \n",
              "1  Theanmp       2600   5.0      3.0  120.00  \n",
              "2      NaN       1440   2.0      3.0   62.00  \n",
              "3  Soiewre       1521   3.0      1.0   95.00  \n",
              "4      NaN       1200   2.0      1.0   51.00  "
            ]
          },
          "execution_count": 3,
          "metadata": {},
          "output_type": "execute_result"
        }
      ],
      "source": [
        "data.head()"
      ]
    },
    {
      "cell_type": "code",
      "execution_count": null,
      "id": "ecd9ee19",
      "metadata": {
        "id": "ecd9ee19",
        "outputId": "dee40867-b38f-4a20-b47a-709dd98dc700"
      },
      "outputs": [
        {
          "data": {
            "text/plain": [
              "Index(['area_type', 'availability', 'location', 'size', 'society',\n",
              "       'total_sqft', 'bath', 'balcony', 'price'],\n",
              "      dtype='object')"
            ]
          },
          "execution_count": 4,
          "metadata": {},
          "output_type": "execute_result"
        }
      ],
      "source": [
        "data.columns"
      ]
    },
    {
      "cell_type": "code",
      "execution_count": null,
      "id": "10032b5f",
      "metadata": {
        "id": "10032b5f",
        "outputId": "e6b8625e-8eb8-4104-882e-22e7e5710a20"
      },
      "outputs": [
        {
          "data": {
            "text/plain": [
              "area_type          0\n",
              "availability       0\n",
              "location           1\n",
              "size              16\n",
              "society         5502\n",
              "total_sqft         0\n",
              "bath              73\n",
              "balcony          609\n",
              "price              0\n",
              "dtype: int64"
            ]
          },
          "execution_count": 5,
          "metadata": {},
          "output_type": "execute_result"
        }
      ],
      "source": [
        "data.isnull().sum()"
      ]
    },
    {
      "cell_type": "code",
      "execution_count": null,
      "id": "47465f4e",
      "metadata": {
        "id": "47465f4e"
      },
      "outputs": [],
      "source": [
        "import matplotlib.pyplot as plt"
      ]
    },
    {
      "cell_type": "code",
      "execution_count": null,
      "id": "c8532c59",
      "metadata": {
        "id": "c8532c59"
      },
      "outputs": [],
      "source": [
        "data = data.drop('society',axis=1)"
      ]
    },
    {
      "cell_type": "code",
      "execution_count": null,
      "id": "ce4e02fa",
      "metadata": {
        "id": "ce4e02fa"
      },
      "outputs": [],
      "source": [
        "data = data.drop('availability',axis=1)"
      ]
    },
    {
      "cell_type": "code",
      "execution_count": null,
      "id": "927d3d1c",
      "metadata": {
        "id": "927d3d1c",
        "outputId": "86476f92-eb39-439c-caa0-d3d69d739b42"
      },
      "outputs": [
        {
          "data": {
            "text/plain": [
              "Index(['area_type', 'location', 'size', 'total_sqft', 'bath', 'balcony',\n",
              "       'price'],\n",
              "      dtype='object')"
            ]
          },
          "execution_count": 9,
          "metadata": {},
          "output_type": "execute_result"
        }
      ],
      "source": [
        "data.columns"
      ]
    },
    {
      "cell_type": "code",
      "execution_count": null,
      "id": "c068e252",
      "metadata": {
        "id": "c068e252"
      },
      "outputs": [],
      "source": [
        "ac_sq = data['total_sqft']"
      ]
    },
    {
      "cell_type": "code",
      "execution_count": null,
      "id": "e4ff5d9b",
      "metadata": {
        "id": "e4ff5d9b"
      },
      "outputs": [],
      "source": [
        "num = ['1','2','3','4','5','6','7','8','9','0']\n",
        "sqft =[]\n",
        "for i in ac_sq:\n",
        "    i = i.strip()\n",
        "    i = i[:4]\n",
        "    i = i.strip()\n",
        "    sqft.append(i)"
      ]
    },
    {
      "cell_type": "code",
      "execution_count": null,
      "id": "ded1cf5d",
      "metadata": {
        "id": "ded1cf5d"
      },
      "outputs": [],
      "source": [
        "No_of_sqft = []\n",
        "for i in sqft:\n",
        "    val = 0\n",
        "    for j in range(0,len(i)):\n",
        "\n",
        "        if i[j] in num:\n",
        "            val *= 10\n",
        "            n = int(i[j])\n",
        "            val = val+n\n",
        "        elif i[j] == '.':\n",
        "            break\n",
        "        else:\n",
        "            val *= 10\n",
        "    No_of_sqft.append(val)"
      ]
    },
    {
      "cell_type": "code",
      "execution_count": null,
      "id": "c19e1b30",
      "metadata": {
        "id": "c19e1b30",
        "outputId": "b322e665-56bd-454a-ff59-58cc1f1d4a30"
      },
      "outputs": [
        {
          "data": {
            "text/plain": [
              "13320"
            ]
          },
          "execution_count": 13,
          "metadata": {},
          "output_type": "execute_result"
        }
      ],
      "source": [
        "len(No_of_sqft)"
      ]
    },
    {
      "cell_type": "code",
      "execution_count": null,
      "id": "b691a1b9",
      "metadata": {
        "id": "b691a1b9"
      },
      "outputs": [],
      "source": [
        "data['No_of_sqft'] = pd.DataFrame(No_of_sqft)"
      ]
    },
    {
      "cell_type": "code",
      "execution_count": null,
      "id": "2409f7be",
      "metadata": {
        "id": "2409f7be",
        "outputId": "169c77ff-43d9-46e6-944e-fd34ed32e780"
      },
      "outputs": [
        {
          "data": {
            "text/html": [
              "<div>\n",
              "<style scoped>\n",
              "    .dataframe tbody tr th:only-of-type {\n",
              "        vertical-align: middle;\n",
              "    }\n",
              "\n",
              "    .dataframe tbody tr th {\n",
              "        vertical-align: top;\n",
              "    }\n",
              "\n",
              "    .dataframe thead th {\n",
              "        text-align: right;\n",
              "    }\n",
              "</style>\n",
              "<table border=\"1\" class=\"dataframe\">\n",
              "  <thead>\n",
              "    <tr style=\"text-align: right;\">\n",
              "      <th></th>\n",
              "      <th>area_type</th>\n",
              "      <th>location</th>\n",
              "      <th>size</th>\n",
              "      <th>total_sqft</th>\n",
              "      <th>bath</th>\n",
              "      <th>balcony</th>\n",
              "      <th>price</th>\n",
              "      <th>No_of_sqft</th>\n",
              "    </tr>\n",
              "  </thead>\n",
              "  <tbody>\n",
              "    <tr>\n",
              "      <th>0</th>\n",
              "      <td>Super built-up  Area</td>\n",
              "      <td>Electronic City Phase II</td>\n",
              "      <td>2 BHK</td>\n",
              "      <td>1056</td>\n",
              "      <td>2.0</td>\n",
              "      <td>1.0</td>\n",
              "      <td>39.07</td>\n",
              "      <td>1056</td>\n",
              "    </tr>\n",
              "    <tr>\n",
              "      <th>1</th>\n",
              "      <td>Plot  Area</td>\n",
              "      <td>Chikka Tirupathi</td>\n",
              "      <td>4 Bedroom</td>\n",
              "      <td>2600</td>\n",
              "      <td>5.0</td>\n",
              "      <td>3.0</td>\n",
              "      <td>120.00</td>\n",
              "      <td>2600</td>\n",
              "    </tr>\n",
              "    <tr>\n",
              "      <th>2</th>\n",
              "      <td>Built-up  Area</td>\n",
              "      <td>Uttarahalli</td>\n",
              "      <td>3 BHK</td>\n",
              "      <td>1440</td>\n",
              "      <td>2.0</td>\n",
              "      <td>3.0</td>\n",
              "      <td>62.00</td>\n",
              "      <td>1440</td>\n",
              "    </tr>\n",
              "    <tr>\n",
              "      <th>3</th>\n",
              "      <td>Super built-up  Area</td>\n",
              "      <td>Lingadheeranahalli</td>\n",
              "      <td>3 BHK</td>\n",
              "      <td>1521</td>\n",
              "      <td>3.0</td>\n",
              "      <td>1.0</td>\n",
              "      <td>95.00</td>\n",
              "      <td>1521</td>\n",
              "    </tr>\n",
              "    <tr>\n",
              "      <th>4</th>\n",
              "      <td>Super built-up  Area</td>\n",
              "      <td>Kothanur</td>\n",
              "      <td>2 BHK</td>\n",
              "      <td>1200</td>\n",
              "      <td>2.0</td>\n",
              "      <td>1.0</td>\n",
              "      <td>51.00</td>\n",
              "      <td>1200</td>\n",
              "    </tr>\n",
              "  </tbody>\n",
              "</table>\n",
              "</div>"
            ],
            "text/plain": [
              "              area_type                  location       size total_sqft  bath  \\\n",
              "0  Super built-up  Area  Electronic City Phase II      2 BHK       1056   2.0   \n",
              "1            Plot  Area          Chikka Tirupathi  4 Bedroom       2600   5.0   \n",
              "2        Built-up  Area               Uttarahalli      3 BHK       1440   2.0   \n",
              "3  Super built-up  Area        Lingadheeranahalli      3 BHK       1521   3.0   \n",
              "4  Super built-up  Area                  Kothanur      2 BHK       1200   2.0   \n",
              "\n",
              "   balcony   price  No_of_sqft  \n",
              "0      1.0   39.07        1056  \n",
              "1      3.0  120.00        2600  \n",
              "2      3.0   62.00        1440  \n",
              "3      1.0   95.00        1521  \n",
              "4      1.0   51.00        1200  "
            ]
          },
          "execution_count": 15,
          "metadata": {},
          "output_type": "execute_result"
        }
      ],
      "source": [
        "data.head()"
      ]
    },
    {
      "cell_type": "code",
      "execution_count": null,
      "id": "e7b818cf",
      "metadata": {
        "id": "e7b818cf"
      },
      "outputs": [],
      "source": [
        "data = data.drop('total_sqft',axis=1)"
      ]
    },
    {
      "cell_type": "code",
      "execution_count": null,
      "id": "511e517b",
      "metadata": {
        "id": "511e517b",
        "outputId": "905e8158-c1a6-484c-c76b-b56f1efb743d"
      },
      "outputs": [
        {
          "data": {
            "text/plain": [
              "<matplotlib.collections.PathCollection at 0x1a7018b1c70>"
            ]
          },
          "execution_count": 17,
          "metadata": {},
          "output_type": "execute_result"
        },
        {
          "data": {
            "image/png": "[encoded data removed]",
            "text/plain": [
              "<Figure size 432x288 with 1 Axes>"
            ]
          },
          "metadata": {
            "needs_background": "light"
          },
          "output_type": "display_data"
        }
      ],
      "source": [
        "plt.scatter(data['price'],data['No_of_sqft'])"
      ]
    },
    {
      "cell_type": "code",
      "execution_count": null,
      "id": "49218894",
      "metadata": {
        "id": "49218894",
        "outputId": "4dd25467-58e1-4997-d610-a97c4a3c0571"
      },
      "outputs": [
        {
          "data": {
            "text/html": [
              "<div>\n",
              "<style scoped>\n",
              "    .dataframe tbody tr th:only-of-type {\n",
              "        vertical-align: middle;\n",
              "    }\n",
              "\n",
              "    .dataframe tbody tr th {\n",
              "        vertical-align: top;\n",
              "    }\n",
              "\n",
              "    .dataframe thead th {\n",
              "        text-align: right;\n",
              "    }\n",
              "</style>\n",
              "<table border=\"1\" class=\"dataframe\">\n",
              "  <thead>\n",
              "    <tr style=\"text-align: right;\">\n",
              "      <th></th>\n",
              "      <th>area_type</th>\n",
              "      <th>location</th>\n",
              "      <th>size</th>\n",
              "      <th>bath</th>\n",
              "      <th>balcony</th>\n",
              "      <th>price</th>\n",
              "      <th>No_of_sqft</th>\n",
              "    </tr>\n",
              "  </thead>\n",
              "  <tbody>\n",
              "    <tr>\n",
              "      <th>13067</th>\n",
              "      <td>Plot  Area</td>\n",
              "      <td>Defence Colony</td>\n",
              "      <td>10 Bedroom</td>\n",
              "      <td>13.0</td>\n",
              "      <td>NaN</td>\n",
              "      <td>3600.0</td>\n",
              "      <td>7150</td>\n",
              "    </tr>\n",
              "    <tr>\n",
              "      <th>11080</th>\n",
              "      <td>Super built-up  Area</td>\n",
              "      <td>Ashok Nagar</td>\n",
              "      <td>4 BHK</td>\n",
              "      <td>5.0</td>\n",
              "      <td>2.0</td>\n",
              "      <td>2912.0</td>\n",
              "      <td>8321</td>\n",
              "    </tr>\n",
              "    <tr>\n",
              "      <th>13200</th>\n",
              "      <td>Plot  Area</td>\n",
              "      <td>Defence Colony</td>\n",
              "      <td>6 Bedroom</td>\n",
              "      <td>6.0</td>\n",
              "      <td>3.0</td>\n",
              "      <td>2800.0</td>\n",
              "      <td>8000</td>\n",
              "    </tr>\n",
              "    <tr>\n",
              "      <th>11763</th>\n",
              "      <td>Plot  Area</td>\n",
              "      <td>Sadashiva Nagar</td>\n",
              "      <td>5 Bedroom</td>\n",
              "      <td>7.0</td>\n",
              "      <td>2.0</td>\n",
              "      <td>2736.0</td>\n",
              "      <td>9600</td>\n",
              "    </tr>\n",
              "    <tr>\n",
              "      <th>3180</th>\n",
              "      <td>Super built-up  Area</td>\n",
              "      <td>Shanthala Nagar</td>\n",
              "      <td>5 BHK</td>\n",
              "      <td>5.0</td>\n",
              "      <td>3.0</td>\n",
              "      <td>2700.0</td>\n",
              "      <td>8321</td>\n",
              "    </tr>\n",
              "  </tbody>\n",
              "</table>\n",
              "</div>"
            ],
            "text/plain": [
              "                  area_type         location        size  bath  balcony  \\\n",
              "13067            Plot  Area   Defence Colony  10 Bedroom  13.0      NaN   \n",
              "11080  Super built-up  Area      Ashok Nagar       4 BHK   5.0      2.0   \n",
              "13200            Plot  Area   Defence Colony   6 Bedroom   6.0      3.0   \n",
              "11763            Plot  Area  Sadashiva Nagar   5 Bedroom   7.0      2.0   \n",
              "3180   Super built-up  Area  Shanthala Nagar       5 BHK   5.0      3.0   \n",
              "\n",
              "        price  No_of_sqft  \n",
              "13067  3600.0        7150  \n",
              "11080  2912.0        8321  \n",
              "13200  2800.0        8000  \n",
              "11763  2736.0        9600  \n",
              "3180   2700.0        8321  "
            ]
          },
          "execution_count": 18,
          "metadata": {},
          "output_type": "execute_result"
        }
      ],
      "source": [
        "data.sort_values('price',ascending=False).head()"
      ]
    },
    {
      "cell_type": "code",
      "execution_count": null,
      "id": "911f79ee",
      "metadata": {
        "id": "911f79ee"
      },
      "outputs": [],
      "source": [
        "df = data.sort_values('price',ascending=False).iloc[70:]"
      ]
    },
    {
      "cell_type": "code",
      "execution_count": null,
      "id": "ae515906",
      "metadata": {
        "id": "ae515906",
        "outputId": "6c3ecd90-cae6-4e40-b26e-553962573b4a"
      },
      "outputs": [
        {
          "data": {
            "text/plain": [
              "<matplotlib.collections.PathCollection at 0x1a70205a9d0>"
            ]
          },
          "execution_count": 20,
          "metadata": {},
          "output_type": "execute_result"
        },
        {
          "data": {
            "image/png": "[encoded data removed]",
            "text/plain": [
              "<Figure size 432x288 with 1 Axes>"
            ]
          },
          "metadata": {
            "needs_background": "light"
          },
          "output_type": "display_data"
        }
      ],
      "source": [
        "plt.scatter(df['price'],df['No_of_sqft'])"
      ]
    },
    {
      "cell_type": "code",
      "execution_count": null,
      "id": "2c0760f4",
      "metadata": {
        "id": "2c0760f4"
      },
      "outputs": [],
      "source": [
        "df = df.sort_values('No_of_sqft',ascending=False).iloc[30:]"
      ]
    },
    {
      "cell_type": "code",
      "execution_count": null,
      "id": "8f5eb2ad",
      "metadata": {
        "id": "8f5eb2ad",
        "outputId": "f23d0d48-e94c-4477-ac54-6388830e4323"
      },
      "outputs": [
        {
          "data": {
            "text/plain": [
              "<matplotlib.collections.PathCollection at 0x1a7020c3eb0>"
            ]
          },
          "execution_count": 22,
          "metadata": {},
          "output_type": "execute_result"
        },
        {
          "data": {
            "image/png": "[encoded data removed]",
            "text/plain": [
              "<Figure size 432x288 with 1 Axes>"
            ]
          },
          "metadata": {
            "needs_background": "light"
          },
          "output_type": "display_data"
        }
      ],
      "source": [
        "plt.scatter(df['price'],df['No_of_sqft'])"
      ]
    },
    {
      "cell_type": "code",
      "execution_count": null,
      "id": "c2986b35",
      "metadata": {
        "id": "c2986b35"
      },
      "outputs": [],
      "source": [
        "df = df.drop(['area_type','balcony'],axis=1)"
      ]
    },
    {
      "cell_type": "code",
      "execution_count": null,
      "id": "04f17b23",
      "metadata": {
        "id": "04f17b23",
        "outputId": "1c3b5179-17af-4ed4-ff6f-2260dfa0ea81"
      },
      "outputs": [
        {
          "data": {
            "text/plain": [
              "location       1\n",
              "size          16\n",
              "bath          73\n",
              "price          0\n",
              "No_of_sqft     0\n",
              "dtype: int64"
            ]
          },
          "execution_count": 24,
          "metadata": {},
          "output_type": "execute_result"
        }
      ],
      "source": [
        "df.isnull().sum()"
      ]
    },
    {
      "cell_type": "code",
      "execution_count": null,
      "id": "43d257f9",
      "metadata": {
        "id": "43d257f9"
      },
      "outputs": [],
      "source": [
        "df =df.dropna()"
      ]
    },
    {
      "cell_type": "code",
      "execution_count": null,
      "id": "658f58b8",
      "metadata": {
        "id": "658f58b8",
        "outputId": "cf86f8e2-e00e-4e90-b512-5f35988ea34b"
      },
      "outputs": [
        {
          "data": {
            "text/plain": [
              "location      0\n",
              "size          0\n",
              "bath          0\n",
              "price         0\n",
              "No_of_sqft    0\n",
              "dtype: int64"
            ]
          },
          "execution_count": 26,
          "metadata": {},
          "output_type": "execute_result"
        }
      ],
      "source": [
        "df.isnull().sum()"
      ]
    },
    {
      "cell_type": "code",
      "execution_count": null,
      "id": "a45ab659",
      "metadata": {
        "id": "a45ab659",
        "outputId": "b9df8a4c-03e9-4992-f08c-8a96538500aa"
      },
      "outputs": [
        {
          "data": {
            "text/plain": [
              "13226    8 Bedroom\n",
              "7979        11 BHK\n",
              "5641     4 Bedroom\n",
              "11615    3 Bedroom\n",
              "10765    4 Bedroom\n",
              "           ...    \n",
              "1019     1 Bedroom\n",
              "6333     2 Bedroom\n",
              "7726     1 Bedroom\n",
              "4086     4 Bedroom\n",
              "10488    2 Bedroom\n",
              "Name: size, Length: 13146, dtype: object"
            ]
          },
          "execution_count": 27,
          "metadata": {},
          "output_type": "execute_result"
        }
      ],
      "source": [
        "df['size']"
      ]
    },
    {
      "cell_type": "code",
      "execution_count": null,
      "id": "4be3c453",
      "metadata": {
        "id": "4be3c453"
      },
      "outputs": [],
      "source": [
        "w = df['size']\n",
        "k = []\n",
        "for j in w:\n",
        "    j = str(j)\n",
        "    j = j.strip()\n",
        "    if j[0] in num:\n",
        "        k.append(int(j[0]))\n",
        "    else:\n",
        "        k.append(None)"
      ]
    },
    {
      "cell_type": "code",
      "execution_count": null,
      "id": "136af0fb",
      "metadata": {
        "id": "136af0fb"
      },
      "outputs": [],
      "source": [
        "df = df.drop('size',axis=1)"
      ]
    },
    {
      "cell_type": "code",
      "execution_count": null,
      "id": "872d8c79",
      "metadata": {
        "id": "872d8c79"
      },
      "outputs": [],
      "source": [
        "df['size'] = pd.DataFrame(k)"
      ]
    },
    {
      "cell_type": "code",
      "execution_count": null,
      "id": "97000a69",
      "metadata": {
        "id": "97000a69",
        "outputId": "9b7dbb23-a7e9-4728-c4b1-50da9cac7706"
      },
      "outputs": [
        {
          "data": {
            "text/html": [
              "<div>\n",
              "<style scoped>\n",
              "    .dataframe tbody tr th:only-of-type {\n",
              "        vertical-align: middle;\n",
              "    }\n",
              "\n",
              "    .dataframe tbody tr th {\n",
              "        vertical-align: top;\n",
              "    }\n",
              "\n",
              "    .dataframe thead th {\n",
              "        text-align: right;\n",
              "    }\n",
              "</style>\n",
              "<table border=\"1\" class=\"dataframe\">\n",
              "  <thead>\n",
              "    <tr style=\"text-align: right;\">\n",
              "      <th></th>\n",
              "      <th>location</th>\n",
              "      <th>bath</th>\n",
              "      <th>price</th>\n",
              "      <th>No_of_sqft</th>\n",
              "      <th>size</th>\n",
              "    </tr>\n",
              "  </thead>\n",
              "  <tbody>\n",
              "    <tr>\n",
              "      <th>13226</th>\n",
              "      <td>Raja Rajeshwari Nagar</td>\n",
              "      <td>8.0</td>\n",
              "      <td>215.0</td>\n",
              "      <td>6000</td>\n",
              "      <td>NaN</td>\n",
              "    </tr>\n",
              "    <tr>\n",
              "      <th>7979</th>\n",
              "      <td>1 Immadihalli</td>\n",
              "      <td>12.0</td>\n",
              "      <td>150.0</td>\n",
              "      <td>6000</td>\n",
              "      <td>3.0</td>\n",
              "    </tr>\n",
              "    <tr>\n",
              "      <th>5641</th>\n",
              "      <td>Electronic City Phase II</td>\n",
              "      <td>4.0</td>\n",
              "      <td>260.0</td>\n",
              "      <td>6000</td>\n",
              "      <td>2.0</td>\n",
              "    </tr>\n",
              "    <tr>\n",
              "      <th>11615</th>\n",
              "      <td>arudi</td>\n",
              "      <td>2.0</td>\n",
              "      <td>80.0</td>\n",
              "      <td>6000</td>\n",
              "      <td>2.0</td>\n",
              "    </tr>\n",
              "    <tr>\n",
              "      <th>10765</th>\n",
              "      <td>Whitefield</td>\n",
              "      <td>4.0</td>\n",
              "      <td>410.0</td>\n",
              "      <td>6000</td>\n",
              "      <td>2.0</td>\n",
              "    </tr>\n",
              "  </tbody>\n",
              "</table>\n",
              "</div>"
            ],
            "text/plain": [
              "                       location  bath  price  No_of_sqft  size\n",
              "13226     Raja Rajeshwari Nagar   8.0  215.0        6000   NaN\n",
              "7979              1 Immadihalli  12.0  150.0        6000   3.0\n",
              "5641   Electronic City Phase II   4.0  260.0        6000   2.0\n",
              "11615                     arudi   2.0   80.0        6000   2.0\n",
              "10765                Whitefield   4.0  410.0        6000   2.0"
            ]
          },
          "execution_count": 32,
          "metadata": {},
          "output_type": "execute_result"
        }
      ],
      "source": [
        "df.head()"
      ]
    },
    {
      "cell_type": "code",
      "execution_count": null,
      "id": "858e3427",
      "metadata": {
        "id": "858e3427",
        "outputId": "b86cbb0d-6f6b-457b-f071-a005f98d5584"
      },
      "outputs": [
        {
          "data": {
            "text/plain": [
              "location        0\n",
              "bath            0\n",
              "price           0\n",
              "No_of_sqft      0\n",
              "size          171\n",
              "dtype: int64"
            ]
          },
          "execution_count": 33,
          "metadata": {},
          "output_type": "execute_result"
        }
      ],
      "source": [
        "df.isnull().sum()"
      ]
    },
    {
      "cell_type": "code",
      "execution_count": null,
      "id": "137b8cf7",
      "metadata": {
        "id": "137b8cf7"
      },
      "outputs": [],
      "source": [
        "df = df.dropna()"
      ]
    },
    {
      "cell_type": "code",
      "execution_count": null,
      "id": "2bb54eee",
      "metadata": {
        "id": "2bb54eee",
        "outputId": "b23232a1-7af2-4fbd-c5bc-d01b30b5d1e4"
      },
      "outputs": [
        {
          "data": {
            "text/plain": [
              "location      0\n",
              "bath          0\n",
              "price         0\n",
              "No_of_sqft    0\n",
              "size          0\n",
              "dtype: int64"
            ]
          },
          "execution_count": 35,
          "metadata": {},
          "output_type": "execute_result"
        }
      ],
      "source": [
        "df.isnull().sum()"
      ]
    },
    {
      "cell_type": "code",
      "execution_count": null,
      "id": "d14604dc",
      "metadata": {
        "id": "d14604dc",
        "outputId": "3455a8a5-5007-4538-e02b-b39daf672325"
      },
      "outputs": [
        {
          "data": {
            "text/plain": [
              "12975"
            ]
          },
          "execution_count": 37,
          "metadata": {},
          "output_type": "execute_result"
        }
      ],
      "source": [
        "len(df)"
      ]
    },
    {
      "cell_type": "code",
      "execution_count": null,
      "id": "bd7c4f9a",
      "metadata": {
        "id": "bd7c4f9a",
        "outputId": "5d119c9d-9102-4a60-dbc7-d13b4382561f"
      },
      "outputs": [
        {
          "data": {
            "text/plain": [
              "array(['1 Immadihalli', 'Electronic City Phase II', 'arudi', ...,\n",
              "       'Grihalakshmi Layout', 'Marathi Layout',\n",
              "       '2 Bedroom Furnished Farm House in Kolar Road'], dtype=object)"
            ]
          },
          "execution_count": 39,
          "metadata": {},
          "output_type": "execute_result"
        }
      ],
      "source": [
        "df['location'].unique()"
      ]
    },
    {
      "cell_type": "code",
      "execution_count": null,
      "id": "a0a2001b",
      "metadata": {
        "id": "a0a2001b"
      },
      "outputs": [],
      "source": [
        "location_count = df.groupby('location')['location'].agg('count').sort_values(ascending = False)"
      ]
    },
    {
      "cell_type": "code",
      "execution_count": null,
      "id": "84cc908f",
      "metadata": {
        "id": "84cc908f",
        "outputId": "2797033b-4c6f-466d-edee-d293c6356b7b"
      },
      "outputs": [
        {
          "data": {
            "text/plain": [
              "location\n",
              "Whitefield              525\n",
              "Sarjapur  Road          380\n",
              "Electronic City         298\n",
              "Kanakpura Road          265\n",
              "Thanisandra             231\n",
              "                       ... \n",
              "Kanakadasa Layout         1\n",
              "Kanakapur main road       1\n",
              "Kanakapura  Rod           1\n",
              "Kanakapura Main Road      1\n",
              "whitefiled                1\n",
              "Name: location, Length: 1291, dtype: int64"
            ]
          },
          "execution_count": 41,
          "metadata": {},
          "output_type": "execute_result"
        }
      ],
      "source": [
        "location_count"
      ]
    },
    {
      "cell_type": "code",
      "execution_count": null,
      "id": "5b56ac95",
      "metadata": {
        "id": "5b56ac95",
        "outputId": "ee09e51d-5ad5-473c-d6ca-705f65a1a85b"
      },
      "outputs": [
        {
          "data": {
            "text/plain": [
              "location\n",
              "Ambedkar Nagar          29\n",
              "Dodda Nekkundi          29\n",
              "BTM 2nd Stage           29\n",
              "Kammasandra             29\n",
              "Kudlu                   28\n",
              "                        ..\n",
              "Kanakadasa Layout        1\n",
              "Kanakapur main road      1\n",
              "Kanakapura  Rod          1\n",
              "Kanakapura Main Road     1\n",
              "whitefiled               1\n",
              "Name: location, Length: 1193, dtype: int64"
            ]
          },
          "execution_count": 42,
          "metadata": {},
          "output_type": "execute_result"
        }
      ],
      "source": [
        "less = location_count[location_count < 30]\n",
        "less"
      ]
    },
    {
      "cell_type": "code",
      "execution_count": null,
      "id": "564845cd",
      "metadata": {
        "id": "564845cd"
      },
      "outputs": [],
      "source": [
        "df.location = df['location'].apply(lambda x: 'other' if x in less else x)"
      ]
    },
    {
      "cell_type": "code",
      "execution_count": null,
      "id": "213540ca",
      "metadata": {
        "id": "213540ca",
        "outputId": "109b3db3-ecfd-4758-d5ef-14de7fa78a09"
      },
      "outputs": [
        {
          "data": {
            "text/plain": [
              "array(['other', 'Electronic City Phase II', 'Whitefield', 'Koramangala',\n",
              "       'Hebbal', 'Sarjapur  Road', 'Hennur Road', 'Frazer Town', 'Jakkur',\n",
              "       '7th Phase JP Nagar', 'Devanahalli', '9th Phase JP Nagar',\n",
              "       'Rajaji Nagar', 'Hormavu', 'Tumkur Road', 'Chandapura',\n",
              "       'TC Palaya', 'Raja Rajeshwari Nagar', 'Bannerghatta Road',\n",
              "       'Vidyaranyapura', 'Haralur Road', 'KR Puram', 'Hosakerehalli',\n",
              "       'Old Madras Road', 'Varthur', 'Uttarahalli', 'Kasavanhalli',\n",
              "       'Sarjapur', 'Yelahanka', 'Thigalarapalya', 'Channasandra',\n",
              "       'Bellandur', 'Ramagondanahalli', 'HSR Layout',\n",
              "       'Kengeri Satellite Town', 'Marathahalli', 'JP Nagar',\n",
              "       'Indira Nagar', 'Kothanur', 'Kadugodi', 'Electronic City',\n",
              "       '5th Phase JP Nagar', 'Hebbal Kempapura', 'Kudlu Gate',\n",
              "       'Hegde Nagar', 'Ramamurthy Nagar', 'Brookefield', 'Thanisandra',\n",
              "       'Rachenahalli', 'Attibele', 'Hosur Road', 'R.T. Nagar',\n",
              "       'Yeshwanthpur', 'Banashankari', 'Hulimavu', 'Mahadevpura',\n",
              "       'Talaghattapura', 'Old Airport Road', 'Kengeri', 'Kanakpura Road',\n",
              "       'Harlur', 'Hoodi', '8th Phase JP Nagar', 'Green Glen Layout',\n",
              "       'Kumaraswami Layout', 'Jigani', 'Jalahalli', 'Kundalahalli',\n",
              "       'Lakshminarayana Pura', 'Malleshwaram', 'Gottigere',\n",
              "       'Kaggadasapura', 'Bommanahalli', 'Sahakara Nagar',\n",
              "       'Yelahanka New Town', 'Akshaya Nagar', 'Basavangudi', 'Hennur',\n",
              "       'Nagarbhavi', 'Hosa Road', 'Subramanyapura', 'Begur Road',\n",
              "       'Bhoganhalli', 'Horamavu Agara', 'Vijayanagar', 'Anekal',\n",
              "       'Mysore Road', 'Kanakapura', 'Vittasandra',\n",
              "       'Electronics City Phase 1', 'Budigere', 'CV Raman Nagar',\n",
              "       'Bommasandra', 'Kalena Agrahara', 'Panathur', 'Chikkalasandra',\n",
              "       'Balagere', 'Ananth Nagar', 'Bisuvanahalli'], dtype=object)"
            ]
          },
          "execution_count": 44,
          "metadata": {},
          "output_type": "execute_result"
        }
      ],
      "source": [
        "df['location'].unique()"
      ]
    },
    {
      "cell_type": "code",
      "execution_count": null,
      "id": "82fd197a",
      "metadata": {
        "id": "82fd197a",
        "outputId": "4bc22f09-7ffc-4ad8-f5c6-eb9916ddd1ed"
      },
      "outputs": [
        {
          "data": {
            "text/plain": [
              "99"
            ]
          },
          "execution_count": 45,
          "metadata": {},
          "output_type": "execute_result"
        }
      ],
      "source": [
        "len(df.location.unique())"
      ]
    },
    {
      "cell_type": "code",
      "execution_count": null,
      "id": "ebbde812",
      "metadata": {
        "id": "ebbde812",
        "outputId": "8380d1bd-bc71-49b4-b3f4-5c18c681b4d8"
      },
      "outputs": [
        {
          "data": {
            "text/html": [
              "<div>\n",
              "<style scoped>\n",
              "    .dataframe tbody tr th:only-of-type {\n",
              "        vertical-align: middle;\n",
              "    }\n",
              "\n",
              "    .dataframe tbody tr th {\n",
              "        vertical-align: top;\n",
              "    }\n",
              "\n",
              "    .dataframe thead th {\n",
              "        text-align: right;\n",
              "    }\n",
              "</style>\n",
              "<table border=\"1\" class=\"dataframe\">\n",
              "  <thead>\n",
              "    <tr style=\"text-align: right;\">\n",
              "      <th></th>\n",
              "      <th>location</th>\n",
              "      <th>bath</th>\n",
              "      <th>price</th>\n",
              "      <th>No_of_sqft</th>\n",
              "      <th>size</th>\n",
              "    </tr>\n",
              "  </thead>\n",
              "  <tbody>\n",
              "    <tr>\n",
              "      <th>7979</th>\n",
              "      <td>other</td>\n",
              "      <td>12.0</td>\n",
              "      <td>150.0</td>\n",
              "      <td>6000</td>\n",
              "      <td>3.0</td>\n",
              "    </tr>\n",
              "    <tr>\n",
              "      <th>5641</th>\n",
              "      <td>Electronic City Phase II</td>\n",
              "      <td>4.0</td>\n",
              "      <td>260.0</td>\n",
              "      <td>6000</td>\n",
              "      <td>2.0</td>\n",
              "    </tr>\n",
              "    <tr>\n",
              "      <th>11615</th>\n",
              "      <td>other</td>\n",
              "      <td>2.0</td>\n",
              "      <td>80.0</td>\n",
              "      <td>6000</td>\n",
              "      <td>2.0</td>\n",
              "    </tr>\n",
              "    <tr>\n",
              "      <th>10765</th>\n",
              "      <td>Whitefield</td>\n",
              "      <td>4.0</td>\n",
              "      <td>410.0</td>\n",
              "      <td>6000</td>\n",
              "      <td>2.0</td>\n",
              "    </tr>\n",
              "    <tr>\n",
              "      <th>7824</th>\n",
              "      <td>other</td>\n",
              "      <td>1.0</td>\n",
              "      <td>276.0</td>\n",
              "      <td>6000</td>\n",
              "      <td>5.0</td>\n",
              "    </tr>\n",
              "  </tbody>\n",
              "</table>\n",
              "</div>"
            ],
            "text/plain": [
              "                       location  bath  price  No_of_sqft  size\n",
              "7979                      other  12.0  150.0        6000   3.0\n",
              "5641   Electronic City Phase II   4.0  260.0        6000   2.0\n",
              "11615                     other   2.0   80.0        6000   2.0\n",
              "10765                Whitefield   4.0  410.0        6000   2.0\n",
              "7824                      other   1.0  276.0        6000   5.0"
            ]
          },
          "execution_count": 46,
          "metadata": {},
          "output_type": "execute_result"
        }
      ],
      "source": [
        "df.head()"
      ]
    },
    {
      "cell_type": "code",
      "execution_count": null,
      "id": "8774c186",
      "metadata": {
        "id": "8774c186"
      },
      "outputs": [],
      "source": [
        "df1 = df[df['No_of_sqft']/df['size'] >300 ]"
      ]
    },
    {
      "cell_type": "code",
      "execution_count": null,
      "id": "915be5a2",
      "metadata": {
        "id": "915be5a2",
        "outputId": "9f0aef18-86b4-42f8-cb54-5a834d57b54e"
      },
      "outputs": [
        {
          "data": {
            "text/html": [
              "<div>\n",
              "<style scoped>\n",
              "    .dataframe tbody tr th:only-of-type {\n",
              "        vertical-align: middle;\n",
              "    }\n",
              "\n",
              "    .dataframe tbody tr th {\n",
              "        vertical-align: top;\n",
              "    }\n",
              "\n",
              "    .dataframe thead th {\n",
              "        text-align: right;\n",
              "    }\n",
              "</style>\n",
              "<table border=\"1\" class=\"dataframe\">\n",
              "  <thead>\n",
              "    <tr style=\"text-align: right;\">\n",
              "      <th></th>\n",
              "      <th>bath</th>\n",
              "      <th>price</th>\n",
              "      <th>No_of_sqft</th>\n",
              "      <th>size</th>\n",
              "    </tr>\n",
              "  </thead>\n",
              "  <tbody>\n",
              "    <tr>\n",
              "      <th>count</th>\n",
              "      <td>11051.000000</td>\n",
              "      <td>11051.00000</td>\n",
              "      <td>11051.000000</td>\n",
              "      <td>11051.000000</td>\n",
              "    </tr>\n",
              "    <tr>\n",
              "      <th>mean</th>\n",
              "      <td>2.750339</td>\n",
              "      <td>111.53872</td>\n",
              "      <td>1589.039996</td>\n",
              "      <td>2.511718</td>\n",
              "    </tr>\n",
              "    <tr>\n",
              "      <th>std</th>\n",
              "      <td>1.281479</td>\n",
              "      <td>103.55149</td>\n",
              "      <td>747.219651</td>\n",
              "      <td>0.818078</td>\n",
              "    </tr>\n",
              "    <tr>\n",
              "      <th>min</th>\n",
              "      <td>1.000000</td>\n",
              "      <td>10.00000</td>\n",
              "      <td>350.000000</td>\n",
              "      <td>1.000000</td>\n",
              "    </tr>\n",
              "    <tr>\n",
              "      <th>25%</th>\n",
              "      <td>2.000000</td>\n",
              "      <td>53.00000</td>\n",
              "      <td>1160.000000</td>\n",
              "      <td>2.000000</td>\n",
              "    </tr>\n",
              "    <tr>\n",
              "      <th>50%</th>\n",
              "      <td>2.000000</td>\n",
              "      <td>75.00000</td>\n",
              "      <td>1343.000000</td>\n",
              "      <td>2.000000</td>\n",
              "    </tr>\n",
              "    <tr>\n",
              "      <th>75%</th>\n",
              "      <td>3.000000</td>\n",
              "      <td>125.00000</td>\n",
              "      <td>1745.000000</td>\n",
              "      <td>3.000000</td>\n",
              "    </tr>\n",
              "    <tr>\n",
              "      <th>max</th>\n",
              "      <td>40.000000</td>\n",
              "      <td>864.00000</td>\n",
              "      <td>6000.000000</td>\n",
              "      <td>9.000000</td>\n",
              "    </tr>\n",
              "  </tbody>\n",
              "</table>\n",
              "</div>"
            ],
            "text/plain": [
              "               bath        price    No_of_sqft          size\n",
              "count  11051.000000  11051.00000  11051.000000  11051.000000\n",
              "mean       2.750339    111.53872   1589.039996      2.511718\n",
              "std        1.281479    103.55149    747.219651      0.818078\n",
              "min        1.000000     10.00000    350.000000      1.000000\n",
              "25%        2.000000     53.00000   1160.000000      2.000000\n",
              "50%        2.000000     75.00000   1343.000000      2.000000\n",
              "75%        3.000000    125.00000   1745.000000      3.000000\n",
              "max       40.000000    864.00000   6000.000000      9.000000"
            ]
          },
          "execution_count": 52,
          "metadata": {},
          "output_type": "execute_result"
        }
      ],
      "source": [
        "df1.describe()"
      ]
    },
    {
      "cell_type": "code",
      "execution_count": null,
      "id": "7db2f897",
      "metadata": {
        "id": "7db2f897",
        "outputId": "675cf417-213c-4d70-fd61-128accb09481"
      },
      "outputs": [
        {
          "name": "stderr",
          "output_type": "stream",
          "text": [
            "C:\\Users\\Rohan R\\AppData\\Local\\Temp\\ipykernel_8196\\5359783.py:1: SettingWithCopyWarning: \n",
            "A value is trying to be set on a copy of a slice from a DataFrame.\n",
            "Try using .loc[row_indexer,col_indexer] = value instead\n",
            "\n",
            "See the caveats in the documentation: https://pandas.pydata.org/pandas-docs/stable/user_guide/indexing.html#returning-a-view-versus-a-copy\n",
            "  df1['per_sqft']= df1['price']*100000/df1['No_of_sqft']\n"
          ]
        }
      ],
      "source": [
        "df1['per_sqft']= df1['price']*100000/df1['No_of_sqft']"
      ]
    },
    {
      "cell_type": "code",
      "execution_count": null,
      "id": "e15f4f8b",
      "metadata": {
        "id": "e15f4f8b",
        "outputId": "74d7a44e-25cd-4b71-a759-2d513b3bd2a3"
      },
      "outputs": [
        {
          "data": {
            "text/html": [
              "<div>\n",
              "<style scoped>\n",
              "    .dataframe tbody tr th:only-of-type {\n",
              "        vertical-align: middle;\n",
              "    }\n",
              "\n",
              "    .dataframe tbody tr th {\n",
              "        vertical-align: top;\n",
              "    }\n",
              "\n",
              "    .dataframe thead th {\n",
              "        text-align: right;\n",
              "    }\n",
              "</style>\n",
              "<table border=\"1\" class=\"dataframe\">\n",
              "  <thead>\n",
              "    <tr style=\"text-align: right;\">\n",
              "      <th></th>\n",
              "      <th>location</th>\n",
              "      <th>bath</th>\n",
              "      <th>price</th>\n",
              "      <th>No_of_sqft</th>\n",
              "      <th>size</th>\n",
              "      <th>per_sqft</th>\n",
              "    </tr>\n",
              "  </thead>\n",
              "  <tbody>\n",
              "    <tr>\n",
              "      <th>7979</th>\n",
              "      <td>other</td>\n",
              "      <td>12.0</td>\n",
              "      <td>150.0</td>\n",
              "      <td>6000</td>\n",
              "      <td>3.0</td>\n",
              "      <td>2500.000000</td>\n",
              "    </tr>\n",
              "    <tr>\n",
              "      <th>5641</th>\n",
              "      <td>Electronic City Phase II</td>\n",
              "      <td>4.0</td>\n",
              "      <td>260.0</td>\n",
              "      <td>6000</td>\n",
              "      <td>2.0</td>\n",
              "      <td>4333.333333</td>\n",
              "    </tr>\n",
              "    <tr>\n",
              "      <th>11615</th>\n",
              "      <td>other</td>\n",
              "      <td>2.0</td>\n",
              "      <td>80.0</td>\n",
              "      <td>6000</td>\n",
              "      <td>2.0</td>\n",
              "      <td>1333.333333</td>\n",
              "    </tr>\n",
              "    <tr>\n",
              "      <th>10765</th>\n",
              "      <td>Whitefield</td>\n",
              "      <td>4.0</td>\n",
              "      <td>410.0</td>\n",
              "      <td>6000</td>\n",
              "      <td>2.0</td>\n",
              "      <td>6833.333333</td>\n",
              "    </tr>\n",
              "    <tr>\n",
              "      <th>7824</th>\n",
              "      <td>other</td>\n",
              "      <td>1.0</td>\n",
              "      <td>276.0</td>\n",
              "      <td>6000</td>\n",
              "      <td>5.0</td>\n",
              "      <td>4600.000000</td>\n",
              "    </tr>\n",
              "  </tbody>\n",
              "</table>\n",
              "</div>"
            ],
            "text/plain": [
              "                       location  bath  price  No_of_sqft  size     per_sqft\n",
              "7979                      other  12.0  150.0        6000   3.0  2500.000000\n",
              "5641   Electronic City Phase II   4.0  260.0        6000   2.0  4333.333333\n",
              "11615                     other   2.0   80.0        6000   2.0  1333.333333\n",
              "10765                Whitefield   4.0  410.0        6000   2.0  6833.333333\n",
              "7824                      other   1.0  276.0        6000   5.0  4600.000000"
            ]
          },
          "execution_count": 56,
          "metadata": {},
          "output_type": "execute_result"
        }
      ],
      "source": [
        "df1.head()"
      ]
    },
    {
      "cell_type": "code",
      "execution_count": null,
      "id": "98f29a73",
      "metadata": {
        "id": "98f29a73",
        "outputId": "58e509bf-7595-416a-f9b8-562dcd046642"
      },
      "outputs": [
        {
          "data": {
            "text/html": [
              "<div>\n",
              "<style scoped>\n",
              "    .dataframe tbody tr th:only-of-type {\n",
              "        vertical-align: middle;\n",
              "    }\n",
              "\n",
              "    .dataframe tbody tr th {\n",
              "        vertical-align: top;\n",
              "    }\n",
              "\n",
              "    .dataframe thead th {\n",
              "        text-align: right;\n",
              "    }\n",
              "</style>\n",
              "<table border=\"1\" class=\"dataframe\">\n",
              "  <thead>\n",
              "    <tr style=\"text-align: right;\">\n",
              "      <th></th>\n",
              "      <th>bath</th>\n",
              "      <th>price</th>\n",
              "      <th>No_of_sqft</th>\n",
              "      <th>size</th>\n",
              "      <th>per_sqft</th>\n",
              "    </tr>\n",
              "  </thead>\n",
              "  <tbody>\n",
              "    <tr>\n",
              "      <th>count</th>\n",
              "      <td>11051.000000</td>\n",
              "      <td>11051.00000</td>\n",
              "      <td>11051.000000</td>\n",
              "      <td>11051.000000</td>\n",
              "      <td>11051.000000</td>\n",
              "    </tr>\n",
              "    <tr>\n",
              "      <th>mean</th>\n",
              "      <td>2.750339</td>\n",
              "      <td>111.53872</td>\n",
              "      <td>1589.039996</td>\n",
              "      <td>2.511718</td>\n",
              "      <td>6568.863552</td>\n",
              "    </tr>\n",
              "    <tr>\n",
              "      <th>std</th>\n",
              "      <td>1.281479</td>\n",
              "      <td>103.55149</td>\n",
              "      <td>747.219651</td>\n",
              "      <td>0.818078</td>\n",
              "      <td>3936.510203</td>\n",
              "    </tr>\n",
              "    <tr>\n",
              "      <th>min</th>\n",
              "      <td>1.000000</td>\n",
              "      <td>10.00000</td>\n",
              "      <td>350.000000</td>\n",
              "      <td>1.000000</td>\n",
              "      <td>500.000000</td>\n",
              "    </tr>\n",
              "    <tr>\n",
              "      <th>25%</th>\n",
              "      <td>2.000000</td>\n",
              "      <td>53.00000</td>\n",
              "      <td>1160.000000</td>\n",
              "      <td>2.000000</td>\n",
              "      <td>4298.957895</td>\n",
              "    </tr>\n",
              "    <tr>\n",
              "      <th>50%</th>\n",
              "      <td>2.000000</td>\n",
              "      <td>75.00000</td>\n",
              "      <td>1343.000000</td>\n",
              "      <td>2.000000</td>\n",
              "      <td>5480.427046</td>\n",
              "    </tr>\n",
              "    <tr>\n",
              "      <th>75%</th>\n",
              "      <td>3.000000</td>\n",
              "      <td>125.00000</td>\n",
              "      <td>1745.000000</td>\n",
              "      <td>3.000000</td>\n",
              "      <td>7272.727273</td>\n",
              "    </tr>\n",
              "    <tr>\n",
              "      <th>max</th>\n",
              "      <td>40.000000</td>\n",
              "      <td>864.00000</td>\n",
              "      <td>6000.000000</td>\n",
              "      <td>9.000000</td>\n",
              "      <td>76923.076923</td>\n",
              "    </tr>\n",
              "  </tbody>\n",
              "</table>\n",
              "</div>"
            ],
            "text/plain": [
              "               bath        price    No_of_sqft          size      per_sqft\n",
              "count  11051.000000  11051.00000  11051.000000  11051.000000  11051.000000\n",
              "mean       2.750339    111.53872   1589.039996      2.511718   6568.863552\n",
              "std        1.281479    103.55149    747.219651      0.818078   3936.510203\n",
              "min        1.000000     10.00000    350.000000      1.000000    500.000000\n",
              "25%        2.000000     53.00000   1160.000000      2.000000   4298.957895\n",
              "50%        2.000000     75.00000   1343.000000      2.000000   5480.427046\n",
              "75%        3.000000    125.00000   1745.000000      3.000000   7272.727273\n",
              "max       40.000000    864.00000   6000.000000      9.000000  76923.076923"
            ]
          },
          "execution_count": 57,
          "metadata": {},
          "output_type": "execute_result"
        }
      ],
      "source": [
        "df1.describe()"
      ]
    },
    {
      "cell_type": "code",
      "execution_count": null,
      "id": "a6ff2dea",
      "metadata": {
        "id": "a6ff2dea",
        "outputId": "18713f70-3e61-4109-8e59-d26071bc67d7"
      },
      "outputs": [
        {
          "data": {
            "text/plain": [
              "(11051, 6)"
            ]
          },
          "execution_count": 77,
          "metadata": {},
          "output_type": "execute_result"
        }
      ],
      "source": [
        "df1.shape"
      ]
    },
    {
      "cell_type": "code",
      "execution_count": null,
      "id": "4ec92735",
      "metadata": {
        "id": "4ec92735",
        "outputId": "9dfa65c2-354b-4535-ef6b-50f16a9c7d8a"
      },
      "outputs": [
        {
          "data": {
            "text/plain": [
              "(9288, 6)"
            ]
          },
          "execution_count": 80,
          "metadata": {},
          "output_type": "execute_result"
        }
      ],
      "source": [
        "def no_outlier(df):\n",
        "    df3 = pd.DataFrame()\n",
        "    for a,grp in df.groupby('location'):\n",
        "        m = grp['per_sqft'].mean()\n",
        "        s = grp['per_sqft'].std()\n",
        "        scaled_df = grp[(grp['per_sqft']>(m-s))&(grp['per_sqft']<(m+s))]\n",
        "        df3 = pd.concat([df3,scaled_df])\n",
        "    return df3\n",
        "#         print(m,s, a)\n",
        "df2 = no_outlier(df1)\n",
        "df2.shape"
      ]
    },
    {
      "cell_type": "code",
      "execution_count": null,
      "id": "b1b9763e",
      "metadata": {
        "id": "b1b9763e"
      },
      "outputs": [],
      "source": [
        "def check_size_price_distribution(df,location):\n",
        "    size_2 = df[(df['size']==2) & (df['location']==location)]\n",
        "    size_3 = df[(df['size']==3) & (df['location']==location)]\n",
        "    plt.figure(figsize=(10,8))\n",
        "    plt.scatter(size_2['No_of_sqft'],size_2['price'],label='size_2')\n",
        "    plt.scatter(size_3['No_of_sqft'],size_3['price'],marker='+',label='size_3')\n",
        "    plt.xlabel('No of Sqft')\n",
        "    plt.ylabel('price')"
      ]
    },
    {
      "cell_type": "code",
      "execution_count": null,
      "id": "ef06fba2",
      "metadata": {
        "id": "ef06fba2",
        "outputId": "1245ffee-6dea-4b72-c309-0df789a1e79e"
      },
      "outputs": [
        {
          "data": {
            "image/png": "[encoded data removed]",
            "text/plain": [
              "<Figure size 720x576 with 1 Axes>"
            ]
          },
          "metadata": {
            "needs_background": "light"
          },
          "output_type": "display_data"
        }
      ],
      "source": [
        "check_size_price_distribution(df2,'Electronic City Phase II')"
      ]
    },
    {
      "cell_type": "code",
      "execution_count": null,
      "id": "23f9de7d",
      "metadata": {
        "id": "23f9de7d"
      },
      "outputs": [],
      "source": [
        "\n"
      ]
    },
    {
      "cell_type": "code",
      "execution_count": null,
      "id": "205df3bc",
      "metadata": {
        "id": "205df3bc",
        "outputId": "92bab29b-22aa-4d98-8e68-2ec596211ad1"
      },
      "outputs": [
        {
          "data": {
            "text/plain": [
              "(5352, 6)"
            ]
          },
          "execution_count": 86,
          "metadata": {},
          "output_type": "execute_result"
        }
      ],
      "source": [
        "def no_size_outliers(df):\n",
        "    m = np.array([])\n",
        "    for location, grp_loc in df.groupby('location'):\n",
        "        size_stats = {}\n",
        "        for size, grp_size in grp_loc.groupby('size'):\n",
        "            size_stats[size] = {\n",
        "                'mean': grp_size['per_sqft'].mean(),\n",
        "                'std': grp_size['per_sqft'].std(),\n",
        "                'count': grp_size.shape[0]\n",
        "            }\n",
        "        for size, grp_size in grp_loc.groupby('size'):\n",
        "            stats = size_stats.get(size-1)\n",
        "            if stats and stats['count']>5:\n",
        "                m = np.append(m, grp_size[(grp_size['per_sqft'])<(stats['mean'])].index.values)\n",
        "    return df.drop(m,axis='index')\n",
        "df3 = no_size_outliers(df2)\n",
        "df3.shape"
      ]
    },
    {
      "cell_type": "code",
      "execution_count": null,
      "id": "fe089694",
      "metadata": {
        "id": "fe089694",
        "outputId": "65f0e9cc-cafa-4fc3-e1f8-e0103a7638b1"
      },
      "outputs": [
        {
          "data": {
            "image/png": "[encoded data removed]",
            "text/plain": [
              "<Figure size 720x576 with 1 Axes>"
            ]
          },
          "metadata": {
            "needs_background": "light"
          },
          "output_type": "display_data"
        }
      ],
      "source": [
        "check_size_price_distribution(df3,'Electronic City Phase II')"
      ]
    },
    {
      "cell_type": "code",
      "execution_count": null,
      "id": "a953ae01",
      "metadata": {
        "id": "a953ae01"
      },
      "outputs": [],
      "source": []
    },
    {
      "cell_type": "code",
      "execution_count": null,
      "id": "ddd78672",
      "metadata": {
        "id": "ddd78672"
      },
      "outputs": [],
      "source": []
    },
    {
      "cell_type": "code",
      "execution_count": null,
      "id": "6e2d855a",
      "metadata": {
        "id": "6e2d855a"
      },
      "outputs": [],
      "source": []
    },
    {
      "cell_type": "code",
      "execution_count": null,
      "id": "d1b7b86d",
      "metadata": {
        "id": "d1b7b86d",
        "outputId": "bd80f2a2-ab05-497a-8f95-ca6fc4913937"
      },
      "outputs": [
        {
          "data": {
            "text/html": [
              "<div>\n",
              "<style scoped>\n",
              "    .dataframe tbody tr th:only-of-type {\n",
              "        vertical-align: middle;\n",
              "    }\n",
              "\n",
              "    .dataframe tbody tr th {\n",
              "        vertical-align: top;\n",
              "    }\n",
              "\n",
              "    .dataframe thead th {\n",
              "        text-align: right;\n",
              "    }\n",
              "</style>\n",
              "<table border=\"1\" class=\"dataframe\">\n",
              "  <thead>\n",
              "    <tr style=\"text-align: right;\">\n",
              "      <th></th>\n",
              "      <th>5th Phase JP Nagar</th>\n",
              "      <th>7th Phase JP Nagar</th>\n",
              "      <th>8th Phase JP Nagar</th>\n",
              "      <th>9th Phase JP Nagar</th>\n",
              "      <th>Akshaya Nagar</th>\n",
              "      <th>Ananth Nagar</th>\n",
              "      <th>Anekal</th>\n",
              "      <th>Attibele</th>\n",
              "      <th>Balagere</th>\n",
              "      <th>Banashankari</th>\n",
              "      <th>...</th>\n",
              "      <th>Uttarahalli</th>\n",
              "      <th>Varthur</th>\n",
              "      <th>Vidyaranyapura</th>\n",
              "      <th>Vijayanagar</th>\n",
              "      <th>Vittasandra</th>\n",
              "      <th>Whitefield</th>\n",
              "      <th>Yelahanka</th>\n",
              "      <th>Yelahanka New Town</th>\n",
              "      <th>Yeshwanthpur</th>\n",
              "      <th>other</th>\n",
              "    </tr>\n",
              "  </thead>\n",
              "  <tbody>\n",
              "    <tr>\n",
              "      <th>11030</th>\n",
              "      <td>1</td>\n",
              "      <td>0</td>\n",
              "      <td>0</td>\n",
              "      <td>0</td>\n",
              "      <td>0</td>\n",
              "      <td>0</td>\n",
              "      <td>0</td>\n",
              "      <td>0</td>\n",
              "      <td>0</td>\n",
              "      <td>0</td>\n",
              "      <td>...</td>\n",
              "      <td>0</td>\n",
              "      <td>0</td>\n",
              "      <td>0</td>\n",
              "      <td>0</td>\n",
              "      <td>0</td>\n",
              "      <td>0</td>\n",
              "      <td>0</td>\n",
              "      <td>0</td>\n",
              "      <td>0</td>\n",
              "      <td>0</td>\n",
              "    </tr>\n",
              "    <tr>\n",
              "      <th>12413</th>\n",
              "      <td>1</td>\n",
              "      <td>0</td>\n",
              "      <td>0</td>\n",
              "      <td>0</td>\n",
              "      <td>0</td>\n",
              "      <td>0</td>\n",
              "      <td>0</td>\n",
              "      <td>0</td>\n",
              "      <td>0</td>\n",
              "      <td>0</td>\n",
              "      <td>...</td>\n",
              "      <td>0</td>\n",
              "      <td>0</td>\n",
              "      <td>0</td>\n",
              "      <td>0</td>\n",
              "      <td>0</td>\n",
              "      <td>0</td>\n",
              "      <td>0</td>\n",
              "      <td>0</td>\n",
              "      <td>0</td>\n",
              "      <td>0</td>\n",
              "    </tr>\n",
              "    <tr>\n",
              "      <th>1755</th>\n",
              "      <td>1</td>\n",
              "      <td>0</td>\n",
              "      <td>0</td>\n",
              "      <td>0</td>\n",
              "      <td>0</td>\n",
              "      <td>0</td>\n",
              "      <td>0</td>\n",
              "      <td>0</td>\n",
              "      <td>0</td>\n",
              "      <td>0</td>\n",
              "      <td>...</td>\n",
              "      <td>0</td>\n",
              "      <td>0</td>\n",
              "      <td>0</td>\n",
              "      <td>0</td>\n",
              "      <td>0</td>\n",
              "      <td>0</td>\n",
              "      <td>0</td>\n",
              "      <td>0</td>\n",
              "      <td>0</td>\n",
              "      <td>0</td>\n",
              "    </tr>\n",
              "    <tr>\n",
              "      <th>2886</th>\n",
              "      <td>1</td>\n",
              "      <td>0</td>\n",
              "      <td>0</td>\n",
              "      <td>0</td>\n",
              "      <td>0</td>\n",
              "      <td>0</td>\n",
              "      <td>0</td>\n",
              "      <td>0</td>\n",
              "      <td>0</td>\n",
              "      <td>0</td>\n",
              "      <td>...</td>\n",
              "      <td>0</td>\n",
              "      <td>0</td>\n",
              "      <td>0</td>\n",
              "      <td>0</td>\n",
              "      <td>0</td>\n",
              "      <td>0</td>\n",
              "      <td>0</td>\n",
              "      <td>0</td>\n",
              "      <td>0</td>\n",
              "      <td>0</td>\n",
              "    </tr>\n",
              "    <tr>\n",
              "      <th>8793</th>\n",
              "      <td>1</td>\n",
              "      <td>0</td>\n",
              "      <td>0</td>\n",
              "      <td>0</td>\n",
              "      <td>0</td>\n",
              "      <td>0</td>\n",
              "      <td>0</td>\n",
              "      <td>0</td>\n",
              "      <td>0</td>\n",
              "      <td>0</td>\n",
              "      <td>...</td>\n",
              "      <td>0</td>\n",
              "      <td>0</td>\n",
              "      <td>0</td>\n",
              "      <td>0</td>\n",
              "      <td>0</td>\n",
              "      <td>0</td>\n",
              "      <td>0</td>\n",
              "      <td>0</td>\n",
              "      <td>0</td>\n",
              "      <td>0</td>\n",
              "    </tr>\n",
              "    <tr>\n",
              "      <th>...</th>\n",
              "      <td>...</td>\n",
              "      <td>...</td>\n",
              "      <td>...</td>\n",
              "      <td>...</td>\n",
              "      <td>...</td>\n",
              "      <td>...</td>\n",
              "      <td>...</td>\n",
              "      <td>...</td>\n",
              "      <td>...</td>\n",
              "      <td>...</td>\n",
              "      <td>...</td>\n",
              "      <td>...</td>\n",
              "      <td>...</td>\n",
              "      <td>...</td>\n",
              "      <td>...</td>\n",
              "      <td>...</td>\n",
              "      <td>...</td>\n",
              "      <td>...</td>\n",
              "      <td>...</td>\n",
              "      <td>...</td>\n",
              "      <td>...</td>\n",
              "    </tr>\n",
              "    <tr>\n",
              "      <th>12196</th>\n",
              "      <td>0</td>\n",
              "      <td>0</td>\n",
              "      <td>0</td>\n",
              "      <td>0</td>\n",
              "      <td>0</td>\n",
              "      <td>0</td>\n",
              "      <td>0</td>\n",
              "      <td>0</td>\n",
              "      <td>0</td>\n",
              "      <td>0</td>\n",
              "      <td>...</td>\n",
              "      <td>0</td>\n",
              "      <td>0</td>\n",
              "      <td>0</td>\n",
              "      <td>0</td>\n",
              "      <td>0</td>\n",
              "      <td>0</td>\n",
              "      <td>0</td>\n",
              "      <td>0</td>\n",
              "      <td>0</td>\n",
              "      <td>1</td>\n",
              "    </tr>\n",
              "    <tr>\n",
              "      <th>12604</th>\n",
              "      <td>0</td>\n",
              "      <td>0</td>\n",
              "      <td>0</td>\n",
              "      <td>0</td>\n",
              "      <td>0</td>\n",
              "      <td>0</td>\n",
              "      <td>0</td>\n",
              "      <td>0</td>\n",
              "      <td>0</td>\n",
              "      <td>0</td>\n",
              "      <td>...</td>\n",
              "      <td>0</td>\n",
              "      <td>0</td>\n",
              "      <td>0</td>\n",
              "      <td>0</td>\n",
              "      <td>0</td>\n",
              "      <td>0</td>\n",
              "      <td>0</td>\n",
              "      <td>0</td>\n",
              "      <td>0</td>\n",
              "      <td>1</td>\n",
              "    </tr>\n",
              "    <tr>\n",
              "      <th>13076</th>\n",
              "      <td>0</td>\n",
              "      <td>0</td>\n",
              "      <td>0</td>\n",
              "      <td>0</td>\n",
              "      <td>0</td>\n",
              "      <td>0</td>\n",
              "      <td>0</td>\n",
              "      <td>0</td>\n",
              "      <td>0</td>\n",
              "      <td>0</td>\n",
              "      <td>...</td>\n",
              "      <td>0</td>\n",
              "      <td>0</td>\n",
              "      <td>0</td>\n",
              "      <td>0</td>\n",
              "      <td>0</td>\n",
              "      <td>0</td>\n",
              "      <td>0</td>\n",
              "      <td>0</td>\n",
              "      <td>0</td>\n",
              "      <td>1</td>\n",
              "    </tr>\n",
              "    <tr>\n",
              "      <th>4299</th>\n",
              "      <td>0</td>\n",
              "      <td>0</td>\n",
              "      <td>0</td>\n",
              "      <td>0</td>\n",
              "      <td>0</td>\n",
              "      <td>0</td>\n",
              "      <td>0</td>\n",
              "      <td>0</td>\n",
              "      <td>0</td>\n",
              "      <td>0</td>\n",
              "      <td>...</td>\n",
              "      <td>0</td>\n",
              "      <td>0</td>\n",
              "      <td>0</td>\n",
              "      <td>0</td>\n",
              "      <td>0</td>\n",
              "      <td>0</td>\n",
              "      <td>0</td>\n",
              "      <td>0</td>\n",
              "      <td>0</td>\n",
              "      <td>1</td>\n",
              "    </tr>\n",
              "    <tr>\n",
              "      <th>13112</th>\n",
              "      <td>0</td>\n",
              "      <td>0</td>\n",
              "      <td>0</td>\n",
              "      <td>0</td>\n",
              "      <td>0</td>\n",
              "      <td>0</td>\n",
              "      <td>0</td>\n",
              "      <td>0</td>\n",
              "      <td>0</td>\n",
              "      <td>0</td>\n",
              "      <td>...</td>\n",
              "      <td>0</td>\n",
              "      <td>0</td>\n",
              "      <td>0</td>\n",
              "      <td>0</td>\n",
              "      <td>0</td>\n",
              "      <td>0</td>\n",
              "      <td>0</td>\n",
              "      <td>0</td>\n",
              "      <td>0</td>\n",
              "      <td>1</td>\n",
              "    </tr>\n",
              "  </tbody>\n",
              "</table>\n",
              "<p>5352 rows × 99 columns</p>\n",
              "</div>"
            ],
            "text/plain": [
              "       5th Phase JP Nagar  7th Phase JP Nagar  8th Phase JP Nagar  \\\n",
              "11030                   1                   0                   0   \n",
              "12413                   1                   0                   0   \n",
              "1755                    1                   0                   0   \n",
              "2886                    1                   0                   0   \n",
              "8793                    1                   0                   0   \n",
              "...                   ...                 ...                 ...   \n",
              "12196                   0                   0                   0   \n",
              "12604                   0                   0                   0   \n",
              "13076                   0                   0                   0   \n",
              "4299                    0                   0                   0   \n",
              "13112                   0                   0                   0   \n",
              "\n",
              "       9th Phase JP Nagar  Akshaya Nagar  Ananth Nagar  Anekal  Attibele  \\\n",
              "11030                   0              0             0       0         0   \n",
              "12413                   0              0             0       0         0   \n",
              "1755                    0              0             0       0         0   \n",
              "2886                    0              0             0       0         0   \n",
              "8793                    0              0             0       0         0   \n",
              "...                   ...            ...           ...     ...       ...   \n",
              "12196                   0              0             0       0         0   \n",
              "12604                   0              0             0       0         0   \n",
              "13076                   0              0             0       0         0   \n",
              "4299                    0              0             0       0         0   \n",
              "13112                   0              0             0       0         0   \n",
              "\n",
              "       Balagere  Banashankari  ...  Uttarahalli  Varthur  Vidyaranyapura  \\\n",
              "11030         0             0  ...            0        0               0   \n",
              "12413         0             0  ...            0        0               0   \n",
              "1755          0             0  ...            0        0               0   \n",
              "2886          0             0  ...            0        0               0   \n",
              "8793          0             0  ...            0        0               0   \n",
              "...         ...           ...  ...          ...      ...             ...   \n",
              "12196         0             0  ...            0        0               0   \n",
              "12604         0             0  ...            0        0               0   \n",
              "13076         0             0  ...            0        0               0   \n",
              "4299          0             0  ...            0        0               0   \n",
              "13112         0             0  ...            0        0               0   \n",
              "\n",
              "       Vijayanagar  Vittasandra  Whitefield  Yelahanka  Yelahanka New Town  \\\n",
              "11030            0            0           0          0                   0   \n",
              "12413            0            0           0          0                   0   \n",
              "1755             0            0           0          0                   0   \n",
              "2886             0            0           0          0                   0   \n",
              "8793             0            0           0          0                   0   \n",
              "...            ...          ...         ...        ...                 ...   \n",
              "12196            0            0           0          0                   0   \n",
              "12604            0            0           0          0                   0   \n",
              "13076            0            0           0          0                   0   \n",
              "4299             0            0           0          0                   0   \n",
              "13112            0            0           0          0                   0   \n",
              "\n",
              "       Yeshwanthpur  other  \n",
              "11030             0      0  \n",
              "12413             0      0  \n",
              "1755              0      0  \n",
              "2886              0      0  \n",
              "8793              0      0  \n",
              "...             ...    ...  \n",
              "12196             0      1  \n",
              "12604             0      1  \n",
              "13076             0      1  \n",
              "4299              0      1  \n",
              "13112             0      1  \n",
              "\n",
              "[5352 rows x 99 columns]"
            ]
          },
          "execution_count": 88,
          "metadata": {},
          "output_type": "execute_result"
        }
      ],
      "source": [
        "dummies = pd.get_dummies(df3['location'])\n",
        "dummies"
      ]
    },
    {
      "cell_type": "code",
      "execution_count": null,
      "id": "d2a01e89",
      "metadata": {
        "id": "d2a01e89"
      },
      "outputs": [],
      "source": [
        "df4 = pd.concat([df3,dummies],axis=1)"
      ]
    },
    {
      "cell_type": "code",
      "execution_count": null,
      "id": "886fbca0",
      "metadata": {
        "id": "886fbca0",
        "outputId": "95b540fc-715e-4ff6-ffae-9aaf40931a09"
      },
      "outputs": [
        {
          "data": {
            "text/html": [
              "<div>\n",
              "<style scoped>\n",
              "    .dataframe tbody tr th:only-of-type {\n",
              "        vertical-align: middle;\n",
              "    }\n",
              "\n",
              "    .dataframe tbody tr th {\n",
              "        vertical-align: top;\n",
              "    }\n",
              "\n",
              "    .dataframe thead th {\n",
              "        text-align: right;\n",
              "    }\n",
              "</style>\n",
              "<table border=\"1\" class=\"dataframe\">\n",
              "  <thead>\n",
              "    <tr style=\"text-align: right;\">\n",
              "      <th></th>\n",
              "      <th>location</th>\n",
              "      <th>bath</th>\n",
              "      <th>price</th>\n",
              "      <th>No_of_sqft</th>\n",
              "      <th>size</th>\n",
              "      <th>per_sqft</th>\n",
              "      <th>5th Phase JP Nagar</th>\n",
              "      <th>7th Phase JP Nagar</th>\n",
              "      <th>8th Phase JP Nagar</th>\n",
              "      <th>9th Phase JP Nagar</th>\n",
              "      <th>...</th>\n",
              "      <th>Uttarahalli</th>\n",
              "      <th>Varthur</th>\n",
              "      <th>Vidyaranyapura</th>\n",
              "      <th>Vijayanagar</th>\n",
              "      <th>Vittasandra</th>\n",
              "      <th>Whitefield</th>\n",
              "      <th>Yelahanka</th>\n",
              "      <th>Yelahanka New Town</th>\n",
              "      <th>Yeshwanthpur</th>\n",
              "      <th>other</th>\n",
              "    </tr>\n",
              "  </thead>\n",
              "  <tbody>\n",
              "    <tr>\n",
              "      <th>11030</th>\n",
              "      <td>5th Phase JP Nagar</td>\n",
              "      <td>5.0</td>\n",
              "      <td>170.0</td>\n",
              "      <td>4000</td>\n",
              "      <td>2.0</td>\n",
              "      <td>4250.000000</td>\n",
              "      <td>1</td>\n",
              "      <td>0</td>\n",
              "      <td>0</td>\n",
              "      <td>0</td>\n",
              "      <td>...</td>\n",
              "      <td>0</td>\n",
              "      <td>0</td>\n",
              "      <td>0</td>\n",
              "      <td>0</td>\n",
              "      <td>0</td>\n",
              "      <td>0</td>\n",
              "      <td>0</td>\n",
              "      <td>0</td>\n",
              "      <td>0</td>\n",
              "      <td>0</td>\n",
              "    </tr>\n",
              "    <tr>\n",
              "      <th>12413</th>\n",
              "      <td>5th Phase JP Nagar</td>\n",
              "      <td>8.0</td>\n",
              "      <td>95.0</td>\n",
              "      <td>2500</td>\n",
              "      <td>1.0</td>\n",
              "      <td>3800.000000</td>\n",
              "      <td>1</td>\n",
              "      <td>0</td>\n",
              "      <td>0</td>\n",
              "      <td>0</td>\n",
              "      <td>...</td>\n",
              "      <td>0</td>\n",
              "      <td>0</td>\n",
              "      <td>0</td>\n",
              "      <td>0</td>\n",
              "      <td>0</td>\n",
              "      <td>0</td>\n",
              "      <td>0</td>\n",
              "      <td>0</td>\n",
              "      <td>0</td>\n",
              "      <td>0</td>\n",
              "    </tr>\n",
              "    <tr>\n",
              "      <th>1755</th>\n",
              "      <td>5th Phase JP Nagar</td>\n",
              "      <td>2.0</td>\n",
              "      <td>100.0</td>\n",
              "      <td>1725</td>\n",
              "      <td>3.0</td>\n",
              "      <td>5797.101449</td>\n",
              "      <td>1</td>\n",
              "      <td>0</td>\n",
              "      <td>0</td>\n",
              "      <td>0</td>\n",
              "      <td>...</td>\n",
              "      <td>0</td>\n",
              "      <td>0</td>\n",
              "      <td>0</td>\n",
              "      <td>0</td>\n",
              "      <td>0</td>\n",
              "      <td>0</td>\n",
              "      <td>0</td>\n",
              "      <td>0</td>\n",
              "      <td>0</td>\n",
              "      <td>0</td>\n",
              "    </tr>\n",
              "    <tr>\n",
              "      <th>2886</th>\n",
              "      <td>5th Phase JP Nagar</td>\n",
              "      <td>2.0</td>\n",
              "      <td>100.0</td>\n",
              "      <td>1700</td>\n",
              "      <td>3.0</td>\n",
              "      <td>5882.352941</td>\n",
              "      <td>1</td>\n",
              "      <td>0</td>\n",
              "      <td>0</td>\n",
              "      <td>0</td>\n",
              "      <td>...</td>\n",
              "      <td>0</td>\n",
              "      <td>0</td>\n",
              "      <td>0</td>\n",
              "      <td>0</td>\n",
              "      <td>0</td>\n",
              "      <td>0</td>\n",
              "      <td>0</td>\n",
              "      <td>0</td>\n",
              "      <td>0</td>\n",
              "      <td>0</td>\n",
              "    </tr>\n",
              "    <tr>\n",
              "      <th>8793</th>\n",
              "      <td>5th Phase JP Nagar</td>\n",
              "      <td>3.0</td>\n",
              "      <td>75.0</td>\n",
              "      <td>1550</td>\n",
              "      <td>2.0</td>\n",
              "      <td>4838.709677</td>\n",
              "      <td>1</td>\n",
              "      <td>0</td>\n",
              "      <td>0</td>\n",
              "      <td>0</td>\n",
              "      <td>...</td>\n",
              "      <td>0</td>\n",
              "      <td>0</td>\n",
              "      <td>0</td>\n",
              "      <td>0</td>\n",
              "      <td>0</td>\n",
              "      <td>0</td>\n",
              "      <td>0</td>\n",
              "      <td>0</td>\n",
              "      <td>0</td>\n",
              "      <td>0</td>\n",
              "    </tr>\n",
              "    <tr>\n",
              "      <th>...</th>\n",
              "      <td>...</td>\n",
              "      <td>...</td>\n",
              "      <td>...</td>\n",
              "      <td>...</td>\n",
              "      <td>...</td>\n",
              "      <td>...</td>\n",
              "      <td>...</td>\n",
              "      <td>...</td>\n",
              "      <td>...</td>\n",
              "      <td>...</td>\n",
              "      <td>...</td>\n",
              "      <td>...</td>\n",
              "      <td>...</td>\n",
              "      <td>...</td>\n",
              "      <td>...</td>\n",
              "      <td>...</td>\n",
              "      <td>...</td>\n",
              "      <td>...</td>\n",
              "      <td>...</td>\n",
              "      <td>...</td>\n",
              "      <td>...</td>\n",
              "    </tr>\n",
              "    <tr>\n",
              "      <th>12196</th>\n",
              "      <td>other</td>\n",
              "      <td>1.0</td>\n",
              "      <td>22.0</td>\n",
              "      <td>540</td>\n",
              "      <td>1.0</td>\n",
              "      <td>4074.074074</td>\n",
              "      <td>0</td>\n",
              "      <td>0</td>\n",
              "      <td>0</td>\n",
              "      <td>0</td>\n",
              "      <td>...</td>\n",
              "      <td>0</td>\n",
              "      <td>0</td>\n",
              "      <td>0</td>\n",
              "      <td>0</td>\n",
              "      <td>0</td>\n",
              "      <td>0</td>\n",
              "      <td>0</td>\n",
              "      <td>0</td>\n",
              "      <td>0</td>\n",
              "      <td>1</td>\n",
              "    </tr>\n",
              "    <tr>\n",
              "      <th>12604</th>\n",
              "      <td>other</td>\n",
              "      <td>1.0</td>\n",
              "      <td>24.0</td>\n",
              "      <td>540</td>\n",
              "      <td>1.0</td>\n",
              "      <td>4444.444444</td>\n",
              "      <td>0</td>\n",
              "      <td>0</td>\n",
              "      <td>0</td>\n",
              "      <td>0</td>\n",
              "      <td>...</td>\n",
              "      <td>0</td>\n",
              "      <td>0</td>\n",
              "      <td>0</td>\n",
              "      <td>0</td>\n",
              "      <td>0</td>\n",
              "      <td>0</td>\n",
              "      <td>0</td>\n",
              "      <td>0</td>\n",
              "      <td>0</td>\n",
              "      <td>1</td>\n",
              "    </tr>\n",
              "    <tr>\n",
              "      <th>13076</th>\n",
              "      <td>other</td>\n",
              "      <td>1.0</td>\n",
              "      <td>20.0</td>\n",
              "      <td>500</td>\n",
              "      <td>1.0</td>\n",
              "      <td>4000.000000</td>\n",
              "      <td>0</td>\n",
              "      <td>0</td>\n",
              "      <td>0</td>\n",
              "      <td>0</td>\n",
              "      <td>...</td>\n",
              "      <td>0</td>\n",
              "      <td>0</td>\n",
              "      <td>0</td>\n",
              "      <td>0</td>\n",
              "      <td>0</td>\n",
              "      <td>0</td>\n",
              "      <td>0</td>\n",
              "      <td>0</td>\n",
              "      <td>0</td>\n",
              "      <td>1</td>\n",
              "    </tr>\n",
              "    <tr>\n",
              "      <th>4299</th>\n",
              "      <td>other</td>\n",
              "      <td>1.0</td>\n",
              "      <td>35.0</td>\n",
              "      <td>440</td>\n",
              "      <td>1.0</td>\n",
              "      <td>7954.545455</td>\n",
              "      <td>0</td>\n",
              "      <td>0</td>\n",
              "      <td>0</td>\n",
              "      <td>0</td>\n",
              "      <td>...</td>\n",
              "      <td>0</td>\n",
              "      <td>0</td>\n",
              "      <td>0</td>\n",
              "      <td>0</td>\n",
              "      <td>0</td>\n",
              "      <td>0</td>\n",
              "      <td>0</td>\n",
              "      <td>0</td>\n",
              "      <td>0</td>\n",
              "      <td>1</td>\n",
              "    </tr>\n",
              "    <tr>\n",
              "      <th>13112</th>\n",
              "      <td>other</td>\n",
              "      <td>3.0</td>\n",
              "      <td>35.0</td>\n",
              "      <td>440</td>\n",
              "      <td>1.0</td>\n",
              "      <td>7954.545455</td>\n",
              "      <td>0</td>\n",
              "      <td>0</td>\n",
              "      <td>0</td>\n",
              "      <td>0</td>\n",
              "      <td>...</td>\n",
              "      <td>0</td>\n",
              "      <td>0</td>\n",
              "      <td>0</td>\n",
              "      <td>0</td>\n",
              "      <td>0</td>\n",
              "      <td>0</td>\n",
              "      <td>0</td>\n",
              "      <td>0</td>\n",
              "      <td>0</td>\n",
              "      <td>1</td>\n",
              "    </tr>\n",
              "  </tbody>\n",
              "</table>\n",
              "<p>5352 rows × 105 columns</p>\n",
              "</div>"
            ],
            "text/plain": [
              "                 location  bath  price  No_of_sqft  size     per_sqft  \\\n",
              "11030  5th Phase JP Nagar   5.0  170.0        4000   2.0  4250.000000   \n",
              "12413  5th Phase JP Nagar   8.0   95.0        2500   1.0  3800.000000   \n",
              "1755   5th Phase JP Nagar   2.0  100.0        1725   3.0  5797.101449   \n",
              "2886   5th Phase JP Nagar   2.0  100.0        1700   3.0  5882.352941   \n",
              "8793   5th Phase JP Nagar   3.0   75.0        1550   2.0  4838.709677   \n",
              "...                   ...   ...    ...         ...   ...          ...   \n",
              "12196               other   1.0   22.0         540   1.0  4074.074074   \n",
              "12604               other   1.0   24.0         540   1.0  4444.444444   \n",
              "13076               other   1.0   20.0         500   1.0  4000.000000   \n",
              "4299                other   1.0   35.0         440   1.0  7954.545455   \n",
              "13112               other   3.0   35.0         440   1.0  7954.545455   \n",
              "\n",
              "       5th Phase JP Nagar  7th Phase JP Nagar  8th Phase JP Nagar  \\\n",
              "11030                   1                   0                   0   \n",
              "12413                   1                   0                   0   \n",
              "1755                    1                   0                   0   \n",
              "2886                    1                   0                   0   \n",
              "8793                    1                   0                   0   \n",
              "...                   ...                 ...                 ...   \n",
              "12196                   0                   0                   0   \n",
              "12604                   0                   0                   0   \n",
              "13076                   0                   0                   0   \n",
              "4299                    0                   0                   0   \n",
              "13112                   0                   0                   0   \n",
              "\n",
              "       9th Phase JP Nagar  ...  Uttarahalli  Varthur  Vidyaranyapura  \\\n",
              "11030                   0  ...            0        0               0   \n",
              "12413                   0  ...            0        0               0   \n",
              "1755                    0  ...            0        0               0   \n",
              "2886                    0  ...            0        0               0   \n",
              "8793                    0  ...            0        0               0   \n",
              "...                   ...  ...          ...      ...             ...   \n",
              "12196                   0  ...            0        0               0   \n",
              "12604                   0  ...            0        0               0   \n",
              "13076                   0  ...            0        0               0   \n",
              "4299                    0  ...            0        0               0   \n",
              "13112                   0  ...            0        0               0   \n",
              "\n",
              "       Vijayanagar  Vittasandra  Whitefield  Yelahanka  Yelahanka New Town  \\\n",
              "11030            0            0           0          0                   0   \n",
              "12413            0            0           0          0                   0   \n",
              "1755             0            0           0          0                   0   \n",
              "2886             0            0           0          0                   0   \n",
              "8793             0            0           0          0                   0   \n",
              "...            ...          ...         ...        ...                 ...   \n",
              "12196            0            0           0          0                   0   \n",
              "12604            0            0           0          0                   0   \n",
              "13076            0            0           0          0                   0   \n",
              "4299             0            0           0          0                   0   \n",
              "13112            0            0           0          0                   0   \n",
              "\n",
              "       Yeshwanthpur  other  \n",
              "11030             0      0  \n",
              "12413             0      0  \n",
              "1755              0      0  \n",
              "2886              0      0  \n",
              "8793              0      0  \n",
              "...             ...    ...  \n",
              "12196             0      1  \n",
              "12604             0      1  \n",
              "13076             0      1  \n",
              "4299              0      1  \n",
              "13112             0      1  \n",
              "\n",
              "[5352 rows x 105 columns]"
            ]
          },
          "execution_count": 91,
          "metadata": {},
          "output_type": "execute_result"
        }
      ],
      "source": [
        "df4"
      ]
    },
    {
      "cell_type": "code",
      "execution_count": null,
      "id": "d7804efd",
      "metadata": {
        "id": "d7804efd",
        "outputId": "93dd66c7-3e73-4ec2-c9a3-1d770960aa26"
      },
      "outputs": [
        {
          "data": {
            "text/html": [
              "<div>\n",
              "<style scoped>\n",
              "    .dataframe tbody tr th:only-of-type {\n",
              "        vertical-align: middle;\n",
              "    }\n",
              "\n",
              "    .dataframe tbody tr th {\n",
              "        vertical-align: top;\n",
              "    }\n",
              "\n",
              "    .dataframe thead th {\n",
              "        text-align: right;\n",
              "    }\n",
              "</style>\n",
              "<table border=\"1\" class=\"dataframe\">\n",
              "  <thead>\n",
              "    <tr style=\"text-align: right;\">\n",
              "      <th></th>\n",
              "      <th>location</th>\n",
              "      <th>bath</th>\n",
              "      <th>price</th>\n",
              "      <th>No_of_sqft</th>\n",
              "      <th>size</th>\n",
              "      <th>per_sqft</th>\n",
              "      <th>5th Phase JP Nagar</th>\n",
              "      <th>7th Phase JP Nagar</th>\n",
              "      <th>8th Phase JP Nagar</th>\n",
              "      <th>9th Phase JP Nagar</th>\n",
              "      <th>...</th>\n",
              "      <th>Uttarahalli</th>\n",
              "      <th>Varthur</th>\n",
              "      <th>Vidyaranyapura</th>\n",
              "      <th>Vijayanagar</th>\n",
              "      <th>Vittasandra</th>\n",
              "      <th>Whitefield</th>\n",
              "      <th>Yelahanka</th>\n",
              "      <th>Yelahanka New Town</th>\n",
              "      <th>Yeshwanthpur</th>\n",
              "      <th>other</th>\n",
              "    </tr>\n",
              "  </thead>\n",
              "  <tbody>\n",
              "    <tr>\n",
              "      <th>11030</th>\n",
              "      <td>5th Phase JP Nagar</td>\n",
              "      <td>5.0</td>\n",
              "      <td>170.0</td>\n",
              "      <td>4000</td>\n",
              "      <td>2.0</td>\n",
              "      <td>4250.000000</td>\n",
              "      <td>1</td>\n",
              "      <td>0</td>\n",
              "      <td>0</td>\n",
              "      <td>0</td>\n",
              "      <td>...</td>\n",
              "      <td>0</td>\n",
              "      <td>0</td>\n",
              "      <td>0</td>\n",
              "      <td>0</td>\n",
              "      <td>0</td>\n",
              "      <td>0</td>\n",
              "      <td>0</td>\n",
              "      <td>0</td>\n",
              "      <td>0</td>\n",
              "      <td>0</td>\n",
              "    </tr>\n",
              "    <tr>\n",
              "      <th>12413</th>\n",
              "      <td>5th Phase JP Nagar</td>\n",
              "      <td>8.0</td>\n",
              "      <td>95.0</td>\n",
              "      <td>2500</td>\n",
              "      <td>1.0</td>\n",
              "      <td>3800.000000</td>\n",
              "      <td>1</td>\n",
              "      <td>0</td>\n",
              "      <td>0</td>\n",
              "      <td>0</td>\n",
              "      <td>...</td>\n",
              "      <td>0</td>\n",
              "      <td>0</td>\n",
              "      <td>0</td>\n",
              "      <td>0</td>\n",
              "      <td>0</td>\n",
              "      <td>0</td>\n",
              "      <td>0</td>\n",
              "      <td>0</td>\n",
              "      <td>0</td>\n",
              "      <td>0</td>\n",
              "    </tr>\n",
              "    <tr>\n",
              "      <th>1755</th>\n",
              "      <td>5th Phase JP Nagar</td>\n",
              "      <td>2.0</td>\n",
              "      <td>100.0</td>\n",
              "      <td>1725</td>\n",
              "      <td>3.0</td>\n",
              "      <td>5797.101449</td>\n",
              "      <td>1</td>\n",
              "      <td>0</td>\n",
              "      <td>0</td>\n",
              "      <td>0</td>\n",
              "      <td>...</td>\n",
              "      <td>0</td>\n",
              "      <td>0</td>\n",
              "      <td>0</td>\n",
              "      <td>0</td>\n",
              "      <td>0</td>\n",
              "      <td>0</td>\n",
              "      <td>0</td>\n",
              "      <td>0</td>\n",
              "      <td>0</td>\n",
              "      <td>0</td>\n",
              "    </tr>\n",
              "    <tr>\n",
              "      <th>2886</th>\n",
              "      <td>5th Phase JP Nagar</td>\n",
              "      <td>2.0</td>\n",
              "      <td>100.0</td>\n",
              "      <td>1700</td>\n",
              "      <td>3.0</td>\n",
              "      <td>5882.352941</td>\n",
              "      <td>1</td>\n",
              "      <td>0</td>\n",
              "      <td>0</td>\n",
              "      <td>0</td>\n",
              "      <td>...</td>\n",
              "      <td>0</td>\n",
              "      <td>0</td>\n",
              "      <td>0</td>\n",
              "      <td>0</td>\n",
              "      <td>0</td>\n",
              "      <td>0</td>\n",
              "      <td>0</td>\n",
              "      <td>0</td>\n",
              "      <td>0</td>\n",
              "      <td>0</td>\n",
              "    </tr>\n",
              "    <tr>\n",
              "      <th>8793</th>\n",
              "      <td>5th Phase JP Nagar</td>\n",
              "      <td>3.0</td>\n",
              "      <td>75.0</td>\n",
              "      <td>1550</td>\n",
              "      <td>2.0</td>\n",
              "      <td>4838.709677</td>\n",
              "      <td>1</td>\n",
              "      <td>0</td>\n",
              "      <td>0</td>\n",
              "      <td>0</td>\n",
              "      <td>...</td>\n",
              "      <td>0</td>\n",
              "      <td>0</td>\n",
              "      <td>0</td>\n",
              "      <td>0</td>\n",
              "      <td>0</td>\n",
              "      <td>0</td>\n",
              "      <td>0</td>\n",
              "      <td>0</td>\n",
              "      <td>0</td>\n",
              "      <td>0</td>\n",
              "    </tr>\n",
              "  </tbody>\n",
              "</table>\n",
              "<p>5 rows × 105 columns</p>\n",
              "</div>"
            ],
            "text/plain": [
              "                 location  bath  price  No_of_sqft  size     per_sqft  \\\n",
              "11030  5th Phase JP Nagar   5.0  170.0        4000   2.0  4250.000000   \n",
              "12413  5th Phase JP Nagar   8.0   95.0        2500   1.0  3800.000000   \n",
              "1755   5th Phase JP Nagar   2.0  100.0        1725   3.0  5797.101449   \n",
              "2886   5th Phase JP Nagar   2.0  100.0        1700   3.0  5882.352941   \n",
              "8793   5th Phase JP Nagar   3.0   75.0        1550   2.0  4838.709677   \n",
              "\n",
              "       5th Phase JP Nagar  7th Phase JP Nagar  8th Phase JP Nagar  \\\n",
              "11030                   1                   0                   0   \n",
              "12413                   1                   0                   0   \n",
              "1755                    1                   0                   0   \n",
              "2886                    1                   0                   0   \n",
              "8793                    1                   0                   0   \n",
              "\n",
              "       9th Phase JP Nagar  ...  Uttarahalli  Varthur  Vidyaranyapura  \\\n",
              "11030                   0  ...            0        0               0   \n",
              "12413                   0  ...            0        0               0   \n",
              "1755                    0  ...            0        0               0   \n",
              "2886                    0  ...            0        0               0   \n",
              "8793                    0  ...            0        0               0   \n",
              "\n",
              "       Vijayanagar  Vittasandra  Whitefield  Yelahanka  Yelahanka New Town  \\\n",
              "11030            0            0           0          0                   0   \n",
              "12413            0            0           0          0                   0   \n",
              "1755             0            0           0          0                   0   \n",
              "2886             0            0           0          0                   0   \n",
              "8793             0            0           0          0                   0   \n",
              "\n",
              "       Yeshwanthpur  other  \n",
              "11030             0      0  \n",
              "12413             0      0  \n",
              "1755              0      0  \n",
              "2886              0      0  \n",
              "8793              0      0  \n",
              "\n",
              "[5 rows x 105 columns]"
            ]
          },
          "execution_count": 92,
          "metadata": {},
          "output_type": "execute_result"
        }
      ],
      "source": [
        "df4.head()"
      ]
    },
    {
      "cell_type": "code",
      "execution_count": null,
      "id": "9dd36755",
      "metadata": {
        "id": "9dd36755"
      },
      "outputs": [],
      "source": [
        "df4 = df4.drop('location',axis=1)"
      ]
    },
    {
      "cell_type": "code",
      "execution_count": null,
      "id": "f95b0a76",
      "metadata": {
        "id": "f95b0a76"
      },
      "outputs": [],
      "source": [
        "df4 = df4.drop('per_sqft',axis=1)"
      ]
    },
    {
      "cell_type": "code",
      "execution_count": null,
      "id": "a20727c9",
      "metadata": {
        "id": "a20727c9",
        "outputId": "a9c44cee-d3eb-4b45-ebed-8d07a90b95c6"
      },
      "outputs": [
        {
          "data": {
            "text/html": [
              "<div>\n",
              "<style scoped>\n",
              "    .dataframe tbody tr th:only-of-type {\n",
              "        vertical-align: middle;\n",
              "    }\n",
              "\n",
              "    .dataframe tbody tr th {\n",
              "        vertical-align: top;\n",
              "    }\n",
              "\n",
              "    .dataframe thead th {\n",
              "        text-align: right;\n",
              "    }\n",
              "</style>\n",
              "<table border=\"1\" class=\"dataframe\">\n",
              "  <thead>\n",
              "    <tr style=\"text-align: right;\">\n",
              "      <th></th>\n",
              "      <th>bath</th>\n",
              "      <th>price</th>\n",
              "      <th>No_of_sqft</th>\n",
              "      <th>size</th>\n",
              "      <th>5th Phase JP Nagar</th>\n",
              "      <th>7th Phase JP Nagar</th>\n",
              "      <th>8th Phase JP Nagar</th>\n",
              "      <th>9th Phase JP Nagar</th>\n",
              "      <th>Akshaya Nagar</th>\n",
              "      <th>Ananth Nagar</th>\n",
              "      <th>...</th>\n",
              "      <th>Uttarahalli</th>\n",
              "      <th>Varthur</th>\n",
              "      <th>Vidyaranyapura</th>\n",
              "      <th>Vijayanagar</th>\n",
              "      <th>Vittasandra</th>\n",
              "      <th>Whitefield</th>\n",
              "      <th>Yelahanka</th>\n",
              "      <th>Yelahanka New Town</th>\n",
              "      <th>Yeshwanthpur</th>\n",
              "      <th>other</th>\n",
              "    </tr>\n",
              "  </thead>\n",
              "  <tbody>\n",
              "    <tr>\n",
              "      <th>11030</th>\n",
              "      <td>5.0</td>\n",
              "      <td>170.0</td>\n",
              "      <td>4000</td>\n",
              "      <td>2.0</td>\n",
              "      <td>1</td>\n",
              "      <td>0</td>\n",
              "      <td>0</td>\n",
              "      <td>0</td>\n",
              "      <td>0</td>\n",
              "      <td>0</td>\n",
              "      <td>...</td>\n",
              "      <td>0</td>\n",
              "      <td>0</td>\n",
              "      <td>0</td>\n",
              "      <td>0</td>\n",
              "      <td>0</td>\n",
              "      <td>0</td>\n",
              "      <td>0</td>\n",
              "      <td>0</td>\n",
              "      <td>0</td>\n",
              "      <td>0</td>\n",
              "    </tr>\n",
              "    <tr>\n",
              "      <th>12413</th>\n",
              "      <td>8.0</td>\n",
              "      <td>95.0</td>\n",
              "      <td>2500</td>\n",
              "      <td>1.0</td>\n",
              "      <td>1</td>\n",
              "      <td>0</td>\n",
              "      <td>0</td>\n",
              "      <td>0</td>\n",
              "      <td>0</td>\n",
              "      <td>0</td>\n",
              "      <td>...</td>\n",
              "      <td>0</td>\n",
              "      <td>0</td>\n",
              "      <td>0</td>\n",
              "      <td>0</td>\n",
              "      <td>0</td>\n",
              "      <td>0</td>\n",
              "      <td>0</td>\n",
              "      <td>0</td>\n",
              "      <td>0</td>\n",
              "      <td>0</td>\n",
              "    </tr>\n",
              "    <tr>\n",
              "      <th>1755</th>\n",
              "      <td>2.0</td>\n",
              "      <td>100.0</td>\n",
              "      <td>1725</td>\n",
              "      <td>3.0</td>\n",
              "      <td>1</td>\n",
              "      <td>0</td>\n",
              "      <td>0</td>\n",
              "      <td>0</td>\n",
              "      <td>0</td>\n",
              "      <td>0</td>\n",
              "      <td>...</td>\n",
              "      <td>0</td>\n",
              "      <td>0</td>\n",
              "      <td>0</td>\n",
              "      <td>0</td>\n",
              "      <td>0</td>\n",
              "      <td>0</td>\n",
              "      <td>0</td>\n",
              "      <td>0</td>\n",
              "      <td>0</td>\n",
              "      <td>0</td>\n",
              "    </tr>\n",
              "    <tr>\n",
              "      <th>2886</th>\n",
              "      <td>2.0</td>\n",
              "      <td>100.0</td>\n",
              "      <td>1700</td>\n",
              "      <td>3.0</td>\n",
              "      <td>1</td>\n",
              "      <td>0</td>\n",
              "      <td>0</td>\n",
              "      <td>0</td>\n",
              "      <td>0</td>\n",
              "      <td>0</td>\n",
              "      <td>...</td>\n",
              "      <td>0</td>\n",
              "      <td>0</td>\n",
              "      <td>0</td>\n",
              "      <td>0</td>\n",
              "      <td>0</td>\n",
              "      <td>0</td>\n",
              "      <td>0</td>\n",
              "      <td>0</td>\n",
              "      <td>0</td>\n",
              "      <td>0</td>\n",
              "    </tr>\n",
              "    <tr>\n",
              "      <th>8793</th>\n",
              "      <td>3.0</td>\n",
              "      <td>75.0</td>\n",
              "      <td>1550</td>\n",
              "      <td>2.0</td>\n",
              "      <td>1</td>\n",
              "      <td>0</td>\n",
              "      <td>0</td>\n",
              "      <td>0</td>\n",
              "      <td>0</td>\n",
              "      <td>0</td>\n",
              "      <td>...</td>\n",
              "      <td>0</td>\n",
              "      <td>0</td>\n",
              "      <td>0</td>\n",
              "      <td>0</td>\n",
              "      <td>0</td>\n",
              "      <td>0</td>\n",
              "      <td>0</td>\n",
              "      <td>0</td>\n",
              "      <td>0</td>\n",
              "      <td>0</td>\n",
              "    </tr>\n",
              "    <tr>\n",
              "      <th>...</th>\n",
              "      <td>...</td>\n",
              "      <td>...</td>\n",
              "      <td>...</td>\n",
              "      <td>...</td>\n",
              "      <td>...</td>\n",
              "      <td>...</td>\n",
              "      <td>...</td>\n",
              "      <td>...</td>\n",
              "      <td>...</td>\n",
              "      <td>...</td>\n",
              "      <td>...</td>\n",
              "      <td>...</td>\n",
              "      <td>...</td>\n",
              "      <td>...</td>\n",
              "      <td>...</td>\n",
              "      <td>...</td>\n",
              "      <td>...</td>\n",
              "      <td>...</td>\n",
              "      <td>...</td>\n",
              "      <td>...</td>\n",
              "      <td>...</td>\n",
              "    </tr>\n",
              "    <tr>\n",
              "      <th>12196</th>\n",
              "      <td>1.0</td>\n",
              "      <td>22.0</td>\n",
              "      <td>540</td>\n",
              "      <td>1.0</td>\n",
              "      <td>0</td>\n",
              "      <td>0</td>\n",
              "      <td>0</td>\n",
              "      <td>0</td>\n",
              "      <td>0</td>\n",
              "      <td>0</td>\n",
              "      <td>...</td>\n",
              "      <td>0</td>\n",
              "      <td>0</td>\n",
              "      <td>0</td>\n",
              "      <td>0</td>\n",
              "      <td>0</td>\n",
              "      <td>0</td>\n",
              "      <td>0</td>\n",
              "      <td>0</td>\n",
              "      <td>0</td>\n",
              "      <td>1</td>\n",
              "    </tr>\n",
              "    <tr>\n",
              "      <th>12604</th>\n",
              "      <td>1.0</td>\n",
              "      <td>24.0</td>\n",
              "      <td>540</td>\n",
              "      <td>1.0</td>\n",
              "      <td>0</td>\n",
              "      <td>0</td>\n",
              "      <td>0</td>\n",
              "      <td>0</td>\n",
              "      <td>0</td>\n",
              "      <td>0</td>\n",
              "      <td>...</td>\n",
              "      <td>0</td>\n",
              "      <td>0</td>\n",
              "      <td>0</td>\n",
              "      <td>0</td>\n",
              "      <td>0</td>\n",
              "      <td>0</td>\n",
              "      <td>0</td>\n",
              "      <td>0</td>\n",
              "      <td>0</td>\n",
              "      <td>1</td>\n",
              "    </tr>\n",
              "    <tr>\n",
              "      <th>13076</th>\n",
              "      <td>1.0</td>\n",
              "      <td>20.0</td>\n",
              "      <td>500</td>\n",
              "      <td>1.0</td>\n",
              "      <td>0</td>\n",
              "      <td>0</td>\n",
              "      <td>0</td>\n",
              "      <td>0</td>\n",
              "      <td>0</td>\n",
              "      <td>0</td>\n",
              "      <td>...</td>\n",
              "      <td>0</td>\n",
              "      <td>0</td>\n",
              "      <td>0</td>\n",
              "      <td>0</td>\n",
              "      <td>0</td>\n",
              "      <td>0</td>\n",
              "      <td>0</td>\n",
              "      <td>0</td>\n",
              "      <td>0</td>\n",
              "      <td>1</td>\n",
              "    </tr>\n",
              "    <tr>\n",
              "      <th>4299</th>\n",
              "      <td>1.0</td>\n",
              "      <td>35.0</td>\n",
              "      <td>440</td>\n",
              "      <td>1.0</td>\n",
              "      <td>0</td>\n",
              "      <td>0</td>\n",
              "      <td>0</td>\n",
              "      <td>0</td>\n",
              "      <td>0</td>\n",
              "      <td>0</td>\n",
              "      <td>...</td>\n",
              "      <td>0</td>\n",
              "      <td>0</td>\n",
              "      <td>0</td>\n",
              "      <td>0</td>\n",
              "      <td>0</td>\n",
              "      <td>0</td>\n",
              "      <td>0</td>\n",
              "      <td>0</td>\n",
              "      <td>0</td>\n",
              "      <td>1</td>\n",
              "    </tr>\n",
              "    <tr>\n",
              "      <th>13112</th>\n",
              "      <td>3.0</td>\n",
              "      <td>35.0</td>\n",
              "      <td>440</td>\n",
              "      <td>1.0</td>\n",
              "      <td>0</td>\n",
              "      <td>0</td>\n",
              "      <td>0</td>\n",
              "      <td>0</td>\n",
              "      <td>0</td>\n",
              "      <td>0</td>\n",
              "      <td>...</td>\n",
              "      <td>0</td>\n",
              "      <td>0</td>\n",
              "      <td>0</td>\n",
              "      <td>0</td>\n",
              "      <td>0</td>\n",
              "      <td>0</td>\n",
              "      <td>0</td>\n",
              "      <td>0</td>\n",
              "      <td>0</td>\n",
              "      <td>1</td>\n",
              "    </tr>\n",
              "  </tbody>\n",
              "</table>\n",
              "<p>5352 rows × 103 columns</p>\n",
              "</div>"
            ],
            "text/plain": [
              "       bath  price  No_of_sqft  size  5th Phase JP Nagar  7th Phase JP Nagar  \\\n",
              "11030   5.0  170.0        4000   2.0                   1                   0   \n",
              "12413   8.0   95.0        2500   1.0                   1                   0   \n",
              "1755    2.0  100.0        1725   3.0                   1                   0   \n",
              "2886    2.0  100.0        1700   3.0                   1                   0   \n",
              "8793    3.0   75.0        1550   2.0                   1                   0   \n",
              "...     ...    ...         ...   ...                 ...                 ...   \n",
              "12196   1.0   22.0         540   1.0                   0                   0   \n",
              "12604   1.0   24.0         540   1.0                   0                   0   \n",
              "13076   1.0   20.0         500   1.0                   0                   0   \n",
              "4299    1.0   35.0         440   1.0                   0                   0   \n",
              "13112   3.0   35.0         440   1.0                   0                   0   \n",
              "\n",
              "       8th Phase JP Nagar  9th Phase JP Nagar  Akshaya Nagar  Ananth Nagar  \\\n",
              "11030                   0                   0              0             0   \n",
              "12413                   0                   0              0             0   \n",
              "1755                    0                   0              0             0   \n",
              "2886                    0                   0              0             0   \n",
              "8793                    0                   0              0             0   \n",
              "...                   ...                 ...            ...           ...   \n",
              "12196                   0                   0              0             0   \n",
              "12604                   0                   0              0             0   \n",
              "13076                   0                   0              0             0   \n",
              "4299                    0                   0              0             0   \n",
              "13112                   0                   0              0             0   \n",
              "\n",
              "       ...  Uttarahalli  Varthur  Vidyaranyapura  Vijayanagar  Vittasandra  \\\n",
              "11030  ...            0        0               0            0            0   \n",
              "12413  ...            0        0               0            0            0   \n",
              "1755   ...            0        0               0            0            0   \n",
              "2886   ...            0        0               0            0            0   \n",
              "8793   ...            0        0               0            0            0   \n",
              "...    ...          ...      ...             ...          ...          ...   \n",
              "12196  ...            0        0               0            0            0   \n",
              "12604  ...            0        0               0            0            0   \n",
              "13076  ...            0        0               0            0            0   \n",
              "4299   ...            0        0               0            0            0   \n",
              "13112  ...            0        0               0            0            0   \n",
              "\n",
              "       Whitefield  Yelahanka  Yelahanka New Town  Yeshwanthpur  other  \n",
              "11030           0          0                   0             0      0  \n",
              "12413           0          0                   0             0      0  \n",
              "1755            0          0                   0             0      0  \n",
              "2886            0          0                   0             0      0  \n",
              "8793            0          0                   0             0      0  \n",
              "...           ...        ...                 ...           ...    ...  \n",
              "12196           0          0                   0             0      1  \n",
              "12604           0          0                   0             0      1  \n",
              "13076           0          0                   0             0      1  \n",
              "4299            0          0                   0             0      1  \n",
              "13112           0          0                   0             0      1  \n",
              "\n",
              "[5352 rows x 103 columns]"
            ]
          },
          "execution_count": 101,
          "metadata": {},
          "output_type": "execute_result"
        }
      ],
      "source": [
        "df4"
      ]
    },
    {
      "cell_type": "code",
      "execution_count": null,
      "id": "680a6209",
      "metadata": {
        "id": "680a6209",
        "outputId": "93344486-ac53-4364-c5f2-dae2e77e309d"
      },
      "outputs": [
        {
          "data": {
            "text/html": [
              "<div>\n",
              "<style scoped>\n",
              "    .dataframe tbody tr th:only-of-type {\n",
              "        vertical-align: middle;\n",
              "    }\n",
              "\n",
              "    .dataframe tbody tr th {\n",
              "        vertical-align: top;\n",
              "    }\n",
              "\n",
              "    .dataframe thead th {\n",
              "        text-align: right;\n",
              "    }\n",
              "</style>\n",
              "<table border=\"1\" class=\"dataframe\">\n",
              "  <thead>\n",
              "    <tr style=\"text-align: right;\">\n",
              "      <th></th>\n",
              "      <th>bath</th>\n",
              "      <th>price</th>\n",
              "      <th>No_of_sqft</th>\n",
              "      <th>size</th>\n",
              "      <th>5th Phase JP Nagar</th>\n",
              "      <th>7th Phase JP Nagar</th>\n",
              "      <th>8th Phase JP Nagar</th>\n",
              "      <th>9th Phase JP Nagar</th>\n",
              "      <th>Akshaya Nagar</th>\n",
              "      <th>Ananth Nagar</th>\n",
              "      <th>...</th>\n",
              "      <th>Uttarahalli</th>\n",
              "      <th>Varthur</th>\n",
              "      <th>Vidyaranyapura</th>\n",
              "      <th>Vijayanagar</th>\n",
              "      <th>Vittasandra</th>\n",
              "      <th>Whitefield</th>\n",
              "      <th>Yelahanka</th>\n",
              "      <th>Yelahanka New Town</th>\n",
              "      <th>Yeshwanthpur</th>\n",
              "      <th>other</th>\n",
              "    </tr>\n",
              "  </thead>\n",
              "  <tbody>\n",
              "    <tr>\n",
              "      <th>bath</th>\n",
              "      <td>1.000000</td>\n",
              "      <td>0.594058</td>\n",
              "      <td>0.644299</td>\n",
              "      <td>0.195303</td>\n",
              "      <td>-0.009483</td>\n",
              "      <td>-0.037129</td>\n",
              "      <td>-0.006832</td>\n",
              "      <td>-0.016384</td>\n",
              "      <td>-0.012816</td>\n",
              "      <td>-0.027250</td>\n",
              "      <td>...</td>\n",
              "      <td>-0.066012</td>\n",
              "      <td>-0.033091</td>\n",
              "      <td>0.022500</td>\n",
              "      <td>0.002827</td>\n",
              "      <td>-0.039030</td>\n",
              "      <td>0.036065</td>\n",
              "      <td>-0.032890</td>\n",
              "      <td>-0.021031</td>\n",
              "      <td>-0.000744</td>\n",
              "      <td>0.165867</td>\n",
              "    </tr>\n",
              "    <tr>\n",
              "      <th>price</th>\n",
              "      <td>0.594058</td>\n",
              "      <td>1.000000</td>\n",
              "      <td>0.860637</td>\n",
              "      <td>0.246481</td>\n",
              "      <td>-0.025762</td>\n",
              "      <td>-0.017289</td>\n",
              "      <td>-0.037987</td>\n",
              "      <td>-0.013618</td>\n",
              "      <td>-0.033719</td>\n",
              "      <td>-0.055615</td>\n",
              "      <td>...</td>\n",
              "      <td>-0.080803</td>\n",
              "      <td>-0.050746</td>\n",
              "      <td>-0.024891</td>\n",
              "      <td>-0.005666</td>\n",
              "      <td>-0.039818</td>\n",
              "      <td>0.065130</td>\n",
              "      <td>-0.052274</td>\n",
              "      <td>-0.023142</td>\n",
              "      <td>0.006415</td>\n",
              "      <td>0.207379</td>\n",
              "    </tr>\n",
              "    <tr>\n",
              "      <th>No_of_sqft</th>\n",
              "      <td>0.644299</td>\n",
              "      <td>0.860637</td>\n",
              "      <td>1.000000</td>\n",
              "      <td>0.237970</td>\n",
              "      <td>-0.008193</td>\n",
              "      <td>-0.028706</td>\n",
              "      <td>-0.012223</td>\n",
              "      <td>0.011026</td>\n",
              "      <td>-0.012350</td>\n",
              "      <td>-0.043339</td>\n",
              "      <td>...</td>\n",
              "      <td>-0.055431</td>\n",
              "      <td>-0.036469</td>\n",
              "      <td>-0.030329</td>\n",
              "      <td>-0.014637</td>\n",
              "      <td>-0.029416</td>\n",
              "      <td>0.097612</td>\n",
              "      <td>-0.022240</td>\n",
              "      <td>-0.011602</td>\n",
              "      <td>0.011118</td>\n",
              "      <td>0.111358</td>\n",
              "    </tr>\n",
              "    <tr>\n",
              "      <th>size</th>\n",
              "      <td>0.195303</td>\n",
              "      <td>0.246481</td>\n",
              "      <td>0.237970</td>\n",
              "      <td>1.000000</td>\n",
              "      <td>-0.006478</td>\n",
              "      <td>0.009609</td>\n",
              "      <td>-0.033263</td>\n",
              "      <td>-0.004232</td>\n",
              "      <td>0.000529</td>\n",
              "      <td>-0.015556</td>\n",
              "      <td>...</td>\n",
              "      <td>0.007482</td>\n",
              "      <td>-0.010211</td>\n",
              "      <td>-0.011690</td>\n",
              "      <td>0.036591</td>\n",
              "      <td>0.007192</td>\n",
              "      <td>0.026736</td>\n",
              "      <td>-0.010057</td>\n",
              "      <td>-0.015556</td>\n",
              "      <td>0.003110</td>\n",
              "      <td>0.033748</td>\n",
              "    </tr>\n",
              "    <tr>\n",
              "      <th>5th Phase JP Nagar</th>\n",
              "      <td>-0.009483</td>\n",
              "      <td>-0.025762</td>\n",
              "      <td>-0.008193</td>\n",
              "      <td>-0.006478</td>\n",
              "      <td>1.000000</td>\n",
              "      <td>-0.006972</td>\n",
              "      <td>-0.004136</td>\n",
              "      <td>-0.003732</td>\n",
              "      <td>-0.004645</td>\n",
              "      <td>-0.003181</td>\n",
              "      <td>...</td>\n",
              "      <td>-0.006878</td>\n",
              "      <td>-0.004434</td>\n",
              "      <td>-0.003181</td>\n",
              "      <td>-0.003816</td>\n",
              "      <td>-0.004213</td>\n",
              "      <td>-0.012805</td>\n",
              "      <td>-0.008454</td>\n",
              "      <td>-0.003181</td>\n",
              "      <td>-0.004288</td>\n",
              "      <td>-0.040319</td>\n",
              "    </tr>\n",
              "    <tr>\n",
              "      <th>...</th>\n",
              "      <td>...</td>\n",
              "      <td>...</td>\n",
              "      <td>...</td>\n",
              "      <td>...</td>\n",
              "      <td>...</td>\n",
              "      <td>...</td>\n",
              "      <td>...</td>\n",
              "      <td>...</td>\n",
              "      <td>...</td>\n",
              "      <td>...</td>\n",
              "      <td>...</td>\n",
              "      <td>...</td>\n",
              "      <td>...</td>\n",
              "      <td>...</td>\n",
              "      <td>...</td>\n",
              "      <td>...</td>\n",
              "      <td>...</td>\n",
              "      <td>...</td>\n",
              "      <td>...</td>\n",
              "      <td>...</td>\n",
              "      <td>...</td>\n",
              "    </tr>\n",
              "    <tr>\n",
              "      <th>Whitefield</th>\n",
              "      <td>0.036065</td>\n",
              "      <td>0.065130</td>\n",
              "      <td>0.097612</td>\n",
              "      <td>0.026736</td>\n",
              "      <td>-0.012805</td>\n",
              "      <td>-0.026456</td>\n",
              "      <td>-0.015696</td>\n",
              "      <td>-0.014162</td>\n",
              "      <td>-0.017625</td>\n",
              "      <td>-0.012070</td>\n",
              "      <td>...</td>\n",
              "      <td>-0.026101</td>\n",
              "      <td>-0.016825</td>\n",
              "      <td>-0.012070</td>\n",
              "      <td>-0.014481</td>\n",
              "      <td>-0.015986</td>\n",
              "      <td>1.000000</td>\n",
              "      <td>-0.032079</td>\n",
              "      <td>-0.012070</td>\n",
              "      <td>-0.016270</td>\n",
              "      <td>-0.152993</td>\n",
              "    </tr>\n",
              "    <tr>\n",
              "      <th>Yelahanka</th>\n",
              "      <td>-0.032890</td>\n",
              "      <td>-0.052274</td>\n",
              "      <td>-0.022240</td>\n",
              "      <td>-0.010057</td>\n",
              "      <td>-0.008454</td>\n",
              "      <td>-0.017467</td>\n",
              "      <td>-0.010363</td>\n",
              "      <td>-0.009350</td>\n",
              "      <td>-0.011636</td>\n",
              "      <td>-0.007969</td>\n",
              "      <td>...</td>\n",
              "      <td>-0.017232</td>\n",
              "      <td>-0.011108</td>\n",
              "      <td>-0.007969</td>\n",
              "      <td>-0.009561</td>\n",
              "      <td>-0.010554</td>\n",
              "      <td>-0.032079</td>\n",
              "      <td>1.000000</td>\n",
              "      <td>-0.007969</td>\n",
              "      <td>-0.010742</td>\n",
              "      <td>-0.101008</td>\n",
              "    </tr>\n",
              "    <tr>\n",
              "      <th>Yelahanka New Town</th>\n",
              "      <td>-0.021031</td>\n",
              "      <td>-0.023142</td>\n",
              "      <td>-0.011602</td>\n",
              "      <td>-0.015556</td>\n",
              "      <td>-0.003181</td>\n",
              "      <td>-0.006572</td>\n",
              "      <td>-0.003899</td>\n",
              "      <td>-0.003518</td>\n",
              "      <td>-0.004378</td>\n",
              "      <td>-0.002999</td>\n",
              "      <td>...</td>\n",
              "      <td>-0.006484</td>\n",
              "      <td>-0.004180</td>\n",
              "      <td>-0.002999</td>\n",
              "      <td>-0.003597</td>\n",
              "      <td>-0.003971</td>\n",
              "      <td>-0.012070</td>\n",
              "      <td>-0.007969</td>\n",
              "      <td>1.000000</td>\n",
              "      <td>-0.004042</td>\n",
              "      <td>-0.038006</td>\n",
              "    </tr>\n",
              "    <tr>\n",
              "      <th>Yeshwanthpur</th>\n",
              "      <td>-0.000744</td>\n",
              "      <td>0.006415</td>\n",
              "      <td>0.011118</td>\n",
              "      <td>0.003110</td>\n",
              "      <td>-0.004288</td>\n",
              "      <td>-0.008859</td>\n",
              "      <td>-0.005256</td>\n",
              "      <td>-0.004742</td>\n",
              "      <td>-0.005902</td>\n",
              "      <td>-0.004042</td>\n",
              "      <td>...</td>\n",
              "      <td>-0.008740</td>\n",
              "      <td>-0.005634</td>\n",
              "      <td>-0.004042</td>\n",
              "      <td>-0.004849</td>\n",
              "      <td>-0.005353</td>\n",
              "      <td>-0.016270</td>\n",
              "      <td>-0.010742</td>\n",
              "      <td>-0.004042</td>\n",
              "      <td>1.000000</td>\n",
              "      <td>-0.051230</td>\n",
              "    </tr>\n",
              "    <tr>\n",
              "      <th>other</th>\n",
              "      <td>0.165867</td>\n",
              "      <td>0.207379</td>\n",
              "      <td>0.111358</td>\n",
              "      <td>0.033748</td>\n",
              "      <td>-0.040319</td>\n",
              "      <td>-0.083302</td>\n",
              "      <td>-0.049422</td>\n",
              "      <td>-0.044591</td>\n",
              "      <td>-0.055497</td>\n",
              "      <td>-0.038006</td>\n",
              "      <td>...</td>\n",
              "      <td>-0.082183</td>\n",
              "      <td>-0.052977</td>\n",
              "      <td>-0.038006</td>\n",
              "      <td>-0.045598</td>\n",
              "      <td>-0.050334</td>\n",
              "      <td>-0.152993</td>\n",
              "      <td>-0.101008</td>\n",
              "      <td>-0.038006</td>\n",
              "      <td>-0.051230</td>\n",
              "      <td>1.000000</td>\n",
              "    </tr>\n",
              "  </tbody>\n",
              "</table>\n",
              "<p>103 rows × 103 columns</p>\n",
              "</div>"
            ],
            "text/plain": [
              "                        bath     price  No_of_sqft      size  \\\n",
              "bath                1.000000  0.594058    0.644299  0.195303   \n",
              "price               0.594058  1.000000    0.860637  0.246481   \n",
              "No_of_sqft          0.644299  0.860637    1.000000  0.237970   \n",
              "size                0.195303  0.246481    0.237970  1.000000   \n",
              "5th Phase JP Nagar -0.009483 -0.025762   -0.008193 -0.006478   \n",
              "...                      ...       ...         ...       ...   \n",
              "Whitefield          0.036065  0.065130    0.097612  0.026736   \n",
              "Yelahanka          -0.032890 -0.052274   -0.022240 -0.010057   \n",
              "Yelahanka New Town -0.021031 -0.023142   -0.011602 -0.015556   \n",
              "Yeshwanthpur       -0.000744  0.006415    0.011118  0.003110   \n",
              "other               0.165867  0.207379    0.111358  0.033748   \n",
              "\n",
              "                    5th Phase JP Nagar  7th Phase JP Nagar  \\\n",
              "bath                         -0.009483           -0.037129   \n",
              "price                        -0.025762           -0.017289   \n",
              "No_of_sqft                   -0.008193           -0.028706   \n",
              "size                         -0.006478            0.009609   \n",
              "5th Phase JP Nagar            1.000000           -0.006972   \n",
              "...                                ...                 ...   \n",
              "Whitefield                   -0.012805           -0.026456   \n",
              "Yelahanka                    -0.008454           -0.017467   \n",
              "Yelahanka New Town           -0.003181           -0.006572   \n",
              "Yeshwanthpur                 -0.004288           -0.008859   \n",
              "other                        -0.040319           -0.083302   \n",
              "\n",
              "                    8th Phase JP Nagar  9th Phase JP Nagar  Akshaya Nagar  \\\n",
              "bath                         -0.006832           -0.016384      -0.012816   \n",
              "price                        -0.037987           -0.013618      -0.033719   \n",
              "No_of_sqft                   -0.012223            0.011026      -0.012350   \n",
              "size                         -0.033263           -0.004232       0.000529   \n",
              "5th Phase JP Nagar           -0.004136           -0.003732      -0.004645   \n",
              "...                                ...                 ...            ...   \n",
              "Whitefield                   -0.015696           -0.014162      -0.017625   \n",
              "Yelahanka                    -0.010363           -0.009350      -0.011636   \n",
              "Yelahanka New Town           -0.003899           -0.003518      -0.004378   \n",
              "Yeshwanthpur                 -0.005256           -0.004742      -0.005902   \n",
              "other                        -0.049422           -0.044591      -0.055497   \n",
              "\n",
              "                    Ananth Nagar  ...  Uttarahalli   Varthur  Vidyaranyapura  \\\n",
              "bath                   -0.027250  ...    -0.066012 -0.033091        0.022500   \n",
              "price                  -0.055615  ...    -0.080803 -0.050746       -0.024891   \n",
              "No_of_sqft             -0.043339  ...    -0.055431 -0.036469       -0.030329   \n",
              "size                   -0.015556  ...     0.007482 -0.010211       -0.011690   \n",
              "5th Phase JP Nagar     -0.003181  ...    -0.006878 -0.004434       -0.003181   \n",
              "...                          ...  ...          ...       ...             ...   \n",
              "Whitefield             -0.012070  ...    -0.026101 -0.016825       -0.012070   \n",
              "Yelahanka              -0.007969  ...    -0.017232 -0.011108       -0.007969   \n",
              "Yelahanka New Town     -0.002999  ...    -0.006484 -0.004180       -0.002999   \n",
              "Yeshwanthpur           -0.004042  ...    -0.008740 -0.005634       -0.004042   \n",
              "other                  -0.038006  ...    -0.082183 -0.052977       -0.038006   \n",
              "\n",
              "                    Vijayanagar  Vittasandra  Whitefield  Yelahanka  \\\n",
              "bath                   0.002827    -0.039030    0.036065  -0.032890   \n",
              "price                 -0.005666    -0.039818    0.065130  -0.052274   \n",
              "No_of_sqft            -0.014637    -0.029416    0.097612  -0.022240   \n",
              "size                   0.036591     0.007192    0.026736  -0.010057   \n",
              "5th Phase JP Nagar    -0.003816    -0.004213   -0.012805  -0.008454   \n",
              "...                         ...          ...         ...        ...   \n",
              "Whitefield            -0.014481    -0.015986    1.000000  -0.032079   \n",
              "Yelahanka             -0.009561    -0.010554   -0.032079   1.000000   \n",
              "Yelahanka New Town    -0.003597    -0.003971   -0.012070  -0.007969   \n",
              "Yeshwanthpur          -0.004849    -0.005353   -0.016270  -0.010742   \n",
              "other                 -0.045598    -0.050334   -0.152993  -0.101008   \n",
              "\n",
              "                    Yelahanka New Town  Yeshwanthpur     other  \n",
              "bath                         -0.021031     -0.000744  0.165867  \n",
              "price                        -0.023142      0.006415  0.207379  \n",
              "No_of_sqft                   -0.011602      0.011118  0.111358  \n",
              "size                         -0.015556      0.003110  0.033748  \n",
              "5th Phase JP Nagar           -0.003181     -0.004288 -0.040319  \n",
              "...                                ...           ...       ...  \n",
              "Whitefield                   -0.012070     -0.016270 -0.152993  \n",
              "Yelahanka                    -0.007969     -0.010742 -0.101008  \n",
              "Yelahanka New Town            1.000000     -0.004042 -0.038006  \n",
              "Yeshwanthpur                 -0.004042      1.000000 -0.051230  \n",
              "other                        -0.038006     -0.051230  1.000000  \n",
              "\n",
              "[103 rows x 103 columns]"
            ]
          },
          "execution_count": 102,
          "metadata": {},
          "output_type": "execute_result"
        }
      ],
      "source": [
        "df4.corr()"
      ]
    },
    {
      "cell_type": "code",
      "execution_count": null,
      "id": "e62cebff",
      "metadata": {
        "id": "e62cebff",
        "outputId": "00c11729-7474-4a83-f5be-db3f9e636d17"
      },
      "outputs": [
        {
          "data": {
            "text/plain": [
              "<AxesSubplot:>"
            ]
          },
          "execution_count": 103,
          "metadata": {},
          "output_type": "execute_result"
        },
        {
          "data": {
            "image/png": "[encoded data removed]",
            "text/plain": [
              "<Figure size 1440x1440 with 1 Axes>"
            ]
          },
          "metadata": {
            "needs_background": "light"
          },
          "output_type": "display_data"
        }
      ],
      "source": [
        "import matplotlib.pyplot as plt\n",
        "plt.figure(figsize=(20,20))\n",
        "df4.corr()['price'].sort_values().plot(kind='bar')"
      ]
    },
    {
      "cell_type": "code",
      "execution_count": null,
      "id": "9a55fd1c",
      "metadata": {
        "id": "9a55fd1c",
        "outputId": "163ad1f7-a2fa-4492-fe0f-efcae5dc3667"
      },
      "outputs": [
        {
          "data": {
            "text/plain": [
              "<AxesSubplot:>"
            ]
          },
          "execution_count": 104,
          "metadata": {},
          "output_type": "execute_result"
        },
        {
          "data": {
            "image/png": "[encoded data removed]",
            "text/plain": [
              "<Figure size 1440x1440 with 2 Axes>"
            ]
          },
          "metadata": {
            "needs_background": "light"
          },
          "output_type": "display_data"
        }
      ],
      "source": [
        "import seaborn as sns\n",
        "plt.figure(figsize=(20,20))\n",
        "sns.heatmap(df4.corr(),cmap=\"YlGnBu\",annot=False)"
      ]
    },
    {
      "cell_type": "code",
      "execution_count": null,
      "id": "999f3aba",
      "metadata": {
        "id": "999f3aba"
      },
      "outputs": [],
      "source": [
        "x = df4.drop('price',axis=1).values\n",
        "y = df4['price'].values"
      ]
    },
    {
      "cell_type": "code",
      "execution_count": null,
      "id": "c5b310dc",
      "metadata": {
        "id": "c5b310dc"
      },
      "outputs": [],
      "source": [
        "from sklearn.model_selection import train_test_split\n",
        "x_train,x_test,y_train,y_test = train_test_split(x,y,test_size = 0.20,random_state= 10)"
      ]
    },
    {
      "cell_type": "code",
      "execution_count": null,
      "id": "ffb33c39",
      "metadata": {
        "id": "ffb33c39",
        "outputId": "15344456-d8fd-4427-964b-9a8dd5b9ead2"
      },
      "outputs": [
        {
          "data": {
            "text/plain": [
              "(4281, 102)"
            ]
          },
          "execution_count": 107,
          "metadata": {},
          "output_type": "execute_result"
        }
      ],
      "source": [
        "x_train.shape"
      ]
    },
    {
      "cell_type": "code",
      "execution_count": null,
      "id": "9aba5c2b",
      "metadata": {
        "id": "9aba5c2b"
      },
      "outputs": [],
      "source": [
        "from sklearn.preprocessing import MinMaxScaler"
      ]
    },
    {
      "cell_type": "code",
      "execution_count": null,
      "id": "5d16f155",
      "metadata": {
        "id": "5d16f155"
      },
      "outputs": [],
      "source": [
        "scaler = MinMaxScaler()\n",
        "x_train = scaler.fit_transform(x_train)\n",
        "x_test = scaler.transform(x_test)"
      ]
    },
    {
      "cell_type": "code",
      "execution_count": null,
      "id": "8f5b6bfb",
      "metadata": {
        "id": "8f5b6bfb"
      },
      "outputs": [],
      "source": [
        "from tensorflow.keras.models import Sequential\n",
        "from tensorflow.keras.layers import Dense, Dropout"
      ]
    },
    {
      "cell_type": "code",
      "execution_count": null,
      "id": "f0878145",
      "metadata": {
        "id": "f0878145"
      },
      "outputs": [],
      "source": [
        "model = Sequential()\n",
        "model.add(Dense(120,activation='relu'))\n",
        "# model.add(Dense(480,activation='relu'))\n",
        "model.add(Dense(240,activation='relu'))\n",
        "model.add(Dense(20,activation='relu'))\n",
        "model.add(Dense(1))\n",
        "model.compile(optimizer='adam',loss='mse')"
      ]
    },
    {
      "cell_type": "code",
      "execution_count": null,
      "id": "be94a76e",
      "metadata": {
        "id": "be94a76e",
        "outputId": "609f0ba2-a41d-4fe7-f851-0265b5266c68"
      },
      "outputs": [
        {
          "name": "stdout",
          "output_type": "stream",
          "text": [
            "Epoch 1/150\n",
            "54/54 [==============================] - 1s 12ms/step - loss: 456.6814 - val_loss: 793.1682\n",
            "Epoch 2/150\n",
            "54/54 [==============================] - 1s 10ms/step - loss: 459.0645 - val_loss: 824.9777\n",
            "Epoch 3/150\n",
            "54/54 [==============================] - 1s 9ms/step - loss: 453.7295 - val_loss: 788.7336\n",
            "Epoch 4/150\n",
            "54/54 [==============================] - 0s 9ms/step - loss: 452.5126 - val_loss: 794.7310\n",
            "Epoch 5/150\n",
            "54/54 [==============================] - 1s 9ms/step - loss: 450.7202 - val_loss: 791.2617\n",
            "Epoch 6/150\n",
            "54/54 [==============================] - 1s 10ms/step - loss: 454.9460 - val_loss: 787.8551\n",
            "Epoch 7/150\n",
            "54/54 [==============================] - 1s 10ms/step - loss: 451.8894 - val_loss: 787.0652\n",
            "Epoch 8/150\n",
            "54/54 [==============================] - 1s 10ms/step - loss: 453.8839 - val_loss: 793.4767\n",
            "Epoch 9/150\n",
            "54/54 [==============================] - 1s 10ms/step - loss: 456.5913 - val_loss: 836.1902\n",
            "Epoch 10/150\n",
            "54/54 [==============================] - 1s 10ms/step - loss: 459.6017 - val_loss: 836.0068\n",
            "Epoch 11/150\n",
            "54/54 [==============================] - 1s 10ms/step - loss: 453.7088 - val_loss: 793.1332\n",
            "Epoch 12/150\n",
            "54/54 [==============================] - 1s 10ms/step - loss: 469.2026 - val_loss: 804.7014\n",
            "Epoch 13/150\n",
            "54/54 [==============================] - 1s 9ms/step - loss: 453.2061 - val_loss: 782.5292\n",
            "Epoch 14/150\n",
            "54/54 [==============================] - 1s 11ms/step - loss: 458.2609 - val_loss: 807.6641\n",
            "Epoch 15/150\n",
            "54/54 [==============================] - 1s 12ms/step - loss: 451.8020 - val_loss: 798.8994\n",
            "Epoch 16/150\n",
            "54/54 [==============================] - 1s 10ms/step - loss: 449.8073 - val_loss: 796.8079\n",
            "Epoch 17/150\n",
            "54/54 [==============================] - 1s 11ms/step - loss: 454.6492 - val_loss: 797.0493\n",
            "Epoch 18/150\n",
            "54/54 [==============================] - 1s 9ms/step - loss: 459.0559 - val_loss: 811.3925\n",
            "Epoch 19/150\n",
            "54/54 [==============================] - 1s 9ms/step - loss: 458.2911 - val_loss: 835.0728\n",
            "Epoch 20/150\n",
            "54/54 [==============================] - 1s 9ms/step - loss: 458.8037 - val_loss: 808.1415\n",
            "Epoch 21/150\n",
            "54/54 [==============================] - 1s 10ms/step - loss: 455.2400 - val_loss: 781.3815\n",
            "Epoch 22/150\n",
            "54/54 [==============================] - 0s 9ms/step - loss: 470.6035 - val_loss: 804.0804\n",
            "Epoch 23/150\n",
            "54/54 [==============================] - 0s 7ms/step - loss: 457.0525 - val_loss: 805.6680\n",
            "Epoch 24/150\n",
            "54/54 [==============================] - 0s 7ms/step - loss: 459.7028 - val_loss: 798.6655\n",
            "Epoch 25/150\n",
            "54/54 [==============================] - 0s 8ms/step - loss: 456.1620 - val_loss: 808.5471\n",
            "Epoch 26/150\n",
            "54/54 [==============================] - 0s 8ms/step - loss: 457.0519 - val_loss: 823.2566\n",
            "Epoch 27/150\n",
            "54/54 [==============================] - 0s 8ms/step - loss: 454.3917 - val_loss: 799.0646\n",
            "Epoch 28/150\n",
            "54/54 [==============================] - 0s 8ms/step - loss: 457.8997 - val_loss: 790.4482\n",
            "Epoch 29/150\n",
            "54/54 [==============================] - 0s 8ms/step - loss: 456.5303 - val_loss: 794.0382\n",
            "Epoch 30/150\n",
            "54/54 [==============================] - 1s 9ms/step - loss: 455.9451 - val_loss: 817.1844\n",
            "Epoch 31/150\n",
            "54/54 [==============================] - 1s 12ms/step - loss: 455.0419 - val_loss: 799.1177\n",
            "Epoch 32/150\n",
            "54/54 [==============================] - 1s 11ms/step - loss: 456.0364 - val_loss: 790.4391\n",
            "Epoch 33/150\n",
            "54/54 [==============================] - 1s 11ms/step - loss: 455.6734 - val_loss: 798.1893\n",
            "Epoch 34/150\n",
            "54/54 [==============================] - 1s 10ms/step - loss: 455.5006 - val_loss: 806.3397\n",
            "Epoch 35/150\n",
            "54/54 [==============================] - 1s 9ms/step - loss: 453.7368 - val_loss: 792.3609\n",
            "Epoch 36/150\n",
            "54/54 [==============================] - 1s 10ms/step - loss: 452.5091 - val_loss: 790.5964\n",
            "Epoch 37/150\n",
            "54/54 [==============================] - 1s 12ms/step - loss: 453.3186 - val_loss: 811.6450\n",
            "Epoch 38/150\n",
            "54/54 [==============================] - 1s 12ms/step - loss: 453.6235 - val_loss: 855.8052\n",
            "Epoch 39/150\n",
            "54/54 [==============================] - 1s 11ms/step - loss: 461.2611 - val_loss: 813.2524\n",
            "Epoch 40/150\n",
            "54/54 [==============================] - 1s 11ms/step - loss: 450.0341 - val_loss: 789.1319\n",
            "Epoch 41/150\n",
            "54/54 [==============================] - 1s 11ms/step - loss: 452.7405 - val_loss: 805.7502\n",
            "Epoch 42/150\n",
            "54/54 [==============================] - 1s 10ms/step - loss: 456.5236 - val_loss: 797.6202\n",
            "Epoch 43/150\n",
            "54/54 [==============================] - 1s 12ms/step - loss: 451.7632 - val_loss: 834.8831\n",
            "Epoch 44/150\n",
            "54/54 [==============================] - 1s 11ms/step - loss: 454.2056 - val_loss: 803.3044\n",
            "Epoch 45/150\n",
            "54/54 [==============================] - 1s 11ms/step - loss: 454.5475 - val_loss: 799.3281\n",
            "Epoch 46/150\n",
            "54/54 [==============================] - 1s 11ms/step - loss: 452.0690 - val_loss: 830.0618\n",
            "Epoch 47/150\n",
            "54/54 [==============================] - 1s 11ms/step - loss: 457.0650 - val_loss: 813.1808\n",
            "Epoch 48/150\n",
            "54/54 [==============================] - 1s 10ms/step - loss: 452.2807 - val_loss: 809.2868\n",
            "Epoch 49/150\n",
            "54/54 [==============================] - 1s 9ms/step - loss: 454.0776 - val_loss: 786.9025\n",
            "Epoch 50/150\n",
            "54/54 [==============================] - 0s 8ms/step - loss: 449.4248 - val_loss: 800.8953\n",
            "Epoch 51/150\n",
            "54/54 [==============================] - 1s 10ms/step - loss: 446.2006 - val_loss: 816.7319\n",
            "Epoch 52/150\n",
            "54/54 [==============================] - 0s 9ms/step - loss: 452.2030 - val_loss: 818.9267\n",
            "Epoch 53/150\n",
            "54/54 [==============================] - 0s 8ms/step - loss: 453.4189 - val_loss: 796.4753\n",
            "Epoch 54/150\n",
            "54/54 [==============================] - 0s 8ms/step - loss: 467.9585 - val_loss: 806.9102\n",
            "Epoch 55/150\n",
            "54/54 [==============================] - 1s 10ms/step - loss: 465.2596 - val_loss: 801.2004\n",
            "Epoch 56/150\n",
            "54/54 [==============================] - 1s 9ms/step - loss: 451.5090 - val_loss: 809.5803\n",
            "Epoch 57/150\n",
            "54/54 [==============================] - 0s 8ms/step - loss: 452.5358 - val_loss: 801.9259\n",
            "Epoch 58/150\n",
            "54/54 [==============================] - 1s 10ms/step - loss: 448.8940 - val_loss: 810.8020\n",
            "Epoch 59/150\n",
            "54/54 [==============================] - 0s 8ms/step - loss: 447.0972 - val_loss: 791.2231\n",
            "Epoch 60/150\n",
            "54/54 [==============================] - 0s 8ms/step - loss: 448.9664 - val_loss: 791.6360\n",
            "Epoch 61/150\n",
            "54/54 [==============================] - 1s 11ms/step - loss: 451.0253 - val_loss: 812.6620\n",
            "Epoch 62/150\n",
            "54/54 [==============================] - 1s 11ms/step - loss: 448.1175 - val_loss: 810.5438\n",
            "Epoch 63/150\n",
            "54/54 [==============================] - 1s 11ms/step - loss: 452.6286 - val_loss: 818.1564\n",
            "Epoch 64/150\n",
            "54/54 [==============================] - 1s 11ms/step - loss: 453.8654 - val_loss: 812.0212\n",
            "Epoch 65/150\n",
            "54/54 [==============================] - 1s 11ms/step - loss: 448.7814 - val_loss: 839.3398\n",
            "Epoch 66/150\n",
            "54/54 [==============================] - 1s 11ms/step - loss: 458.8573 - val_loss: 827.8215\n",
            "Epoch 67/150\n",
            "54/54 [==============================] - 1s 10ms/step - loss: 456.9962 - val_loss: 808.0172\n",
            "Epoch 68/150\n",
            "54/54 [==============================] - 1s 10ms/step - loss: 447.8826 - val_loss: 810.5622\n",
            "Epoch 69/150\n",
            "54/54 [==============================] - 1s 10ms/step - loss: 446.6942 - val_loss: 813.0018\n",
            "Epoch 70/150\n",
            "54/54 [==============================] - 1s 10ms/step - loss: 460.9010 - val_loss: 833.7973\n",
            "Epoch 71/150\n",
            "54/54 [==============================] - 1s 10ms/step - loss: 453.7001 - val_loss: 840.2892\n",
            "Epoch 72/150\n",
            "54/54 [==============================] - 1s 10ms/step - loss: 454.1107 - val_loss: 827.7862\n",
            "Epoch 73/150\n",
            "54/54 [==============================] - 1s 10ms/step - loss: 450.0324 - val_loss: 810.8221\n",
            "Epoch 74/150\n",
            "54/54 [==============================] - 1s 10ms/step - loss: 449.4203 - val_loss: 804.5927\n",
            "Epoch 75/150\n",
            "54/54 [==============================] - 1s 10ms/step - loss: 451.4568 - val_loss: 819.9691\n",
            "Epoch 76/150\n",
            "54/54 [==============================] - 1s 11ms/step - loss: 443.0727 - val_loss: 805.7581\n",
            "Epoch 77/150\n",
            "54/54 [==============================] - 1s 11ms/step - loss: 447.2542 - val_loss: 809.6582\n",
            "Epoch 78/150\n",
            "54/54 [==============================] - 1s 10ms/step - loss: 456.2870 - val_loss: 831.3282\n",
            "Epoch 79/150\n"
          ]
        },
        {
          "name": "stdout",
          "output_type": "stream",
          "text": [
            "54/54 [==============================] - 0s 9ms/step - loss: 447.1076 - val_loss: 804.4989\n",
            "Epoch 80/150\n",
            "54/54 [==============================] - 0s 8ms/step - loss: 445.8835 - val_loss: 807.8235\n",
            "Epoch 81/150\n",
            "54/54 [==============================] - 0s 8ms/step - loss: 447.3373 - val_loss: 815.9092\n",
            "Epoch 82/150\n",
            "54/54 [==============================] - 0s 8ms/step - loss: 442.4566 - val_loss: 811.8265\n",
            "Epoch 83/150\n",
            "54/54 [==============================] - 0s 7ms/step - loss: 445.9498 - val_loss: 802.0253\n",
            "Epoch 84/150\n",
            "54/54 [==============================] - 0s 7ms/step - loss: 449.8044 - val_loss: 843.6712\n",
            "Epoch 85/150\n",
            "54/54 [==============================] - 0s 8ms/step - loss: 449.9603 - val_loss: 804.3387\n",
            "Epoch 86/150\n",
            "54/54 [==============================] - 0s 8ms/step - loss: 441.7144 - val_loss: 827.8116\n",
            "Epoch 87/150\n",
            "54/54 [==============================] - 0s 8ms/step - loss: 446.8183 - val_loss: 835.1528\n",
            "Epoch 88/150\n",
            "54/54 [==============================] - 0s 8ms/step - loss: 444.4839 - val_loss: 815.6533\n",
            "Epoch 89/150\n",
            "54/54 [==============================] - 0s 9ms/step - loss: 452.0737 - val_loss: 816.4583\n",
            "Epoch 90/150\n",
            "54/54 [==============================] - 1s 10ms/step - loss: 456.4079 - val_loss: 837.9310\n",
            "Epoch 91/150\n",
            "54/54 [==============================] - 1s 10ms/step - loss: 446.9168 - val_loss: 808.3180\n",
            "Epoch 92/150\n",
            "54/54 [==============================] - 1s 9ms/step - loss: 461.7946 - val_loss: 851.1283\n",
            "Epoch 93/150\n",
            "54/54 [==============================] - 1s 10ms/step - loss: 449.5647 - val_loss: 811.5761\n",
            "Epoch 94/150\n",
            "54/54 [==============================] - 1s 11ms/step - loss: 452.8066 - val_loss: 840.8730\n",
            "Epoch 95/150\n",
            "54/54 [==============================] - 1s 11ms/step - loss: 459.7910 - val_loss: 830.4965\n",
            "Epoch 96/150\n",
            "54/54 [==============================] - 1s 11ms/step - loss: 442.3994 - val_loss: 822.1216\n",
            "Epoch 97/150\n",
            "54/54 [==============================] - 1s 10ms/step - loss: 445.7292 - val_loss: 817.6230\n",
            "Epoch 98/150\n",
            "54/54 [==============================] - 1s 11ms/step - loss: 461.9831 - val_loss: 816.5062\n",
            "Epoch 99/150\n",
            "54/54 [==============================] - 1s 11ms/step - loss: 460.6658 - val_loss: 816.5333\n",
            "Epoch 100/150\n",
            "54/54 [==============================] - 1s 11ms/step - loss: 458.2655 - val_loss: 836.8904\n",
            "Epoch 101/150\n",
            "54/54 [==============================] - 1s 12ms/step - loss: 454.6076 - val_loss: 869.2217\n",
            "Epoch 102/150\n",
            "54/54 [==============================] - 1s 12ms/step - loss: 450.5382 - val_loss: 817.8932\n",
            "Epoch 103/150\n",
            "54/54 [==============================] - 1s 10ms/step - loss: 452.5060 - val_loss: 848.6309\n",
            "Epoch 104/150\n",
            "54/54 [==============================] - 1s 12ms/step - loss: 447.4116 - val_loss: 817.0185\n",
            "Epoch 105/150\n",
            "54/54 [==============================] - 1s 10ms/step - loss: 446.3854 - val_loss: 844.9639\n",
            "Epoch 106/150\n",
            "54/54 [==============================] - 1s 11ms/step - loss: 452.7744 - val_loss: 816.2618\n",
            "Epoch 107/150\n",
            "54/54 [==============================] - 1s 10ms/step - loss: 446.1290 - val_loss: 819.1943\n",
            "Epoch 108/150\n",
            "54/54 [==============================] - 1s 11ms/step - loss: 440.3103 - val_loss: 818.9022\n",
            "Epoch 109/150\n",
            "54/54 [==============================] - 0s 8ms/step - loss: 445.1785 - val_loss: 829.8281\n",
            "Epoch 110/150\n",
            "54/54 [==============================] - 0s 8ms/step - loss: 444.6812 - val_loss: 818.8018\n",
            "Epoch 111/150\n",
            "54/54 [==============================] - 0s 8ms/step - loss: 445.7847 - val_loss: 824.8265\n",
            "Epoch 112/150\n",
            "54/54 [==============================] - 0s 9ms/step - loss: 442.2236 - val_loss: 826.9330\n",
            "Epoch 113/150\n",
            "54/54 [==============================] - 0s 8ms/step - loss: 438.9902 - val_loss: 833.7703\n",
            "Epoch 114/150\n",
            "54/54 [==============================] - 0s 7ms/step - loss: 451.2896 - val_loss: 805.1067\n",
            "Epoch 115/150\n",
            "54/54 [==============================] - 0s 8ms/step - loss: 446.7925 - val_loss: 807.2731\n",
            "Epoch 116/150\n",
            "54/54 [==============================] - 0s 8ms/step - loss: 456.0232 - val_loss: 830.2517\n",
            "Epoch 117/150\n",
            "54/54 [==============================] - 0s 9ms/step - loss: 448.0719 - val_loss: 838.3375\n",
            "Epoch 118/150\n",
            "54/54 [==============================] - 0s 9ms/step - loss: 449.3753 - val_loss: 823.6768\n",
            "Epoch 119/150\n",
            "54/54 [==============================] - 0s 9ms/step - loss: 442.8257 - val_loss: 805.9714\n",
            "Epoch 120/150\n",
            "54/54 [==============================] - 1s 11ms/step - loss: 439.3802 - val_loss: 814.1440\n",
            "Epoch 121/150\n",
            "54/54 [==============================] - 1s 10ms/step - loss: 449.3046 - val_loss: 825.1297\n",
            "Epoch 122/150\n",
            "54/54 [==============================] - 1s 10ms/step - loss: 434.2260 - val_loss: 818.1442\n",
            "Epoch 123/150\n",
            "54/54 [==============================] - 1s 11ms/step - loss: 443.7502 - val_loss: 816.6261\n",
            "Epoch 124/150\n",
            "54/54 [==============================] - 1s 10ms/step - loss: 443.6512 - val_loss: 812.0379\n",
            "Epoch 125/150\n",
            "54/54 [==============================] - 1s 10ms/step - loss: 444.1141 - val_loss: 825.8547\n",
            "Epoch 126/150\n",
            "54/54 [==============================] - 1s 11ms/step - loss: 441.5869 - val_loss: 811.3177\n",
            "Epoch 127/150\n",
            "54/54 [==============================] - 1s 10ms/step - loss: 442.7350 - val_loss: 814.6497\n",
            "Epoch 128/150\n",
            "54/54 [==============================] - 1s 11ms/step - loss: 437.3551 - val_loss: 817.9415\n",
            "Epoch 129/150\n",
            "54/54 [==============================] - 1s 11ms/step - loss: 447.5929 - val_loss: 820.5266\n",
            "Epoch 130/150\n",
            "54/54 [==============================] - 1s 10ms/step - loss: 439.6420 - val_loss: 818.3497\n",
            "Epoch 131/150\n",
            "54/54 [==============================] - 1s 10ms/step - loss: 447.1820 - val_loss: 832.0566\n",
            "Epoch 132/150\n",
            "54/54 [==============================] - 1s 9ms/step - loss: 444.9552 - val_loss: 821.0867\n",
            "Epoch 133/150\n",
            "54/54 [==============================] - 1s 9ms/step - loss: 442.2029 - val_loss: 826.3254\n",
            "Epoch 134/150\n",
            "54/54 [==============================] - 1s 10ms/step - loss: 439.8041 - val_loss: 864.0184\n",
            "Epoch 135/150\n",
            "54/54 [==============================] - 1s 10ms/step - loss: 449.0430 - val_loss: 825.2152\n",
            "Epoch 136/150\n",
            "54/54 [==============================] - 0s 9ms/step - loss: 446.8631 - val_loss: 839.3763\n",
            "Epoch 137/150\n",
            "54/54 [==============================] - 1s 9ms/step - loss: 440.4900 - val_loss: 826.7570\n",
            "Epoch 138/150\n",
            "54/54 [==============================] - 1s 10ms/step - loss: 441.7623 - val_loss: 830.2290\n",
            "Epoch 139/150\n",
            "54/54 [==============================] - 1s 11ms/step - loss: 441.5042 - val_loss: 829.2145\n",
            "Epoch 140/150\n",
            "54/54 [==============================] - 0s 9ms/step - loss: 450.4102 - val_loss: 838.8292\n",
            "Epoch 141/150\n",
            "54/54 [==============================] - 0s 9ms/step - loss: 438.9684 - val_loss: 847.8129\n",
            "Epoch 142/150\n",
            "54/54 [==============================] - 0s 9ms/step - loss: 444.8995 - val_loss: 821.3145\n",
            "Epoch 143/150\n",
            "54/54 [==============================] - 0s 7ms/step - loss: 436.1196 - val_loss: 817.4351\n",
            "Epoch 144/150\n",
            "54/54 [==============================] - 0s 8ms/step - loss: 436.3375 - val_loss: 825.7515\n",
            "Epoch 145/150\n",
            "54/54 [==============================] - 0s 7ms/step - loss: 442.8375 - val_loss: 829.2311\n",
            "Epoch 146/150\n",
            "54/54 [==============================] - 0s 8ms/step - loss: 434.4294 - val_loss: 842.7117\n",
            "Epoch 147/150\n",
            "54/54 [==============================] - 1s 9ms/step - loss: 443.8179 - val_loss: 839.1746\n",
            "Epoch 148/150\n",
            "54/54 [==============================] - 0s 8ms/step - loss: 438.8834 - val_loss: 838.4817\n",
            "Epoch 149/150\n",
            "54/54 [==============================] - 0s 9ms/step - loss: 437.4588 - val_loss: 830.1636\n",
            "Epoch 150/150\n",
            "54/54 [==============================] - 0s 8ms/step - loss: 436.8567 - val_loss: 865.8278\n"
          ]
        },
        {
          "data": {
            "text/plain": [
              "<keras.callbacks.History at 0x1a71dc50340>"
            ]
          },
          "execution_count": 149,
          "metadata": {},
          "output_type": "execute_result"
        }
      ],
      "source": [
        "model.fit(x=x_train,y=y_train,validation_data=(x_test,y_test),batch_size= 80,epochs=150)"
      ]
    },
    {
      "cell_type": "code",
      "execution_count": null,
      "id": "e756b410",
      "metadata": {
        "id": "e756b410"
      },
      "outputs": [],
      "source": [
        "losses = pd.DataFrame(model.history.history)"
      ]
    },
    {
      "cell_type": "code",
      "execution_count": null,
      "id": "9b6595fd",
      "metadata": {
        "id": "9b6595fd",
        "outputId": "23f7b4ef-3a56-4766-bb04-02e7095516c2"
      },
      "outputs": [
        {
          "data": {
            "text/html": [
              "<div>\n",
              "<style scoped>\n",
              "    .dataframe tbody tr th:only-of-type {\n",
              "        vertical-align: middle;\n",
              "    }\n",
              "\n",
              "    .dataframe tbody tr th {\n",
              "        vertical-align: top;\n",
              "    }\n",
              "\n",
              "    .dataframe thead th {\n",
              "        text-align: right;\n",
              "    }\n",
              "</style>\n",
              "<table border=\"1\" class=\"dataframe\">\n",
              "  <thead>\n",
              "    <tr style=\"text-align: right;\">\n",
              "      <th></th>\n",
              "      <th>loss</th>\n",
              "      <th>val_loss</th>\n",
              "    </tr>\n",
              "  </thead>\n",
              "  <tbody>\n",
              "    <tr>\n",
              "      <th>0</th>\n",
              "      <td>456.681427</td>\n",
              "      <td>793.168213</td>\n",
              "    </tr>\n",
              "    <tr>\n",
              "      <th>1</th>\n",
              "      <td>459.064453</td>\n",
              "      <td>824.977722</td>\n",
              "    </tr>\n",
              "    <tr>\n",
              "      <th>2</th>\n",
              "      <td>453.729462</td>\n",
              "      <td>788.733643</td>\n",
              "    </tr>\n",
              "    <tr>\n",
              "      <th>3</th>\n",
              "      <td>452.512604</td>\n",
              "      <td>794.730957</td>\n",
              "    </tr>\n",
              "    <tr>\n",
              "      <th>4</th>\n",
              "      <td>450.720245</td>\n",
              "      <td>791.261719</td>\n",
              "    </tr>\n",
              "    <tr>\n",
              "      <th>...</th>\n",
              "      <td>...</td>\n",
              "      <td>...</td>\n",
              "    </tr>\n",
              "    <tr>\n",
              "      <th>145</th>\n",
              "      <td>434.429382</td>\n",
              "      <td>842.711670</td>\n",
              "    </tr>\n",
              "    <tr>\n",
              "      <th>146</th>\n",
              "      <td>443.817902</td>\n",
              "      <td>839.174622</td>\n",
              "    </tr>\n",
              "    <tr>\n",
              "      <th>147</th>\n",
              "      <td>438.883392</td>\n",
              "      <td>838.481689</td>\n",
              "    </tr>\n",
              "    <tr>\n",
              "      <th>148</th>\n",
              "      <td>437.458832</td>\n",
              "      <td>830.163635</td>\n",
              "    </tr>\n",
              "    <tr>\n",
              "      <th>149</th>\n",
              "      <td>436.856720</td>\n",
              "      <td>865.827820</td>\n",
              "    </tr>\n",
              "  </tbody>\n",
              "</table>\n",
              "<p>150 rows × 2 columns</p>\n",
              "</div>"
            ],
            "text/plain": [
              "           loss    val_loss\n",
              "0    456.681427  793.168213\n",
              "1    459.064453  824.977722\n",
              "2    453.729462  788.733643\n",
              "3    452.512604  794.730957\n",
              "4    450.720245  791.261719\n",
              "..          ...         ...\n",
              "145  434.429382  842.711670\n",
              "146  443.817902  839.174622\n",
              "147  438.883392  838.481689\n",
              "148  437.458832  830.163635\n",
              "149  436.856720  865.827820\n",
              "\n",
              "[150 rows x 2 columns]"
            ]
          },
          "execution_count": 151,
          "metadata": {},
          "output_type": "execute_result"
        }
      ],
      "source": [
        "losses"
      ]
    },
    {
      "cell_type": "code",
      "execution_count": null,
      "id": "3fe24e55",
      "metadata": {
        "id": "3fe24e55",
        "outputId": "d71d87a7-75cd-44c1-d382-558c231391a8"
      },
      "outputs": [
        {
          "data": {
            "text/plain": [
              "<AxesSubplot:>"
            ]
          },
          "execution_count": 152,
          "metadata": {},
          "output_type": "execute_result"
        },
        {
          "data": {
            "image/png": "[encoded data removed]",
            "text/plain": [
              "<Figure size 432x288 with 1 Axes>"
            ]
          },
          "metadata": {
            "needs_background": "light"
          },
          "output_type": "display_data"
        }
      ],
      "source": [
        "import matplotlib.pyplot as plt\n",
        "losses.plot()"
      ]
    },
    {
      "cell_type": "code",
      "execution_count": null,
      "id": "6100b370",
      "metadata": {
        "id": "6100b370",
        "outputId": "5f657d1f-6894-460d-da2d-c0ed4a8a5b9a"
      },
      "outputs": [
        {
          "name": "stdout",
          "output_type": "stream",
          "text": [
            "34/34 [==============================] - 0s 5ms/step\n"
          ]
        }
      ],
      "source": [
        "predictions = model.predict(x_test)"
      ]
    },
    {
      "cell_type": "code",
      "execution_count": null,
      "id": "d406fb74",
      "metadata": {
        "id": "d406fb74",
        "outputId": "0926b82b-0fa7-4748-e6b3-426498914644"
      },
      "outputs": [
        {
          "data": {
            "text/plain": [
              "array([[ 90.56023 ],\n",
              "       [153.61536 ],\n",
              "       [102.97087 ],\n",
              "       ...,\n",
              "       [ 73.05275 ],\n",
              "       [104.27498 ],\n",
              "       [ 98.283844]], dtype=float32)"
            ]
          },
          "execution_count": 154,
          "metadata": {},
          "output_type": "execute_result"
        }
      ],
      "source": [
        "predictions"
      ]
    },
    {
      "cell_type": "code",
      "execution_count": null,
      "id": "ea14a38b",
      "metadata": {
        "id": "ea14a38b",
        "outputId": "db890609-dc20-4aee-ef0b-bdaefbc87e10"
      },
      "outputs": [
        {
          "data": {
            "text/plain": [
              "array([ 92., 165.,  90., ..., 105., 169., 125.])"
            ]
          },
          "execution_count": 155,
          "metadata": {},
          "output_type": "execute_result"
        }
      ],
      "source": [
        "y_test"
      ]
    },
    {
      "cell_type": "code",
      "execution_count": null,
      "id": "81915067",
      "metadata": {
        "id": "81915067",
        "outputId": "dbb3c157-6256-4a32-cf09-8f39a4d0a5ea"
      },
      "outputs": [
        {
          "data": {
            "text/plain": [
              "<matplotlib.collections.PathCollection at 0x1a71c919130>"
            ]
          },
          "execution_count": 158,
          "metadata": {},
          "output_type": "execute_result"
        },
        {
          "data": {
            "image/png": "[encoded data removed]",
            "text/plain": [
              "<Figure size 432x288 with 1 Axes>"
            ]
          },
          "metadata": {
            "needs_background": "light"
          },
          "output_type": "display_data"
        }
      ],
      "source": [
        "plt.scatter(y_test,predictions)"
      ]
    },
    {
      "cell_type": "code",
      "execution_count": null,
      "id": "a58d316d",
      "metadata": {
        "id": "a58d316d",
        "outputId": "204c3a26-d894-4560-8261-cf85d1c7456c"
      },
      "outputs": [
        {
          "data": {
            "text/plain": [
              "0.8654122946191409"
            ]
          },
          "execution_count": 119,
          "metadata": {},
          "output_type": "execute_result"
        }
      ],
      "source": [
        "from sklearn.linear_model import LinearRegression\n",
        "lr = LinearRegression()\n",
        "lr.fit(x_train,y_train)\n",
        "lr.score(x_test,y_test)"
      ]
    }
  ],
  "metadata": {
    "kernelspec": {
      "display_name": "Python 3 (ipykernel)",
      "language": "python",
      "name": "python3"
    },
    "language_info": {
      "codemirror_mode": {
        "name": "ipython",
        "version": 3
      },
      "file_extension": ".py",
      "mimetype": "text/x-python",
      "name": "python",
      "nbconvert_exporter": "python",
      "pygments_lexer": "ipython3",
      "version": "3.9.12"
    },
    "colab": {
      "provenance": [],
      "include_colab_link": true
    }
  },
  "nbformat": 4,
  "nbformat_minor": 5
}