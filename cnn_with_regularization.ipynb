{
  "cells": [
    {
      "cell_type": "markdown",
      "metadata": {
        "id": "view-in-github",
        "colab_type": "text"
      },
      "source": [
        "<a href=\"https://colab.research.google.com/github/shrutin11/Deep-Learning-and-Computer-Vision-Lab/blob/main/cnn_with_regularization.ipynb\" target=\"_parent\"><img src=\"https://colab.research.google.com/assets/colab-badge.svg\" alt=\"Open In Colab\"/></a>"
      ]
    },
    {
      "cell_type": "code",
      "execution_count": null,
      "metadata": {
        "id": "zHuxP8JWdna0"
      },
      "outputs": [],
      "source": [
        "import pandas as pd\n",
        "from sklearn.datasets import make_classification\n",
        "import seaborn as sns\n",
        "import matplotlib.pyplot as plt\n",
        "import numpy as np\n",
        "from keras.models import Sequential\n",
        "import tensorflow as tf\n",
        "from sklearn.model_selection import train_test_split\n",
        "from keras import regularizers\n",
        "from keras.callbacks import EarlyStopping\n",
        "#import plotly.express as px\n",
        "from keras.layers import Dense,Dropout,Conv1D,MaxPooling1D,Flatten,BatchNormalization\n",
        "from tensorflow.keras import layers,initializers\n",
        "from keras.callbacks import LearningRateScheduler\n",
        "from keras.callbacks import History\n",
        "from keras import losses\n",
        "#from livelossplot import PlotLossesKeras\n",
        "from keras.callbacks import EarlyStopping"
      ]
    },
    {
      "cell_type": "code",
      "execution_count": null,
      "metadata": {
        "id": "aThFCOIKuWvz"
      },
      "outputs": [],
      "source": [
        "#pip install livelossplot"
      ]
    },
    {
      "cell_type": "code",
      "execution_count": null,
      "metadata": {
        "id": "N-51EIrFfMN5"
      },
      "outputs": [],
      "source": [
        "x,y=make_classification(n_samples=10000,n_features=100,n_informative=5,n_redundant=15,random_state=1)"
      ]
    },
    {
      "cell_type": "code",
      "execution_count": null,
      "metadata": {
        "id": "uY1n7OZdgGcw"
      },
      "outputs": [],
      "source": [
        "x_train,x_test,y_train,y_test=train_test_split(x,y,test_size=.25,random_state=42)"
      ]
    },
    {
      "cell_type": "code",
      "execution_count": null,
      "metadata": {
        "colab": {
          "base_uri": "https://localhost:8080/"
        },
        "id": "u0KLtIl2gQNN",
        "outputId": "f19770e3-b33d-4cbc-bc4b-ccf75130a41f"
      },
      "outputs": [
        {
          "name": "stdout",
          "output_type": "stream",
          "text": [
            "(7500, 100) (7500,)\n",
            "(2500, 100) (2500,)\n"
          ]
        }
      ],
      "source": [
        "print(x_train.shape,y_train.shape)\n",
        "print(x_test.shape,y_test.shape)"
      ]
    },
    {
      "cell_type": "markdown",
      "metadata": {
        "id": "BtL8Y5IGiDuL"
      },
      "source": [
        "# **WITHOUT REGULARISATION**"
      ]
    },
    {
      "cell_type": "code",
      "execution_count": null,
      "metadata": {
        "id": "o21CeZechigL"
      },
      "outputs": [],
      "source": [
        "model=Sequential()\n",
        "initializer=tf.keras.initializers.GlorotUniform() #Xavier intialiser for weights (The Glorot uniform initializer, also known as the Xavier uniform initializer, randomly selects values from a uniform distribution ranging -limit to +limit)\n",
        "model.add(Conv1D(64,2,activation='relu',kernel_initializer=initializer,input_shape=(100,1),use_bias=False))  #The filter (64)--the number of output filters in convention layer in CNN,kernal size=height*width\n",
        "model.add(BatchNormalization())\n",
        "model.add(Dense(32,activation=\"relu\"))\n",
        "model.add(BatchNormalization())\n",
        "model.add(MaxPooling1D())\n",
        "model.add(Flatten())\n",
        "model.add(Dense(2,activation=\"softmax\"))"
      ]
    },
    {
      "cell_type": "code",
      "execution_count": null,
      "metadata": {
        "id": "Q7KcnctclUXQ"
      },
      "outputs": [],
      "source": [
        "model.compile(optimizer='sgd',loss='sparse_categorical_crossentropy',metrics=['accuracy'])"
      ]
    },
    {
      "cell_type": "code",
      "execution_count": null,
      "metadata": {
        "id": "A3OP04Lasr5O"
      },
      "outputs": [],
      "source": [
        "history=model.fit(x_train,y_train,epochs=50,validation_data=(x_test,y_test),verbose=0)"
      ]
    },
    {
      "cell_type": "code",
      "execution_count": null,
      "metadata": {
        "colab": {
          "base_uri": "https://localhost:8080/"
        },
        "id": "bLKhZ8L8wCBL",
        "outputId": "ee9f1ce0-2f39-4485-cf70-b88c2d5211e1"
      },
      "outputs": [
        {
          "name": "stdout",
          "output_type": "stream",
          "text": [
            "Model: \"sequential\"\n",
            "_________________________________________________________________\n",
            " Layer (type)                Output Shape              Param #   \n",
            "=================================================================\n",
            " conv1d (Conv1D)             (None, 99, 64)            128       \n",
            "                                                                 \n",
            " batch_normalization (BatchN  (None, 99, 64)           256       \n",
            " ormalization)                                                   \n",
            "                                                                 \n",
            " dense (Dense)               (None, 99, 32)            2080      \n",
            "                                                                 \n",
            " batch_normalization_1 (Batc  (None, 99, 32)           128       \n",
            " hNormalization)                                                 \n",
            "                                                                 \n",
            " max_pooling1d (MaxPooling1D  (None, 49, 32)           0         \n",
            " )                                                               \n",
            "                                                                 \n",
            " flatten (Flatten)           (None, 1568)              0         \n",
            "                                                                 \n",
            " dense_1 (Dense)             (None, 2)                 3138      \n",
            "                                                                 \n",
            "=================================================================\n",
            "Total params: 5,730\n",
            "Trainable params: 5,538\n",
            "Non-trainable params: 192\n",
            "_________________________________________________________________\n"
          ]
        }
      ],
      "source": [
        "model.summary()"
      ]
    },
    {
      "cell_type": "code",
      "execution_count": null,
      "metadata": {
        "colab": {
          "base_uri": "https://localhost:8080/"
        },
        "id": "pd64Jmjpzy1A",
        "outputId": "507f5c9f-cb4a-492d-ca8f-adc72f45c39d"
      },
      "outputs": [
        {
          "name": "stdout",
          "output_type": "stream",
          "text": [
            "79/79 [==============================] - 1s 9ms/step - loss: 0.3742 - accuracy: 0.8776\n",
            "Accuracy = 87.76000142097473\n",
            "Loss = 37.41786181926727\n"
          ]
        }
      ],
      "source": [
        "loss, accuracy =model.evaluate(x_test, y_test)\n",
        "print('Accuracy =', (accuracy*100))\n",
        "print(\"Loss =\",(loss*100))"
      ]
    },
    {
      "cell_type": "code",
      "execution_count": null,
      "metadata": {
        "id": "gfNNKiI08eEc"
      },
      "outputs": [],
      "source": [
        "def plot_learningCurve(history, epoch):\n",
        "  # Plot training & validation accuracy values\n",
        "  plt.figure(figsize=(5,5))\n",
        "  epoch_range = range(1, epoch+1)\n",
        "  plt.plot(epoch_range, history.history['accuracy'])\n",
        "  plt.plot(epoch_range, history.history['val_accuracy'])\n",
        "  plt.title('Model accuracy')\n",
        "  plt.ylabel('Accuracy')\n",
        "  plt.xlabel('Epoch')\n",
        "  plt.legend(['Train', 'Val'], loc='upper left')\n",
        "  plt.show()\n",
        "\n",
        "  # Plot training & validation loss values\n",
        "  plt.figure(figsize=(5,5))\n",
        "  plt.plot(epoch_range, history.history['loss'])\n",
        "  plt.plot(epoch_range, history.history['val_loss'])\n",
        "  plt.title('Model loss')\n",
        "  plt.ylabel('Loss')\n",
        "  plt.xlabel('Epoch')\n",
        "  plt.legend(['Train', 'Val'], loc='upper left')\n",
        "  plt.show()"
      ]
    },
    {
      "cell_type": "code",
      "execution_count": null,
      "metadata": {
        "colab": {
          "base_uri": "https://localhost:8080/",
          "height": 683
        },
        "id": "3NAYbVtp8fyh",
        "outputId": "5ebd6d4d-c8eb-4049-a8f8-cc59c7bb376c"
      },
      "outputs": [
        {
          "data": {
            "image/png": "[encoded data removed]",
            "text/plain": [
              "<Figure size 360x360 with 1 Axes>"
            ]
          },
          "metadata": {
            "needs_background": "light"
          },
          "output_type": "display_data"
        },
        {
          "data": {
            "image/png": "[encoded data removed]",
            "text/plain": [
              "<Figure size 360x360 with 1 Axes>"
            ]
          },
          "metadata": {
            "needs_background": "light"
          },
          "output_type": "display_data"
        }
      ],
      "source": [
        "plot_learningCurve(history,50)"
      ]
    },
    {
      "cell_type": "markdown",
      "metadata": {
        "id": "I2hGwQDD-j0J"
      },
      "source": [
        "The model is **ovefitted**.To reduce overfiited we are using regularsiation methods.\n",
        "\n",
        "Regularisation Methods\n",
        "\n",
        "*Dropout\n",
        "\n",
        "*L1 and L2\n",
        "\n",
        "*Early Stopping"
      ]
    },
    {
      "cell_type": "markdown",
      "metadata": {
        "id": "DPHSz4HhFo5L"
      },
      "source": [
        "# **DROPOUT**"
      ]
    },
    {
      "cell_type": "code",
      "execution_count": null,
      "metadata": {
        "id": "ao7_Hv_5-EpE"
      },
      "outputs": [],
      "source": [
        "model1=Sequential()\n",
        "initializer=tf.keras.initializers.GlorotUniform() #Xavier intialiser for weights\n",
        "model1.add(Conv1D(64,2,activation='relu',kernel_initializer=initializer,input_shape=(100,1),use_bias=False))  #The filter (64)--the number of output filters in convention layer in CNN,kernal size=height*width\n",
        "model1.add(Dropout(0.5))\n",
        "model1.add(BatchNormalization())\n",
        "model1.add(Dense(32,activation=\"relu\"))\n",
        "model1.add(Dropout(0.2))\n",
        "model1.add(BatchNormalization())\n",
        "model1.add(MaxPooling1D())\n",
        "model1.add(Flatten())\n",
        "model1.add(Dense(2,activation=\"softmax\"))"
      ]
    },
    {
      "cell_type": "code",
      "execution_count": null,
      "metadata": {
        "id": "5mYX7DOI_c_y"
      },
      "outputs": [],
      "source": [
        "model1.compile(optimizer='adam',loss='sparse_categorical_crossentropy',metrics=['accuracy'])"
      ]
    },
    {
      "cell_type": "code",
      "execution_count": null,
      "metadata": {
        "id": "4ujW0cWa_g1_"
      },
      "outputs": [],
      "source": [
        "history=model1.fit(x_train,y_train,epochs=50,validation_data=(x_test,y_test),verbose=0)"
      ]
    },
    {
      "cell_type": "code",
      "execution_count": null,
      "metadata": {
        "colab": {
          "base_uri": "https://localhost:8080/"
        },
        "id": "F0soYCIl_pjI",
        "outputId": "b1b09d1e-0ad9-4926-f605-4d6bf1b762cc"
      },
      "outputs": [
        {
          "name": "stdout",
          "output_type": "stream",
          "text": [
            "Model: \"sequential_1\"\n",
            "_________________________________________________________________\n",
            " Layer (type)                Output Shape              Param #   \n",
            "=================================================================\n",
            " conv1d_1 (Conv1D)           (None, 99, 64)            128       \n",
            "                                                                 \n",
            " dropout (Dropout)           (None, 99, 64)            0         \n",
            "                                                                 \n",
            " batch_normalization_2 (Batc  (None, 99, 64)           256       \n",
            " hNormalization)                                                 \n",
            "                                                                 \n",
            " dense_2 (Dense)             (None, 99, 32)            2080      \n",
            "                                                                 \n",
            " dropout_1 (Dropout)         (None, 99, 32)            0         \n",
            "                                                                 \n",
            " batch_normalization_3 (Batc  (None, 99, 32)           128       \n",
            " hNormalization)                                                 \n",
            "                                                                 \n",
            " max_pooling1d_1 (MaxPooling  (None, 49, 32)           0         \n",
            " 1D)                                                             \n",
            "                                                                 \n",
            " flatten_1 (Flatten)         (None, 1568)              0         \n",
            "                                                                 \n",
            " dense_3 (Dense)             (None, 2)                 3138      \n",
            "                                                                 \n",
            "=================================================================\n",
            "Total params: 5,730\n",
            "Trainable params: 5,538\n",
            "Non-trainable params: 192\n",
            "_________________________________________________________________\n"
          ]
        }
      ],
      "source": [
        "model1.summary()"
      ]
    },
    {
      "cell_type": "code",
      "execution_count": null,
      "metadata": {
        "colab": {
          "base_uri": "https://localhost:8080/"
        },
        "id": "az1F3LUX_rvV",
        "outputId": "5fae9243-18e6-45df-a3eb-5aa726ed2199"
      },
      "outputs": [
        {
          "name": "stdout",
          "output_type": "stream",
          "text": [
            "79/79 [==============================] - 1s 10ms/step - loss: 0.2351 - accuracy: 0.9120\n",
            "Accuracy = 91.20000004768372\n",
            "Loss = 23.510685563087463\n"
          ]
        }
      ],
      "source": [
        "loss, accuracy =model1.evaluate(x_test, y_test)\n",
        "print('Accuracy =', (accuracy*100))\n",
        "print(\"Loss =\",(loss*100))"
      ]
    },
    {
      "cell_type": "code",
      "execution_count": null,
      "metadata": {
        "id": "7KPo9j1y_1L_"
      },
      "outputs": [],
      "source": [
        "def plot_learningCurve(history, epoch):\n",
        "  # Plot training & validation accuracy values\n",
        "  plt.figure(figsize=(5,5))\n",
        "  epoch_range = range(1, epoch+1)\n",
        "  plt.plot(epoch_range, history.history['accuracy'])\n",
        "  plt.plot(epoch_range, history.history['val_accuracy'])\n",
        "  plt.title('Model accuracy')\n",
        "  plt.ylabel('Accuracy')\n",
        "  plt.xlabel('Epoch')\n",
        "  plt.legend(['Train', 'Val'], loc='upper left')\n",
        "  plt.show()\n",
        "\n",
        "  # Plot training & validation loss values\n",
        "  plt.figure(figsize=(5,5))\n",
        "  plt.plot(epoch_range, history.history['loss'])\n",
        "  plt.plot(epoch_range, history.history['val_loss'])\n",
        "  plt.title('Model loss')\n",
        "  plt.ylabel('Loss')\n",
        "  plt.xlabel('Epoch')\n",
        "  plt.legend(['Train', 'Val'], loc='upper left')\n",
        "  plt.show()"
      ]
    },
    {
      "cell_type": "code",
      "execution_count": null,
      "metadata": {
        "colab": {
          "base_uri": "https://localhost:8080/",
          "height": 683
        },
        "id": "v39jwsy_BRBY",
        "outputId": "3c5b62f6-3d47-4b22-e050-d39183325f0b"
      },
      "outputs": [
        {
          "data": {
            "image/png": "[encoded data removed]",
            "text/plain": [
              "<Figure size 360x360 with 1 Axes>"
            ]
          },
          "metadata": {
            "needs_background": "light"
          },
          "output_type": "display_data"
        },
        {
          "data": {
            "image/png": "[encoded data removed]",
            "text/plain": [
              "<Figure size 360x360 with 1 Axes>"
            ]
          },
          "metadata": {
            "needs_background": "light"
          },
          "output_type": "display_data"
        }
      ],
      "source": [
        "plot_learningCurve(history,50)"
      ]
    },
    {
      "cell_type": "markdown",
      "metadata": {
        "id": "6W30o7nbB0y6"
      },
      "source": [
        "# **L1 and L2 Regularisation**"
      ]
    },
    {
      "cell_type": "code",
      "execution_count": null,
      "metadata": {
        "id": "K-UzDylPBx8S"
      },
      "outputs": [],
      "source": [
        "model2=Sequential()\n",
        "initializer=tf.keras.initializers.GlorotUniform() #Xavier intialiser for weights\n",
        "model2.add(Conv1D(64,2,activation='relu',kernel_initializer=initializer,input_shape=(100,1),kernel_regularizer =tf.keras.regularizers.l1( l=0.01),use_bias=False))  #The filter (64)--the number of output filters in convention layer in CNN,kernal size=height*width\n",
        "model2.add(BatchNormalization())\n",
        "model2.add(Dense(32,activation=\"relu\"))\n",
        "model2.add(BatchNormalization())\n",
        "model2.add(MaxPooling1D())\n",
        "model2.add(Flatten())\n",
        "model2.add(Dense(2,activation=\"softmax\"))"
      ]
    },
    {
      "cell_type": "code",
      "execution_count": null,
      "metadata": {
        "id": "-yhNJZX7JLOh"
      },
      "outputs": [],
      "source": [
        "model2.compile(optimizer='adam',loss='sparse_categorical_crossentropy',metrics=['accuracy'])"
      ]
    },
    {
      "cell_type": "code",
      "execution_count": null,
      "metadata": {
        "id": "6j-Q_LOjFH4Z"
      },
      "outputs": [],
      "source": [
        "history=model2.fit(x_train,y_train,epochs=50,validation_data=(x_test,y_test),verbose=0)"
      ]
    },
    {
      "cell_type": "code",
      "execution_count": null,
      "metadata": {
        "colab": {
          "base_uri": "https://localhost:8080/"
        },
        "id": "i74SUJZfF9Dp",
        "outputId": "640f0d16-0fc1-4426-861c-a9d730faaa6a"
      },
      "outputs": [
        {
          "name": "stdout",
          "output_type": "stream",
          "text": [
            "Model: \"sequential_2\"\n",
            "_________________________________________________________________\n",
            " Layer (type)                Output Shape              Param #   \n",
            "=================================================================\n",
            " conv1d_2 (Conv1D)           (None, 99, 64)            128       \n",
            "                                                                 \n",
            " batch_normalization_4 (Batc  (None, 99, 64)           256       \n",
            " hNormalization)                                                 \n",
            "                                                                 \n",
            " dense_4 (Dense)             (None, 99, 32)            2080      \n",
            "                                                                 \n",
            " batch_normalization_5 (Batc  (None, 99, 32)           128       \n",
            " hNormalization)                                                 \n",
            "                                                                 \n",
            " max_pooling1d_2 (MaxPooling  (None, 49, 32)           0         \n",
            " 1D)                                                             \n",
            "                                                                 \n",
            " flatten_2 (Flatten)         (None, 1568)              0         \n",
            "                                                                 \n",
            " dense_5 (Dense)             (None, 2)                 3138      \n",
            "                                                                 \n",
            "=================================================================\n",
            "Total params: 5,730\n",
            "Trainable params: 5,538\n",
            "Non-trainable params: 192\n",
            "_________________________________________________________________\n"
          ]
        }
      ],
      "source": [
        "model2.summary()"
      ]
    },
    {
      "cell_type": "code",
      "execution_count": null,
      "metadata": {
        "colab": {
          "base_uri": "https://localhost:8080/"
        },
        "id": "fo3DsjdxF_ij",
        "outputId": "1c6de6e3-f91a-4c6a-bec7-257ce86e0ea8"
      },
      "outputs": [
        {
          "name": "stdout",
          "output_type": "stream",
          "text": [
            "79/79 [==============================] - 1s 10ms/step - loss: 0.3218 - accuracy: 0.8896\n",
            "Accuracy = 88.95999789237976\n",
            "Loss = 32.175177335739136\n"
          ]
        }
      ],
      "source": [
        "loss, accuracy =model2.evaluate(x_test, y_test)\n",
        "print('Accuracy =', (accuracy*100))\n",
        "print(\"Loss =\",(loss*100))"
      ]
    },
    {
      "cell_type": "code",
      "execution_count": null,
      "metadata": {
        "id": "I403M-ICGBfk"
      },
      "outputs": [],
      "source": [
        "def plot_learningCurve(history, epoch):\n",
        "  # Plot training & validation accuracy values\n",
        "  plt.figure(figsize=(5,5))\n",
        "  epoch_range = range(1, epoch+1)\n",
        "  plt.plot(epoch_range, history.history['accuracy'])\n",
        "  plt.plot(epoch_range, history.history['val_accuracy'])\n",
        "  plt.title('Model accuracy')\n",
        "  plt.ylabel('Accuracy')\n",
        "  plt.xlabel('Epoch')\n",
        "  plt.legend(['Train', 'Val'], loc='upper left')\n",
        "  plt.show()\n",
        "\n",
        "  # Plot training & validation loss values\n",
        "  plt.figure(figsize=(5,5))\n",
        "  plt.plot(epoch_range, history.history['loss'])\n",
        "  plt.plot(epoch_range, history.history['val_loss'])\n",
        "  plt.title('Model loss')\n",
        "  plt.ylabel('Loss')\n",
        "  plt.xlabel('Epoch')\n",
        "  plt.legend(['Train', 'Val'], loc='upper left')\n",
        "  plt.show()"
      ]
    },
    {
      "cell_type": "code",
      "execution_count": null,
      "metadata": {
        "colab": {
          "base_uri": "https://localhost:8080/",
          "height": 683
        },
        "id": "PG8WfToZGNQc",
        "outputId": "87385a99-4fe8-42ea-af09-2b4c460c854d"
      },
      "outputs": [
        {
          "data": {
            "image/png": "[encoded data removed]",
            "text/plain": [
              "<Figure size 360x360 with 1 Axes>"
            ]
          },
          "metadata": {
            "needs_background": "light"
          },
          "output_type": "display_data"
        },
        {
          "data": {
            "image/png": "[encoded data removed]",
            "text/plain": [
              "<Figure size 360x360 with 1 Axes>"
            ]
          },
          "metadata": {
            "needs_background": "light"
          },
          "output_type": "display_data"
        }
      ],
      "source": [
        "plot_learningCurve(history,50)"
      ]
    },
    {
      "cell_type": "markdown",
      "metadata": {
        "id": "X5O_zYN9GclI"
      },
      "source": [
        "# **EARLY STOPPING**"
      ]
    },
    {
      "cell_type": "code",
      "execution_count": null,
      "metadata": {
        "id": "yP6WtzQyGb0U"
      },
      "outputs": [],
      "source": [
        "model3=Sequential()\n",
        "initializer=tf.keras.initializers.GlorotUniform() #Xavier intialiser for weights\n",
        "model3.add(Conv1D(64,2,activation='relu',kernel_initializer=initializer,input_shape=(100,1),use_bias=False))  #The filter (64)--the number of output filters in convention layer in CNN,kernal size=height*width\n",
        "model3.add(BatchNormalization())\n",
        "model3.add(Dense(32,activation=\"relu\"))\n",
        "model3.add(BatchNormalization())\n",
        "model3.add(MaxPooling1D())\n",
        "model3.add(Flatten())\n",
        "model3.add(Dense(2,activation=\"softmax\"))\n",
        "monitor_val_acc = EarlyStopping(monitor = 'val_loss', patience = 5)"
      ]
    },
    {
      "cell_type": "code",
      "execution_count": null,
      "metadata": {
        "id": "UNy6m60mJcyQ"
      },
      "outputs": [],
      "source": [
        "model3.compile(optimizer='adam',loss='sparse_categorical_crossentropy',metrics=['accuracy'])"
      ]
    },
    {
      "cell_type": "code",
      "execution_count": null,
      "metadata": {
        "id": "D48tlUCjGzM_",
        "outputId": "47d24440-9ddd-4f7a-9a23-9845f0150936"
      },
      "outputs": [
        {
          "ename": "SyntaxError",
          "evalue": "positional argument follows keyword argument (Temp/ipykernel_10196/1373662951.py, line 1)",
          "output_type": "error",
          "traceback": [
            "\u001b[1;36m  File \u001b[1;32m\"C:\\Users\\Vinutha\\AppData\\Local\\Temp/ipykernel_10196/1373662951.py\"\u001b[1;36m, line \u001b[1;32m1\u001b[0m\n\u001b[1;33m    history=model3.fit(x_train,y_train,epochs=50,x_test,y_test,verbose=0)\u001b[0m\n\u001b[1;37m                                                                        ^\u001b[0m\n\u001b[1;31mSyntaxError\u001b[0m\u001b[1;31m:\u001b[0m positional argument follows keyword argument\n"
          ]
        }
      ],
      "source": [
        "history=model3.fit(x_train,y_train,epochs=50,x_test,y_test,verbose=0)"
      ]
    },
    {
      "cell_type": "code",
      "execution_count": null,
      "metadata": {
        "id": "dqC_wy_vG36E"
      },
      "outputs": [],
      "source": [
        "loss, accuracy =model3.evaluate(x_test, y_test)\n",
        "print('Accuracy =', (accuracy*100))\n",
        "print(\"Loss =\",(loss*100))"
      ]
    },
    {
      "cell_type": "code",
      "execution_count": null,
      "metadata": {
        "id": "JgmLdav7Jlia"
      },
      "outputs": [],
      "source": [
        "model3.fit(x_train,y_train,epochs=50,batch_size=30)"
      ]
    },
    {
      "cell_type": "code",
      "execution_count": null,
      "metadata": {
        "id": "gZm0O4eYG7ZZ"
      },
      "outputs": [],
      "source": [
        "model3.summary()"
      ]
    },
    {
      "cell_type": "code",
      "execution_count": null,
      "metadata": {
        "id": "zUnyp6M7KqLd"
      },
      "outputs": [],
      "source": [
        "data={\"Parameters used\":[\"Xavier Initialiser\",\"Batch Normalisation\",\"Conv1D with kernal size 2 & filter 64\",\"Total number of NEURONS :34\"],\"Regularisation_Methods\":[\"Without Regularisation\",\"Dropout\",\"L1 and L2 \",\"Early Stopping\"],\"Epochs\":[50,50,50,50],\"Optimizer used\":[\"adam\",\"adam\",\"adam\",\"adam\"],\"Loss\":[38.38,31.522,38.067,38.20],\"Accuracy\":[86.79,88.040,87.319,86.91]}\n",
        "df=pd.DataFrame(data)\n",
        "df"
      ]
    },
    {
      "cell_type": "markdown",
      "metadata": {
        "id": "VkOAmM1uuWwD"
      },
      "source": [
        "# Therefore Dropuout Regularisation method gives less loss and high accuracy than other regularisation methods.\n",
        "\n",
        "Using this model we can hypertune the parameters"
      ]
    },
    {
      "cell_type": "markdown",
      "metadata": {
        "id": "2Ed-q22puWwJ"
      },
      "source": [
        "# Hypertunning the model with Dropout regularisation to improve the accuracy and reduce the loss"
      ]
    },
    {
      "cell_type": "code",
      "execution_count": null,
      "metadata": {
        "id": "DeSwsWuLVIHm"
      },
      "outputs": [],
      "source": [
        "from tensorflow.keras import activations\n",
        "def build_classifer(optimizer,kernel_initializer,dropout,loss,learning_rate=0.001):\n",
        "  model1=Sequential()\n",
        "   #Xavier intialiser for weights\n",
        "  model1.add(Conv1D(64,2,activation='relu',kernel_initializer=kernel_initializer,input_shape=(100,1),use_bias=False))  #The filter (64)--the number of output filters in convention layer in CNN,kernal size=height*width\n",
        "  model1.add(Dropout(0.5))\n",
        "  model1.add(BatchNormalization())\n",
        "  model1.add(Dense(32,activation=\"relu\"))\n",
        "  model1.add(Dropout(0.2))\n",
        "  model1.add(BatchNormalization())\n",
        "  model1.add(MaxPooling1D())\n",
        "  model1.add(Flatten())\n",
        "  model1.add(Dense(2,activation=\"softmax\"))\n",
        "  model1.compile(optimizer=optimizer,loss='sparse_categorical_crossentropy',metrics=['accuracy'])\n",
        "  return model1\n",
        "from tensorflow.keras.wrappers.scikit_learn import KerasClassifier\n",
        "model=KerasClassifier(build_fn=build_classifer,verbose=0,epochs=50)\n",
        "kernel_initializer=['uniform', 'lecun_uniform', 'normal', 'zero', 'glorot_normal', 'glorot_uniform', 'he_normal', 'he_uniform']\n",
        "optimizer= [\"Adam\",\"Adagrad\",\"sgd\"]\n",
        "loss= [\"binary_crossentropy\",\"mean_squared_error\",\"mean_absolute_error\"]\n",
        "dropout= [0, 0.40, 0.8]\n",
        "params = dict(optimizer=optimizer,kernel_initializer=kernel_initializer,dropout=dropout,loss=loss)"
      ]
    },
    {
      "cell_type": "code",
      "execution_count": null,
      "metadata": {
        "id": "8diiXuabuWwJ"
      },
      "outputs": [],
      "source": [
        "from sklearn.model_selection import GridSearchCV\n",
        "gs=GridSearchCV(estimator=model, param_grid=params,scoring='accuracy',n_jobs=-1, cv=10)\n",
        "gs = gs.fit(x_train, y_train)"
      ]
    },
    {
      "cell_type": "code",
      "execution_count": null,
      "metadata": {
        "id": "9LHiCUGHuWwJ"
      },
      "outputs": [],
      "source": [
        "best_params=gs.best_params_\n",
        "best_params"
      ]
    },
    {
      "cell_type": "code",
      "execution_count": null,
      "metadata": {
        "id": "bHq0HPBFzvDA"
      },
      "outputs": [],
      "source": [
        "decay_rate=0.01\n",
        "learning_rate=0.001\n",
        "epochs=100\n",
        "def exp_decay(epoch):\n",
        "  lrate=learning_rate*np.exp(-decay_rate*epochs)\n",
        "  return lrate\n",
        "\n",
        "loss_history=History()\n",
        "lr_rate=LearningRateScheduler(exp_decay)\n",
        "callback_list=[loss_history,lr_rate]\n",
        "exponential_decay_model_history=model1.fit(x_train,y_train,epochs=epochs,callbacks=callback_list,verbose=1,validation_data=(x_test,y_test))"
      ]
    },
    {
      "cell_type": "code",
      "execution_count": null,
      "metadata": {
        "id": "O-Em2BN7uWwK"
      },
      "outputs": [],
      "source": []
    }
  ],
  "metadata": {
    "colab": {
      "provenance": [],
      "include_colab_link": true
    },
    "kernelspec": {
      "display_name": "Python 3 (ipykernel)",
      "language": "python",
      "name": "python3"
    },
    "language_info": {
      "codemirror_mode": {
        "name": "ipython",
        "version": 3
      },
      "file_extension": ".py",
      "mimetype": "text/x-python",
      "name": "python",
      "nbconvert_exporter": "python",
      "pygments_lexer": "ipython3",
      "version": "3.9.7"
    }
  },
  "nbformat": 4,
  "nbformat_minor": 0
}