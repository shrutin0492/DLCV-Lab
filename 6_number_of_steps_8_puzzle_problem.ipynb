{
  "nbformat": 4,
  "nbformat_minor": 0,
  "metadata": {
    "colab": {
      "provenance": [],
      "include_colab_link": true
    },
    "kernelspec": {
      "name": "python3",
      "display_name": "Python 3"
    },
    "language_info": {
      "name": "python"
    }
  },
  "cells": [
    {
      "cell_type": "markdown",
      "metadata": {
        "id": "view-in-github",
        "colab_type": "text"
      },
      "source": [
        "<a href=\"https://colab.research.google.com/github/shrutin11/Deep-Learning-and-Computer-Vision-Lab/blob/main/6_number_of_steps_8_puzzle_problem.ipynb\" target=\"_parent\"><img src=\"https://colab.research.google.com/assets/colab-badge.svg\" alt=\"Open In Colab\"/></a>"
      ]
    },
    {
      "cell_type": "code",
      "source": [
        "def solve(board):\n",
        "    visited = {}\n",
        "    flatten = []\n",
        "    for i in range(len(board)):\n",
        "        flatten += board[i]\n",
        "    flatten = tuple(flatten)\n",
        "\n",
        "    visited[flatten] = 0\n",
        "\n",
        "    if flatten == (0, 1, 2, 3, 4, 5, 6, 7, 8):\n",
        "        return 0\n",
        "\n",
        "    return get_paths(visited, [flatten])\n",
        "\n",
        "def get_paths(visited, queue):\n",
        "    cnt = 0\n",
        "    while True:\n",
        "        if len(queue) == 0:\n",
        "            return -1\n",
        "\n",
        "        next_queue = []\n",
        "        for node in queue:\n",
        "            next_moves = find_next(node)\n",
        "            for move in next_moves:\n",
        "                if move not in visited:\n",
        "                    visited[move] = cnt + 1\n",
        "                    next_queue.append(move)\n",
        "                if move == (0, 1, 2, 3, 4, 5, 6, 7, 8):\n",
        "                    return cnt + 1\n",
        "        queue = next_queue\n",
        "        cnt += 1\n",
        "\n",
        "def find_next(node):\n",
        "    moves = {\n",
        "        0: [1, 3],\n",
        "        1: [0, 2, 4],\n",
        "        2: [1, 5],\n",
        "        3: [0, 4, 6],\n",
        "        4: [1, 3, 5, 7],\n",
        "        5: [2, 4, 8],\n",
        "        6: [3, 7],\n",
        "        7: [4, 6, 8],\n",
        "        8: [5, 7],\n",
        "    }\n",
        "    results = []\n",
        "    pos_0 = node.index(0)\n",
        "    for move in moves[pos_0]:\n",
        "        new_node = list(node)\n",
        "        new_node[move], new_node[pos_0] = new_node[pos_0], new_node[move]\n",
        "        results.append(tuple(new_node))\n",
        "\n",
        "    return results\n",
        "\n",
        "matrix = [\n",
        "    [3, 1, 2],\n",
        "    [4, 7, 5],\n",
        "    [6, 8, 0]\n",
        "]\n",
        "print(\"Number of steps to solve the 8 puzzle problem : \",solve(matrix))\n"
      ],
      "metadata": {
        "colab": {
          "base_uri": "https://localhost:8080/"
        },
        "id": "i2url1Ib-geD",
        "outputId": "e046f6b2-b7e7-47ba-84fe-3eb22c34cc63"
      },
      "execution_count": 1,
      "outputs": [
        {
          "output_type": "stream",
          "name": "stdout",
          "text": [
            "Number of steps to solve the 8 puzzle problem :  4\n"
          ]
        }
      ]
    }
  ]
}