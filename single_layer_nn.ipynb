{
  "nbformat": 4,
  "nbformat_minor": 0,
  "metadata": {
    "colab": {
      "provenance": [],
      "authorship_tag": "ABX9TyPjXgHa9L2/9fw2jvLWKLqD",
      "include_colab_link": true
    },
    "kernelspec": {
      "name": "python3",
      "display_name": "Python 3"
    },
    "language_info": {
      "name": "python"
    }
  },
  "cells": [
    {
      "cell_type": "markdown",
      "metadata": {
        "id": "view-in-github",
        "colab_type": "text"
      },
      "source": [
        "<a href=\"https://colab.research.google.com/github/shrutin11/Deep-Learning-and-Computer-Vision-Lab/blob/main/single_layer_nn.ipynb\" target=\"_parent\"><img src=\"https://colab.research.google.com/assets/colab-badge.svg\" alt=\"Open In Colab\"/></a>"
      ]
    },
    {
      "cell_type": "code",
      "execution_count": 3,
      "metadata": {
        "colab": {
          "base_uri": "https://localhost:8080/"
        },
        "id": "T9shBc7Nwfi_",
        "outputId": "d0a89e85-4813-42db-8960-04ee506abd76"
      },
      "outputs": [
        {
          "output_type": "stream",
          "name": "stdout",
          "text": [
            "Random weights at the start of training\n",
            "[[-0.16595599]\n",
            " [ 0.44064899]\n",
            " [-0.99977125]]\n",
            "New weights after training\n",
            "[[5.39428067]\n",
            " [0.19482422]\n",
            " [0.34317086]]\n",
            "Testing network on new example ->\n",
            "[0.99995873]\n"
          ]
        }
      ],
      "source": [
        "# Python program to implement a single-neuron neural network\n",
        "\n",
        "# Import all necessary libraries\n",
        "from numpy import exp, array, random, dot, tanh\n",
        "\n",
        "# Class to create a neural network with single neuron\n",
        "class NeuralNetwork:\n",
        "    def __init__(self):\n",
        "        # Using seed to make sure it will generate the same weights in every run\n",
        "        random.seed(1)\n",
        "\n",
        "        # 3x1 Weight matrix\n",
        "        self.weight_matrix = 2 * random.random((3, 1)) - 1\n",
        "\n",
        "    # Tanh as activation function\n",
        "    def tanh(self, x):\n",
        "        return tanh(x)\n",
        "\n",
        "    # Derivative of tanh function, needed to calculate the gradients\n",
        "    def tanh_derivative(self, x):\n",
        "        return 1.0 - tanh(x) ** 2\n",
        "\n",
        "    # Forward propagation\n",
        "    def forward_propagation(self, inputs):\n",
        "        return self.tanh(dot(inputs, self.weight_matrix))\n",
        "\n",
        "    # Training the neural network\n",
        "    def train(self, train_inputs, train_outputs, num_train_iterations):\n",
        "        # Number of iterations we want to perform for this set of input\n",
        "        for iteration in range(num_train_iterations):\n",
        "            output = self.forward_propagation(train_inputs)\n",
        "\n",
        "            # Calculate the error in the output\n",
        "            error = train_outputs - output\n",
        "\n",
        "            # Multiply the error by input and then by gradient of tanh function\n",
        "            # to calculate the adjustment needs to be made in weights\n",
        "            adjustment = dot(train_inputs.T, error * self.tanh_derivative(output))\n",
        "\n",
        "            # Adjust the weight matrix\n",
        "            self.weight_matrix += adjustment\n",
        "\n",
        "# Driver code\n",
        "if __name__ == \"__main__\":\n",
        "    neural_network = NeuralNetwork()\n",
        "\n",
        "    print('Random weights at the start of training')\n",
        "    print(neural_network.weight_matrix)\n",
        "\n",
        "    train_inputs = array([[0, 0, 1],\n",
        "                          [1, 1, 1],\n",
        "                          [1, 0, 1],\n",
        "                          [0, 1, 1]])\n",
        "    train_outputs = array([[0], [1], [1], [0]])\n",
        "\n",
        "    neural_network.train(train_inputs, train_outputs, 10000)\n",
        "\n",
        "    print('New weights after training')\n",
        "    print(neural_network.weight_matrix)\n",
        "\n",
        "    # Test the neural network with a new situation\n",
        "    print(\"Testing network on new example ->\")\n",
        "    print(neural_network.forward_propagation(array([1, 0, 0])))\n"
      ]
    }
  ]
}