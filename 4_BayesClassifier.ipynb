{
  "nbformat": 4,
  "nbformat_minor": 0,
  "metadata": {
    "colab": {
      "provenance": [],
      "include_colab_link": true
    },
    "kernelspec": {
      "name": "python3",
      "display_name": "Python 3"
    },
    "language_info": {
      "name": "python"
    }
  },
  "cells": [
    {
      "cell_type": "markdown",
      "metadata": {
        "id": "view-in-github",
        "colab_type": "text"
      },
      "source": [
        "<a href=\"https://colab.research.google.com/github/shrutin0492/Deep-Learning-and-Computer-Vision-Lab/blob/main/4_BayesClassifier.ipynb\" target=\"_parent\"><img src=\"https://colab.research.google.com/assets/colab-badge.svg\" alt=\"Open In Colab\"/></a>"
      ]
    },
    {
      "cell_type": "code",
      "source": [
        "from google.colab import drive\n",
        "drive.mount('/content/drive')"
      ],
      "metadata": {
        "colab": {
          "base_uri": "https://localhost:8080/"
        },
        "id": "enoYEnluqzfW",
        "outputId": "15b24b20-4b23-4e18-d6a1-18191c8028e4"
      },
      "execution_count": 1,
      "outputs": [
        {
          "output_type": "stream",
          "name": "stdout",
          "text": [
            "Mounted at /content/drive\n"
          ]
        }
      ]
    },
    {
      "cell_type": "code",
      "source": [
        "import nltk\n",
        "from nltk.tokenize import word_tokenize\n",
        "from nltk.corpus import stopwords\n",
        "from nltk.stem import PorterStemmer\n",
        "from nltk import NaiveBayesClassifier\n",
        "from nltk.classify import accuracy\n",
        "\n",
        "# Download necessary resources\n",
        "nltk.download('punkt')\n",
        "nltk.download('stopwords')\n",
        "\n",
        "# Preprocessing function\n",
        "def preprocess(text):\n",
        "    tokens = word_tokenize(text.lower())  # Tokenization and lowercase\n",
        "    stop_words = set(stopwords.words('english'))\n",
        "    tokens = [word for word in tokens if word.isalpha() and word not in stop_words]  # Removing stopwords and non-alphabetic tokens\n",
        "    stemmer = PorterStemmer()\n",
        "    tokens = [stemmer.stem(word) for word in tokens]  # Stemming\n",
        "    return dict([(token, True) for token in tokens])\n",
        "\n",
        "# Read dataset from a text file\n",
        "dataset_file = \"/content/drive/MyDrive/dlcv_lab/Exp4/dataset.txt\"  # Path to your dataset file\n",
        "dataset = []\n",
        "with open(dataset_file, 'r') as file:\n",
        "    for line in file:\n",
        "        text, label = line.strip().split(\",\")\n",
        "        dataset.append((text, label))\n",
        "\n",
        "# Preprocess the dataset\n",
        "preprocessed_dataset = [(preprocess(text), label) for text, label in dataset]\n",
        "\n",
        "# Split data into training and testing sets\n",
        "train_data = preprocessed_dataset[:90]\n",
        "test_data = preprocessed_dataset[10:]\n",
        "\n",
        "# Train the Naive Bayes Classifier\n",
        "classifier = NaiveBayesClassifier.train(train_data)\n",
        "\n",
        "# Test the classifier\n",
        "print(\"Accuracy:\", accuracy(classifier, test_data))\n",
        "\n",
        "# Test a new text segment\n",
        "text_to_classify = \"The product exceeded my expectations\"  # You can change this text to test different segments\n",
        "preprocessed_text = preprocess(text_to_classify)\n",
        "print(\"Classification:\", classifier.classify(preprocessed_text))\n"
      ],
      "metadata": {
        "colab": {
          "base_uri": "https://localhost:8080/"
        },
        "id": "sZP5wa25U1XW",
        "outputId": "835ec302-1698-4d8a-94c3-546afb62728a"
      },
      "execution_count": 2,
      "outputs": [
        {
          "output_type": "stream",
          "name": "stderr",
          "text": [
            "[nltk_data] Downloading package punkt to /root/nltk_data...\n",
            "[nltk_data]   Unzipping tokenizers/punkt.zip.\n",
            "[nltk_data] Downloading package stopwords to /root/nltk_data...\n",
            "[nltk_data]   Unzipping corpora/stopwords.zip.\n"
          ]
        },
        {
          "output_type": "stream",
          "name": "stdout",
          "text": [
            "Accuracy: 0.9333333333333333\n",
            "Classification: positive\n"
          ]
        }
      ]
    }
  ]
}