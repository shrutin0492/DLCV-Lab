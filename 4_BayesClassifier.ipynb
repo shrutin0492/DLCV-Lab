{
  "nbformat": 4,
  "nbformat_minor": 0,
  "metadata": {
    "colab": {
      "provenance": [],
      "include_colab_link": true
    },
    "kernelspec": {
      "name": "python3",
      "display_name": "Python 3"
    },
    "language_info": {
      "name": "python"
    }
  },
  "cells": [
    {
      "cell_type": "markdown",
      "metadata": {
        "id": "view-in-github",
        "colab_type": "text"
      },
      "source": [
        "<a href=\"https://colab.research.google.com/github/shrutin0492/Deep-Learning-and-Computer-Vision-Lab/blob/main/4_BayesClassifier.ipynb\" target=\"_parent\"><img src=\"https://colab.research.google.com/assets/colab-badge.svg\" alt=\"Open In Colab\"/></a>"
      ]
    },
    {
      "cell_type": "code",
      "source": [
        "from google.colab import drive\n",
        "drive.mount('/content/drive')"
      ],
      "metadata": {
        "colab": {
          "base_uri": "https://localhost:8080/"
        },
        "id": "enoYEnluqzfW",
        "outputId": "cabb95cb-6443-4e33-b274-10a69b8a4903"
      },
      "execution_count": 3,
      "outputs": [
        {
          "output_type": "stream",
          "name": "stdout",
          "text": [
            "Drive already mounted at /content/drive; to attempt to forcibly remount, call drive.mount(\"/content/drive\", force_remount=True).\n"
          ]
        }
      ]
    },
    {
      "cell_type": "code",
      "source": [
        "#importing necessary libraries\n",
        "import nltk\n",
        "from nltk.tokenize import word_tokenize\n",
        "from nltk.corpus import stopwords\n",
        "from nltk.stem import PorterStemmer\n",
        "from nltk import NaiveBayesClassifier\n",
        "from nltk.classify import accuracy\n",
        "\n",
        "# Download necessary resources\n",
        "nltk.download('punkt')\n",
        "nltk.download('stopwords')\n",
        "\n",
        "# Preprocessing function\n",
        "def preprocess(text):\n",
        "    tokens = word_tokenize(text.lower())  # Tokenization and lowercase\n",
        "    stop_words = set(stopwords.words('english'))\n",
        "    tokens = [word for word in tokens if word.isalpha() and word not in stop_words]  # Removing stopwords and non-alphabetic tokens\n",
        "    stemmer = PorterStemmer()\n",
        "    tokens = [stemmer.stem(word) for word in tokens]  # Stemming\n",
        "    return dict([(token, True) for token in tokens])\n",
        "\n",
        "# Read dataset from a text file\n",
        "dataset_file = \"/content/drive/MyDrive/dlcv_lab/Exp4/dataset.txt\"  # Path to your dataset file\n",
        "dataset = []\n",
        "with open(dataset_file, 'r') as file:\n",
        "    for line in file:\n",
        "        text, label = line.strip().split(\",\")\n",
        "        dataset.append((text, label))\n",
        "\n",
        "# Preprocess the dataset\n",
        "preprocessed_dataset = [(preprocess(text), label) for text, label in dataset]\n",
        "\n",
        "# Split data into training and testing sets\n",
        "train_data = preprocessed_dataset[:90]\n",
        "test_data = preprocessed_dataset[10:]\n",
        "\n",
        "# Train the Naive Bayes Classifier\n",
        "classifier = NaiveBayesClassifier.train(train_data)\n",
        "\n",
        "# Test the classifier\n",
        "print(\"Accuracy:\", accuracy(classifier, test_data))\n",
        "\n",
        "# Test a new text segment\n",
        "text_to_classify = \"The product exceeded my expectations\"  # You can change this text to test different segments\n",
        "preprocessed_text = preprocess(text_to_classify)\n",
        "print(\"Classification:\", classifier.classify(preprocessed_text))\n"
      ],
      "metadata": {
        "colab": {
          "base_uri": "https://localhost:8080/"
        },
        "id": "sZP5wa25U1XW",
        "outputId": "96181402-7147-4db3-d142-ef388501b820"
      },
      "execution_count": 4,
      "outputs": [
        {
          "output_type": "stream",
          "name": "stdout",
          "text": [
            "Accuracy: 0.9333333333333333\n",
            "Classification: positive\n"
          ]
        },
        {
          "output_type": "stream",
          "name": "stderr",
          "text": [
            "[nltk_data] Downloading package punkt to /root/nltk_data...\n",
            "[nltk_data]   Package punkt is already up-to-date!\n",
            "[nltk_data] Downloading package stopwords to /root/nltk_data...\n",
            "[nltk_data]   Package stopwords is already up-to-date!\n"
          ]
        }
      ]
    },
    {
      "cell_type": "markdown",
      "source": [
        "# Increasing Accuracy with Random Forest"
      ],
      "metadata": {
        "id": "KoMBXFxc00W6"
      }
    },
    {
      "cell_type": "code",
      "source": [
        "from sklearn.ensemble import RandomForestClassifier\n",
        "from sklearn.feature_extraction import DictVectorizer\n",
        "\n",
        "\n",
        "vectorizer = DictVectorizer()\n",
        "X_train = vectorizer.fit_transform([text for text, label in train_data])\n",
        "y_train = [label for text, label in train_data]\n",
        "rf_classifier = RandomForestClassifier(n_estimators=100, random_state=42)\n",
        "rf_classifier.fit(X_train, y_train)\n",
        "X_test = vectorizer.transform([text for text, label in test_data])\n",
        "y_test = [label for text, label in test_data]\n",
        "accuracy = rf_classifier.score(X_test, y_test)\n",
        "print(\"Accuracy:\", accuracy)\n",
        "def preprocess(text):\n",
        "    tokens = word_tokenize(text.lower())\n",
        "    stop_words = set(stopwords.words('english'))\n",
        "    tokens = [word for word in tokens if word.isalpha() and word not in stop_words]\n",
        "    stemmer = PorterStemmer()\n",
        "    tokens = [stemmer.stem(word) for word in tokens]\n",
        "    return {token: True for token in tokens}\n",
        "text_to_classify = \"The product exceeded my expectations\"\n",
        "preprocessed_text = preprocess(text_to_classify)\n",
        "X_new = vectorizer.transform([preprocessed_text])\n",
        "classification = rf_classifier.predict(X_new)[0]\n",
        "print(\"Classification:\", classification)"
      ],
      "metadata": {
        "colab": {
          "base_uri": "https://localhost:8080/"
        },
        "id": "UFHS0L1Mx1fg",
        "outputId": "6c0b7537-7e64-477c-8901-8a79be773571"
      },
      "execution_count": 29,
      "outputs": [
        {
          "output_type": "stream",
          "name": "stdout",
          "text": [
            "Accuracy: 0.9777777777777777\n",
            "Classification: positive\n"
          ]
        }
      ]
    },
    {
      "cell_type": "markdown",
      "source": [
        "Next Steps:\n",
        "- accuracy >0.98\n",
        "- add more preprocessing techniques\n",
        "- use different classifiers"
      ],
      "metadata": {
        "id": "uAESdTXq05Z-"
      }
    }
  ]
}